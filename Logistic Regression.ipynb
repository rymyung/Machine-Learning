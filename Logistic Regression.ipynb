{
 "cells": [
  {
   "cell_type": "markdown",
   "metadata": {},
   "source": [
    "Logistic Regression은 이름에서 Regression이 들어간 것처럼, 회귀 분석 방법으로 분류 문제에 접근한다. 일반적인 회귀 분석의 목표와 동일하게 종속 변수와 독립 변수 간의 관계를 선형 함수로 나타내어 종속 변수의 발생 확률을 예측하는 분류 기법이다."
   ]
  },
  {
   "cell_type": "markdown",
   "metadata": {},
   "source": [
    "# 선형 회귀(Linear Regression)\n",
    "선형 회귀의 식은 다음과 같다.\n",
    "$$H(X) = W^TX + b = w_1x_1 + w_2x_2 + \\cdots + w_kx_k + b$$\n",
    "선형 회귀는 독립 변수들과 종속 변수 간의 선형관계를 가정하고 이를 잘 나타내는 회귀계수 $W$를 데이터로부터 추정한다. 선형 회귀는 일반적으로 수치(Continuous) 예측 문제에 사용한다. 분류 모델에 사용할 경우 불가능한 것은 아니지만 예측 결과의 범위가 [$-\\infty$, $\\infty$]로 [0, 1]의 범위를 넘어가게 된다."
   ]
  },
  {
   "cell_type": "code",
   "execution_count": 13,
   "metadata": {},
   "outputs": [
    {
     "data": {},
     "metadata": {},
     "output_type": "display_data"
    },
    {
     "data": {
      "image/png": "[encoded data removed]",
      "text/plain": [
       "plot without title"
      ]
     },
     "metadata": {},
     "output_type": "display_data"
    }
   ],
   "source": [
    "# Load library\n",
    "library(ggplot2)\n",
    "\n",
    "# Generate data\n",
    "x <- seq(-5, 6, 0.5)\n",
    "y <- c(rep(0, 12), rep(1, 11))\n",
    "data <- data.frame(x = x, y = y)\n",
    "\n",
    "# Train Linear Regression\n",
    "lm.fit <- lm(y ~ x, data)\n",
    "\n",
    "# Plot\n",
    "ggplot(data, aes(x, y)) + geom_point() + \n",
    "  geom_abline(slope = lm.fit$coefficients[2], intercept = lm.fit$coefficients[1]) +\n",
    "  ylim(c(-0.2, 1.2)) +\n",
    "  geom_label(label = \"[0, 1] 범위 초과\", x = -4, y = -0.1, col = \"red\", size = 5) +\n",
    "  geom_label(label = \"[0, 1] 범위 초과\", x = 4.5, y = 1.1, col = \"red\", size = 5) +\n",
    "  geom_hline(yintercept = 0, col = \"red\") + geom_hline(yintercept = 1, col = \"red\") +\n",
    "  theme_bw()"
   ]
  },
  {
   "cell_type": "markdown",
   "metadata": {},
   "source": [
    "이러한 문제를 해결하기 위해 결과값인 $H(X)$를 [0, 1] 범위로 갖게 해주는 연결 함수가 필요하다."
   ]
  },
  {
   "cell_type": "markdown",
   "metadata": {},
   "source": [
    "# 시그모이드 함수(Sigmoid Function)\n",
    "이항 분류 문제에 적합한 함수로 시그모이드(Sigmoid) 함수가 있다. 그래프의 모양은 아래와 같이 s자 형태로 x = 0을 중심으로 $-\\infty$로 갈수록 0으로 수렴하고 $\\infty$로 갈수록 1에 수렴한다. 즉, 모든 $x$값에 대해 [0, 1] 범위의 값을 갖게 해준다.\n",
    "$$g(z) = \\frac{1}{1 + e^{-z}} = \\frac{e^z}{1 + e^z}$$"
   ]
  },
  {
   "cell_type": "code",
   "execution_count": 14,
   "metadata": {},
   "outputs": [
    {
     "data": {},
     "metadata": {},
     "output_type": "display_data"
    },
    {
     "data": {
      "image/png": "[encoded data removed]",
      "text/plain": [
       "plot without title"
      ]
     },
     "metadata": {},
     "output_type": "display_data"
    }
   ],
   "source": [
    "# Generate data\n",
    "x2 <- seq(-5, 6, 0.5)\n",
    "y2 <- 1/(1 + exp(-x2)) # Sigmoid function\n",
    "data2 <- data.frame(x = x2, y = y2)\n",
    "\n",
    "# Plot\n",
    "ggplot(data2, aes(x, y)) + geom_line() + \n",
    "  geom_hline(yintercept = 0, col = \"red\") + geom_hline(yintercept = 1, col = \"red\") + theme_bw()"
   ]
  },
  {
   "cell_type": "markdown",
   "metadata": {},
   "source": [
    "이 시그모이드 함수 $g(z)$를 사용하여 $H(X) = W^TX + b$를  $[-\\infty, \\infty]$ 범위에서 [0, 1] 범위로 바꾸어준다.\n",
    "$$g(z) = g(W^TX + b) = \\frac{1}{1 + e^{-(W^TX+b)}}$$"
   ]
  },
  {
   "cell_type": "markdown",
   "metadata": {},
   "source": [
    "승산(Odds)과 로짓 변환(logit transformation)을 통해 좀 더 자세하게 살펴보자."
   ]
  },
  {
   "cell_type": "markdown",
   "metadata": {},
   "source": [
    "## 승산(Odds)\n",
    "승산(Odds)란 성공 확률 / 실패 확률을 나타내고 아래와 같이 표현된다.\n",
    "$$\\text{Odds} = \\frac{p(y=1 | x)}{p(y=0 | x)} = \\frac{p(y=1|x)}{1-p(y=1|x)} = \\frac{p}{1-p}$$"
   ]
  },
  {
   "cell_type": "markdown",
   "metadata": {},
   "source": [
    "여기서 $p = p(y=1|x)$는 성공 확률을 나타내므로 [0, 1] 사이의 값을 가진다. 따라서 위의 Odds는 [0, $\\infty$] 사이의 값을 갖게된다.\n",
    "$$\\text{Odds} = \\begin{cases} \\infty, & \\text{if } p = 1 \\\\ 0, & \\text{if } p = 0 \\end{cases}$$"
   ]
  },
  {
   "cell_type": "markdown",
   "metadata": {},
   "source": [
    "## 로짓 변환(logit transformation)\n",
    "로짓 변환은 승산(Odds)에 log를 취한 값으로 아래와 같이 표현된다.\n",
    "$$\\ln (\\text{Odds}) = \\ln \\frac{p}{1-p}$$"
   ]
  },
  {
   "cell_type": "markdown",
   "metadata": {},
   "source": [
    "Odds가 [0, $\\infty$] 사이의 값을 가지므로 자연 로그를 취한 값의 범위는 [-$\\infty$, $\\infty$]이 된다.\n",
    "$$\\ln (\\text{Odds}) = \\begin{cases} \\infty, & \\text{if } \\text{Odds} = \\infty \\\\ -\\infty, & \\text{if } \\text{Odds} = 0\\end{cases}$$"
   ]
  },
  {
   "cell_type": "markdown",
   "metadata": {},
   "source": [
    "결국 확률 $p = p(y=1|x)$에 대해 승산 비를 구하고 거기에 자연 로그를 취했더니 [0, 1] 범위에서 [-$\\infty$, $\\infty$] 범위로 확장되는 함수가 만들어졌다. 이 함수를 이용하여 확률 $p$를 찾아야 하므로, 이 함수를 $p$에 대한 함수로 변환시키면 다음과 같다."
   ]
  },
  {
   "cell_type": "markdown",
   "metadata": {},
   "source": [
    "$$\\ln \\frac{p}{1-p} = W^TX + b$$"
   ]
  },
  {
   "cell_type": "markdown",
   "metadata": {},
   "source": [
    "$$\\frac{p}{1-p} = e^{W^TX + b}$$"
   ]
  },
  {
   "cell_type": "markdown",
   "metadata": {},
   "source": [
    "$$\\frac{1-p}{p} = \\frac{1}{p} - 1 = \\frac{1}{e^{W^TX + b}}$$"
   ]
  },
  {
   "cell_type": "markdown",
   "metadata": {},
   "source": [
    "$$\\frac{1}{p} = \\frac{1}{e^{W^TX + b}} + 1 = \\frac{1 + e^{W^TX + b}}{e^{W^TX + b}}$$"
   ]
  },
  {
   "cell_type": "markdown",
   "metadata": {},
   "source": [
    "$$p = \\frac{e^{W^X + b}}{1 + e^{W^TX + b}} = \\frac{1}{1 + e^{-(W^TX + b)}}$$"
   ]
  },
  {
   "cell_type": "markdown",
   "metadata": {},
   "source": [
    "# 회귀 계수 추정\n",
    "선형 회귀와 마찬가지로 로지스틱 회귀에서도 회귀 계수를 추정하기 위해 경사하강법(Gradient Descent)을 사용한다. 하지만 선형 회귀에서 사용한 비용 함수(cost function)를 사용하게 될 경우, optimization problem이 non-convex가 되어서 Local Optima에 빠질 수 있다."
   ]
  },
  {
   "cell_type": "markdown",
   "metadata": {},
   "source": [
    "따라서 로지스틱 회귀에서는 다음과 같은 손실 함수를 사용한다.\n",
    "$$\\text{Loss Function} : L(\\hat{y}, y) = -(y\\log\\hat{y} + (1-y)\\log(1-\\hat{y}))$$"
   ]
  },
  {
   "cell_type": "markdown",
   "metadata": {},
   "source": [
    "손실 함수가 작을 수록 좋으므로 실제 값($y$)에 따라 손실 함수가 다음과 같이 변한다.\n",
    "$$\\text{Loss Function} = \\begin{cases} -\\log \\hat{y}, & \\text{if } y = 1 \\rightarrow \\text{가능한 큰 }\\hat{y}(=1)\\text{을 원함} \\\\ -\\log (1-\\hat{y}), & \\text{if } y = 0 \\rightarrow \\text{가능한 작은 }\\hat{y}(=0)\\text{을 원함} \\end{cases}$$"
   ]
  },
  {
   "cell_type": "markdown",
   "metadata": {},
   "source": [
    "위의 손실 함수는 single training sample에 대한 것이므로, 전체 trianing sample에 대한 비용 함수는 다음과 같다.\n",
    "$$\\text{Cost Function} : J(W, b) = \\frac{1}{m} \\sum L(\\hat{y}, y)$$ \n",
    "$$\\text{ m = training sample 수}$$"
   ]
  },
  {
   "cell_type": "markdown",
   "metadata": {},
   "source": [
    "# 실습"
   ]
  },
  {
   "cell_type": "code",
   "execution_count": 6,
   "metadata": {},
   "outputs": [
    {
     "name": "stdout",
     "output_type": "stream",
     "text": [
      "'data.frame':\t400 obs. of  4 variables:\n",
      " $ admit: int  0 1 1 1 0 1 1 0 1 0 ...\n",
      " $ gre  : int  380 660 800 640 520 760 560 400 540 700 ...\n",
      " $ gpa  : num  3.61 3.67 4 3.19 2.93 3 2.98 3.08 3.39 3.92 ...\n",
      " $ rank : int  3 3 1 4 4 2 1 2 3 2 ...\n"
     ]
    },
    {
     "data": {
      "text/html": [
       "<table>\n",
       "<thead><tr><th scope=col>admit</th><th scope=col>gre</th><th scope=col>gpa</th><th scope=col>rank</th></tr></thead>\n",
       "<tbody>\n",
       "\t<tr><td>0   </td><td>380 </td><td>3.61</td><td>3   </td></tr>\n",
       "\t<tr><td>1   </td><td>660 </td><td>3.67</td><td>3   </td></tr>\n",
       "\t<tr><td>1   </td><td>800 </td><td>4.00</td><td>1   </td></tr>\n",
       "\t<tr><td>1   </td><td>640 </td><td>3.19</td><td>4   </td></tr>\n",
       "\t<tr><td>0   </td><td>520 </td><td>2.93</td><td>4   </td></tr>\n",
       "\t<tr><td>1   </td><td>760 </td><td>3.00</td><td>2   </td></tr>\n",
       "</tbody>\n",
       "</table>\n"
      ],
      "text/latex": [
       "\\begin{tabular}{r|llll}\n",
       " admit & gre & gpa & rank\\\\\n",
       "\\hline\n",
       "\t 0    & 380  & 3.61 & 3   \\\\\n",
       "\t 1    & 660  & 3.67 & 3   \\\\\n",
       "\t 1    & 800  & 4.00 & 1   \\\\\n",
       "\t 1    & 640  & 3.19 & 4   \\\\\n",
       "\t 0    & 520  & 2.93 & 4   \\\\\n",
       "\t 1    & 760  & 3.00 & 2   \\\\\n",
       "\\end{tabular}\n"
      ],
      "text/markdown": [
       "\n",
       "admit | gre | gpa | rank | \n",
       "|---|---|---|---|---|---|\n",
       "| 0    | 380  | 3.61 | 3    | \n",
       "| 1    | 660  | 3.67 | 3    | \n",
       "| 1    | 800  | 4.00 | 1    | \n",
       "| 1    | 640  | 3.19 | 4    | \n",
       "| 0    | 520  | 2.93 | 4    | \n",
       "| 1    | 760  | 3.00 | 2    | \n",
       "\n",
       "\n"
      ],
      "text/plain": [
       "  admit gre gpa  rank\n",
       "1 0     380 3.61 3   \n",
       "2 1     660 3.67 3   \n",
       "3 1     800 4.00 1   \n",
       "4 1     640 3.19 4   \n",
       "5 0     520 2.93 4   \n",
       "6 1     760 3.00 2   "
      ]
     },
     "metadata": {},
     "output_type": "display_data"
    }
   ],
   "source": [
    "# Load library\n",
    "library(caret)\n",
    "\n",
    "# Load data\n",
    "logit_data <- read.csv(\"https://stats.idre.ucla.edu/stat/data/binary.csv\")\n",
    "str(logit_data)\n",
    "head(logit_data)"
   ]
  },
  {
   "cell_type": "markdown",
   "metadata": {},
   "source": [
    "## Training"
   ]
  },
  {
   "cell_type": "code",
   "execution_count": 7,
   "metadata": {
    "scrolled": false
   },
   "outputs": [
    {
     "data": {
      "text/plain": [
       "\n",
       "Call:\n",
       "glm(formula = admit ~ ., family = \"binomial\", data = train)\n",
       "\n",
       "Deviance Residuals: \n",
       "    Min       1Q   Median       3Q      Max  \n",
       "-1.7419  -0.8620  -0.6333   1.1733   2.0860  \n",
       "\n",
       "Coefficients:\n",
       "             Estimate Std. Error z value Pr(>|z|)    \n",
       "(Intercept) -4.652613   1.387961  -3.352 0.000802 ***\n",
       "gre          0.003331   0.001351   2.466 0.013656 *  \n",
       "gpa          0.820440   0.401604   2.043 0.041061 *  \n",
       "rank2       -0.731995   0.384342  -1.905 0.056840 .  \n",
       "rank3       -1.408345   0.417626  -3.372 0.000746 ***\n",
       "rank4       -1.375948   0.482244  -2.853 0.004328 ** \n",
       "---\n",
       "Signif. codes:  0 '***' 0.001 '**' 0.01 '*' 0.05 '.' 0.1 ' ' 1\n",
       "\n",
       "(Dispersion parameter for binomial family taken to be 1)\n",
       "\n",
       "    Null deviance: 350.9  on 280  degrees of freedom\n",
       "Residual deviance: 318.7  on 275  degrees of freedom\n",
       "AIC: 330.7\n",
       "\n",
       "Number of Fisher Scoring iterations: 4\n"
      ]
     },
     "metadata": {},
     "output_type": "display_data"
    }
   ],
   "source": [
    "# Preprocessing\n",
    "logit_data$rank <- as.factor(logit_data$rank)\n",
    "logit_data$admit <- as.factor(logit_data$admit)\n",
    "\n",
    "# Split data\n",
    "train_idx <- createDataPartition(logit_data$admit, p = 0.7, list = F)\n",
    "train <- logit_data[train_idx,]\n",
    "test <- logit_data[-train_idx,]\n",
    "\n",
    "# Train\n",
    "logit.fit <- glm(admit ~ ., data = train, family = \"binomial\")\n",
    "summary(logit.fit)"
   ]
  },
  {
   "cell_type": "markdown",
   "metadata": {},
   "source": [
    "## Predict"
   ]
  },
  {
   "cell_type": "code",
   "execution_count": 8,
   "metadata": {
    "scrolled": false
   },
   "outputs": [
    {
     "data": {
      "text/plain": [
       "Confusion Matrix and Statistics\n",
       "\n",
       "          Reference\n",
       "Prediction  0  1\n",
       "         0 74 25\n",
       "         1  7 13\n",
       "                                          \n",
       "               Accuracy : 0.7311          \n",
       "                 95% CI : (0.6421, 0.8082)\n",
       "    No Information Rate : 0.6807          \n",
       "    P-Value [Acc > NIR] : 0.139214        \n",
       "                                          \n",
       "                  Kappa : 0.2925          \n",
       " Mcnemar's Test P-Value : 0.002654        \n",
       "                                          \n",
       "            Sensitivity : 0.3421          \n",
       "            Specificity : 0.9136          \n",
       "         Pos Pred Value : 0.6500          \n",
       "         Neg Pred Value : 0.7475          \n",
       "              Precision : 0.6500          \n",
       "                 Recall : 0.3421          \n",
       "                     F1 : 0.4483          \n",
       "             Prevalence : 0.3193          \n",
       "         Detection Rate : 0.1092          \n",
       "   Detection Prevalence : 0.1681          \n",
       "      Balanced Accuracy : 0.6278          \n",
       "                                          \n",
       "       'Positive' Class : 1               \n",
       "                                          "
      ]
     },
     "metadata": {},
     "output_type": "display_data"
    }
   ],
   "source": [
    "# Predict\n",
    "logit.proc <- predict(logit.fit, newdata = test, type = \"response\")\n",
    "logit.pred <- ifelse(logit.proc >= 0.5, 1, 0)\n",
    "\n",
    "# Create confusion matrix\n",
    "confusionMatrix(logit.pred, test$admit, positive = \"1\", mode = \"everything\")"
   ]
  },
  {
   "cell_type": "code",
   "execution_count": 119,
   "metadata": {
    "scrolled": false
   },
   "outputs": [
    {
     "data": {
      "image/png": "[encoded data removed]",
      "text/plain": [
       "plot without title"
      ]
     },
     "metadata": {},
     "output_type": "display_data"
    }
   ],
   "source": [
    "library(gridExtra)\n",
    "options(repr.plot.width=7, repr.plot.height=3)\n",
    "p1 <- ggplot(data.frame(admit = test$admit, pred = logit.proc), aes(admit, pred, group = admit, fill = admit)) + \n",
    "  geom_boxplot() + scale_fill_manual(name = \"admit\", values = c(\"firebrick4\", \"steelblue\")) + theme_minimal()\n",
    "\n",
    "p2 <- ggplot(data.frame(admit = test$admit, pred = logit.proc), aes(pred, linetype = admit, fill = admit)) +\n",
    "  geom_density(alpha = 0.5) + scale_fill_manual(name = \"admit\", values = c(\"firebrick4\", \"steelblue\")) + theme_minimal()\n",
    "grid.arrange(p1, p2, ncol = 2)"
   ]
  },
  {
   "cell_type": "markdown",
   "metadata": {},
   "source": [
    "## ROC Curve"
   ]
  },
  {
   "cell_type": "code",
   "execution_count": 28,
   "metadata": {},
   "outputs": [
    {
     "data": {
      "text/html": [
       "0.64993502274204"
      ],
      "text/latex": [
       "0.64993502274204"
      ],
      "text/markdown": [
       "0.64993502274204"
      ],
      "text/plain": [
       "[1] 0.649935"
      ]
     },
     "metadata": {},
     "output_type": "display_data"
    },
    {
     "data": {
      "image/png": "[encoded data removed]",
      "text/plain": [
       "Plot with title \"ROC Curve\""
      ]
     },
     "metadata": {},
     "output_type": "display_data"
    }
   ],
   "source": [
    "# Load library\n",
    "library(ROCR)\n",
    "\n",
    "pred <- prediction(logit.proc, test$admit)\n",
    "perf <- performance(pred, measure = \"tpr\", x.measure = \"fpr\")\n",
    "plot(perf, col = 'black', main = \"ROC Curve\")\n",
    "abline(0, 1)\n",
    "performance(pred, \"auc\")@y.values[[1]]"
   ]
  },
  {
   "cell_type": "code",
   "execution_count": 120,
   "metadata": {},
   "outputs": [],
   "source": [
    "predObj <- prediction(logit.proc, test$admit)\n",
    "precisionObj <- performance(predObj, measure = \"prec\")\n",
    "recallObj <- performance(predObj, measure = \"rec\")"
   ]
  },
  {
   "cell_type": "code",
   "execution_count": 123,
   "metadata": {},
   "outputs": [],
   "source": [
    "precision <- (precisionObj@y.values)[[1]]\n",
    "prec.x <- (precisionObj@x.values)[[1]]\n",
    "recall <- (recallObj@y.values)[[1]]"
   ]
  },
  {
   "cell_type": "code",
   "execution_count": 125,
   "metadata": {},
   "outputs": [],
   "source": [
    "rocFrame <- data.frame(threshold = prec.x, precision = precision, recall = recall)"
   ]
  },
  {
   "cell_type": "code",
   "execution_count": 126,
   "metadata": {},
   "outputs": [],
   "source": [
    "nplot <- function(plist) {\n",
    "    n <- length(plist)\n",
    "    grid.newpage()\n",
    "    pushViewport(viewport(layout=grid.layout(n,1)))\n",
    "    vplayout = function(x, y) {viewport(layout.pos.row = x, layout.pos.col = y)}\n",
    "    for (i in 1:n) {\n",
    "        print(plist[[i]], vp = vplayout(i,1))\n",
    "    }\n",
    "}"
   ]
  },
  {
   "cell_type": "code",
   "execution_count": 127,
   "metadata": {},
   "outputs": [],
   "source": [
    "pnull <- mean(as.numeric(test$admit))"
   ]
  },
  {
   "cell_type": "code",
   "execution_count": 131,
   "metadata": {},
   "outputs": [
    {
     "name": "stderr",
     "output_type": "stream",
     "text": [
      "Warning message:\n",
      "\"Removed 1 rows containing missing values (geom_path).\""
     ]
    },
    {
     "data": {},
     "metadata": {},
     "output_type": "display_data"
    },
    {
     "data": {
      "image/png": "[encoded data removed]",
      "text/plain": [
       "plot without title"
      ]
     },
     "metadata": {},
     "output_type": "display_data"
    }
   ],
   "source": [
    "p1 <- ggplot(rocFrame, aes(x = threshold)) + geom_line(aes(y = precision/pnull))\n",
    "p1"
   ]
  },
  {
   "cell_type": "code",
   "execution_count": 132,
   "metadata": {},
   "outputs": [
    {
     "data": {},
     "metadata": {},
     "output_type": "display_data"
    },
    {
     "data": {
      "image/png": "[encoded data removed]",
      "text/plain": [
       "plot without title"
      ]
     },
     "metadata": {},
     "output_type": "display_data"
    }
   ],
   "source": [
    "p2 <- ggplot(rocFrame, aes(x = threshold)) + geom_line(aes(y=recall))\n",
    "p2"
   ]
  },
  {
   "cell_type": "code",
   "execution_count": 134,
   "metadata": {},
   "outputs": [
    {
     "name": "stderr",
     "output_type": "stream",
     "text": [
      "Warning message:\n",
      "\"Removed 1 rows containing missing values (geom_path).\""
     ]
    },
    {
     "data": {
      "image/png": "[encoded data removed]",
      "text/plain": [
       "plot without title"
      ]
     },
     "metadata": {},
     "output_type": "display_data"
    }
   ],
   "source": [
    "library(grid)\n",
    "nplot(list(p1, p2))"
   ]
  },
  {
   "cell_type": "code",
   "execution_count": null,
   "metadata": {},
   "outputs": [],
   "source": []
  }
 ],
 "metadata": {
  "kernelspec": {
   "display_name": "R",
   "language": "R",
   "name": "ir"
  },
  "language_info": {
   "codemirror_mode": "r",
   "file_extension": ".r",
   "mimetype": "text/x-r-source",
   "name": "R",
   "pygments_lexer": "r",
   "version": "3.4.3"
  }
 },
 "nbformat": 4,
 "nbformat_minor": 2
}
