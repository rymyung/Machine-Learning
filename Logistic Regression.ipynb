{
 "cells": [
  {
   "cell_type": "markdown",
   "metadata": {},
   "source": [
    "Logistic Regression은 이름에서 Regression이 들어간 것처럼, 회귀 분석 방법으로 분류 문제에 접근한다. 일반적인 회귀 분석의 목표와 동일하게 종속 변수와 독립 변수 간의 관계를 선형 함수로 나타내어 종속 변수의 발생 확률을 예측하는 분류 기법이다."
   ]
  },
  {
   "cell_type": "markdown",
   "metadata": {},
   "source": [
    "# 선형 회귀(Linear Regression)\n",
    "선형 회귀의 식은 다음과 같다.\n",
    "$$H(X) = W^TX + b = w_1x_1 + w_2x_2 + \\cdots + w_kx_k + b$$\n",
    "선형 회귀는 독립 변수들과 종속 변수 간의 선형관계를 가정하고 이를 잘 나타내는 회귀계수 $W$를 데이터로부터 추정한다. 선형 회귀는 일반적으로 수치(Continuous) 예측 문제에 사용한다. 분류 모델에 사용할 경우 불가능한 것은 아니지만 예측 결과의 범위가 [$-\\infty$, $\\infty$]로 [0, 1]의 범위를 넘어가게 된다."
   ]
  },
  {
   "cell_type": "code",
   "execution_count": 55,
   "metadata": {},
   "outputs": [
    {
     "data": {},
     "metadata": {},
     "output_type": "display_data"
    },
    {
     "data": {
      "image/png": "[encoded data removed]",
      "text/plain": [
       "plot without title"
      ]
     },
     "metadata": {},
     "output_type": "display_data"
    }
   ],
   "source": [
    "# Load library\n",
    "library(ggplot2)\n",
    "\n",
    "# Generate data\n",
    "x <- seq(-5, 6, 0.5)\n",
    "y <- c(rep(0, 12), rep(1, 11))\n",
    "data <- data.frame(x = x, y = y)\n",
    "\n",
    "# Train Linear Regression\n",
    "lm.fit <- lm(y ~ x, data)\n",
    "\n",
    "# Plot setting\n",
    "options(repr.plot.width=7, repr.plot.height=7)\n",
    "\n",
    "# Plot\n",
    "ggplot(data, aes(x, y)) + geom_point(color = \"grey50\") + \n",
    "  geom_abline(slope = lm.fit$coefficients[2], intercept = lm.fit$coefficients[1]) +\n",
    "  ylim(c(-0.2, 1.2)) +\n",
    "  geom_label(label = \"[0, 1] 범위 초과\", x = -4, y = -0.1, col = \"red\", size = 5) +\n",
    "  geom_label(label = \"[0, 1] 범위 초과\", x = 4.5, y = 1.1, col = \"red\", size = 5) +\n",
    "  geom_hline(yintercept = 0, col = \"red\") + geom_hline(yintercept = 1, col = \"red\") +\n",
    "  theme_bw()"
   ]
  },
  {
   "cell_type": "markdown",
   "metadata": {},
   "source": [
    "이러한 문제를 해결하기 위해 결과값인 $H(X)$를 [0, 1] 범위로 갖게 해주는 연결 함수가 필요하다."
   ]
  },
  {
   "cell_type": "markdown",
   "metadata": {},
   "source": [
    "# 시그모이드 함수(Sigmoid Function)\n",
    "이항 분류 문제에 적합한 함수로 시그모이드(Sigmoid) 함수가 있다. 그래프의 모양은 아래와 같이 s자 형태로 x = 0을 중심으로 $-\\infty$로 갈수록 0으로 수렴하고 $\\infty$로 갈수록 1에 수렴한다. 즉, 모든 $x$값에 대해 [0, 1] 범위의 값을 갖게 해준다.\n",
    "$$g(z) = \\frac{1}{1 + e^{-z}} = \\frac{e^z}{1 + e^z}$$"
   ]
  },
  {
   "cell_type": "code",
   "execution_count": 14,
   "metadata": {},
   "outputs": [
    {
     "data": {},
     "metadata": {},
     "output_type": "display_data"
    },
    {
     "data": {
      "image/png": "[encoded data removed]",
      "text/plain": [
       "plot without title"
      ]
     },
     "metadata": {},
     "output_type": "display_data"
    }
   ],
   "source": [
    "# Generate data\n",
    "x2 <- seq(-5, 6, 0.5)\n",
    "y2 <- 1/(1 + exp(-x2)) # Sigmoid function\n",
    "data2 <- data.frame(x = x2, y = y2)\n",
    "\n",
    "# Plot\n",
    "ggplot(data2, aes(x, y)) + geom_line() + \n",
    "  geom_hline(yintercept = 0, col = \"red\") + geom_hline(yintercept = 1, col = \"red\") + theme_bw()"
   ]
  },
  {
   "cell_type": "markdown",
   "metadata": {},
   "source": [
    "이 시그모이드 함수 $g(z)$를 사용하여 $H(X) = W^TX + b$를  $[-\\infty, \\infty]$ 범위에서 [0, 1] 범위로 바꾸어준다.\n",
    "$$g(z) = g(W^TX + b) = \\frac{1}{1 + e^{-(W^TX+b)}}$$"
   ]
  },
  {
   "cell_type": "markdown",
   "metadata": {},
   "source": [
    "승산(Odds)과 로짓 변환(logit transformation)을 통해 좀 더 자세하게 살펴보자."
   ]
  },
  {
   "cell_type": "markdown",
   "metadata": {},
   "source": [
    "## 승산(Odds)\n",
    "승산(Odds)란 성공 확률 / 실패 확률, 임의의 사건 A가 발생하지 않을 확률 대비 발생할 확률을 나타내고 아래와 같이 표현된다.\n",
    "$$\\text{Odds} = \\frac{p(y=1 | x)}{p(y=0 | x)} = \\frac{p(y=1|x)}{1-p(y=1|x)} = \\frac{p}{1-p}$$"
   ]
  },
  {
   "cell_type": "markdown",
   "metadata": {},
   "source": [
    "여기서 $p = p(y=1|x)$는 성공 확률을 나타내므로 [0, 1] 사이의 값을 가진다. 따라서 위의 Odds는 [0, $\\infty$] 사이의 값을 갖게된다.\n",
    "$$\\text{Odds} = \\begin{cases} \\infty, & \\text{if } p = 1 \\\\ 0, & \\text{if } p = 0 \\end{cases}$$"
   ]
  },
  {
   "cell_type": "code",
   "execution_count": 24,
   "metadata": {
    "scrolled": false
   },
   "outputs": [
    {
     "data": {},
     "metadata": {},
     "output_type": "display_data"
    },
    {
     "data": {
      "image/png": "[encoded data removed]",
      "text/plain": [
       "plot without title"
      ]
     },
     "metadata": {},
     "output_type": "display_data"
    }
   ],
   "source": [
    "p <- seq(0, 1, length.out = 100)\n",
    "odds <- p/(1-p)\n",
    "ggplot(data.frame(p = p, odds = odds), aes(p, odds)) + geom_line() + theme_bw()"
   ]
  },
  {
   "cell_type": "markdown",
   "metadata": {},
   "source": [
    "## 로짓 변환(logit transformation)\n",
    "로짓 변환은 승산(Odds)에 log를 취한 값으로 아래와 같이 표현된다.\n",
    "$$\\ln (\\text{Odds}) = \\ln \\frac{p}{1-p}$$"
   ]
  },
  {
   "cell_type": "markdown",
   "metadata": {},
   "source": [
    "Odds가 [0, $\\infty$] 사이의 값을 가지므로 자연 로그를 취한 값의 범위는 [-$\\infty$, $\\infty$]이 된다.\n",
    "$$\\ln (\\text{Odds}) = \\begin{cases} \\infty, & \\text{if } \\text{Odds} = \\infty \\\\ -\\infty, & \\text{if } \\text{Odds} = 0\\end{cases}$$"
   ]
  },
  {
   "cell_type": "code",
   "execution_count": 27,
   "metadata": {},
   "outputs": [
    {
     "data": {},
     "metadata": {},
     "output_type": "display_data"
    },
    {
     "data": {
      "image/png": "[encoded data removed]",
      "text/plain": [
       "plot without title"
      ]
     },
     "metadata": {},
     "output_type": "display_data"
    }
   ],
   "source": [
    "log_odds <- log(odds)\n",
    "ggplot(data.frame(p = p, log_odds = log_odds), aes(p, log_odds)) + geom_line() + theme_bw()"
   ]
  },
  {
   "cell_type": "markdown",
   "metadata": {},
   "source": [
    "결국 확률 $p = p(y=1|x)$에 대해 승산 비를 구하고 거기에 자연 로그를 취했더니 [0, 1] 범위에서 [-$\\infty$, $\\infty$] 범위로 확장되는 함수가 만들어졌다. 이 함수를 이용하여 확률 $p$를 찾아야 하므로, 이 함수를 $p$에 대한 함수로 변환시키면 다음과 같다."
   ]
  },
  {
   "cell_type": "markdown",
   "metadata": {},
   "source": [
    "$$\\ln \\frac{p}{1-p} = W^TX + b$$"
   ]
  },
  {
   "cell_type": "markdown",
   "metadata": {},
   "source": [
    "$$\\frac{p}{1-p} = e^{W^TX + b}$$"
   ]
  },
  {
   "cell_type": "markdown",
   "metadata": {},
   "source": [
    "$$\\frac{1-p}{p} = \\frac{1}{p} - 1 = \\frac{1}{e^{W^TX + b}}$$"
   ]
  },
  {
   "cell_type": "markdown",
   "metadata": {},
   "source": [
    "$$\\frac{1}{p} = \\frac{1}{e^{W^TX + b}} + 1 = \\frac{1 + e^{W^TX + b}}{e^{W^TX + b}}$$"
   ]
  },
  {
   "cell_type": "markdown",
   "metadata": {},
   "source": [
    "$$p = \\frac{e^{W^X + b}}{1 + e^{W^TX + b}} = \\frac{1}{1 + e^{-(W^TX + b)}}$$"
   ]
  },
  {
   "cell_type": "markdown",
   "metadata": {},
   "source": [
    "# 회귀 계수 추정\n",
    "선형 회귀와 마찬가지로 로지스틱 회귀에서도 회귀 계수를 추정하기 위해 경사하강법(Gradient Descent)을 사용한다. 하지만 선형 회귀에서 사용한 비용 함수(cost function)를 사용하게 될 경우, optimization problem이 non-convex가 되어서 Local Optima에 빠질 수 있다."
   ]
  },
  {
   "cell_type": "markdown",
   "metadata": {},
   "source": [
    "따라서 로지스틱 회귀에서는 다음과 같은 손실 함수를 사용한다.\n",
    "$$\\text{Loss Function} : L(\\hat{y}, y) = -(y\\log\\hat{y} + (1-y)\\log(1-\\hat{y}))$$"
   ]
  },
  {
   "cell_type": "markdown",
   "metadata": {},
   "source": [
    "손실 함수가 작을 수록 좋으므로 실제 값($y$)에 따라 손실 함수가 다음과 같이 변한다.\n",
    "$$\\text{Loss Function} = \\begin{cases} -\\log \\hat{y}, & \\text{if } y = 1 \\rightarrow \\text{가능한 큰 }\\hat{y}(=1)\\text{을 원함} \\\\ -\\log (1-\\hat{y}), & \\text{if } y = 0 \\rightarrow \\text{가능한 작은 }\\hat{y}(=0)\\text{을 원함} \\end{cases}$$"
   ]
  },
  {
   "cell_type": "markdown",
   "metadata": {},
   "source": [
    "위의 손실 함수는 single training sample에 대한 것이므로, 전체 trianing sample에 대한 비용 함수는 다음과 같다.\n",
    "$$\\text{Cost Function} : J(W, b) = \\frac{1}{m} \\sum L(\\hat{y}, y)$$ \n",
    "$$\\text{ m = training sample 수}$$"
   ]
  },
  {
   "cell_type": "markdown",
   "metadata": {},
   "source": [
    "![Logistic Regression Gradient Descent](https://www.dropbox.com/s/v1dbvpozhczoyzn/logistic_gradient_descent.jpg?raw=1)"
   ]
  },
  {
   "cell_type": "markdown",
   "metadata": {},
   "source": [
    "$$da = \\frac{d}{da}L(a, y) = \\frac{d}{da}(-y\\log{a} -(1-y)\\log{(1-a)}) = \\frac{-y}{a} + \\frac{1-y}{1-a}$$"
   ]
  },
  {
   "cell_type": "markdown",
   "metadata": {},
   "source": [
    "$$dz = \\frac{dL}{dz} = \\frac{dL}{da} \\cdot \\frac{da}{dz} = da \\cdot \\sigma^\\prime(z) = a - y$$"
   ]
  },
  {
   "cell_type": "markdown",
   "metadata": {},
   "source": [
    "$$dw = dz \\cdot x$$\n",
    "$$db = dz$$"
   ]
  },
  {
   "cell_type": "code",
   "execution_count": 73,
   "metadata": {
    "scrolled": false
   },
   "outputs": [
    {
     "name": "stdout",
     "output_type": "stream",
     "text": [
      "Cost : 1.051453 \n",
      " W1 : 3.038138 \n",
      " W2 : 1.967545"
     ]
    }
   ],
   "source": [
    "# Set seed\n",
    "set.seed(1990)\n",
    "\n",
    "# Generate data\n",
    "x3 <- seq(-5, 6, 0.5)\n",
    "y3_temp <- 1/(1+exp(-(3*x3 + 2))) # W = 3, b = 2\n",
    "y3 <- ifelse(y3_temp >= 0.5, 1, 0)\n",
    "\n",
    "# Load library\n",
    "library(dplyr)\n",
    "\n",
    "# Initialize w randomly\n",
    "w <- sample(seq(-0.1, 0.1, length.out = 100), 2) %>% matrix(nrow = 2)\n",
    "previous_cost <- NULL\n",
    "learning_rate <- 0.01\n",
    "epsilon <- 0.00001\n",
    "\n",
    "cost_list <- c()\n",
    "w1_list <- c()\n",
    "w2_list <- c()\n",
    "for (i in 1:10000) { # Iterate 10000 times\n",
    "    y_hat <- 1/(1+exp(-(w[1]*x3 + w[2]))) # Predict y\n",
    "    \n",
    "    # Calculate cost\n",
    "    cost_temp <- c()\n",
    "    for (j in 1:length(y3)) {\n",
    "        if (y3[j] == 1) {\n",
    "            cost <- -log(y_hat[j])\n",
    "        } else if (y3[j] == 0) {\n",
    "            cost <- -log(1-y_hat[j])\n",
    "        }\n",
    "        cost_temp <- c(cost_temp, cost)\n",
    "    }\n",
    "    cost <- sum(cost_temp) \n",
    "    \n",
    "    if (i > 1) { # Check after first prediction\n",
    "        if (epsilon > abs(previous_cost - cost)) { # Break if cost change amount is less than threshold\n",
    "            cat(\"Stop at iter\", i, \", Cost change amount is less than threshold\", \"\\n\")\n",
    "            break\n",
    "        }\n",
    "    }\n",
    "    previous_cost <- cost # Change the previous cost\n",
    "    cost_list <- c(cost_list, cost) # Reserve the cost\n",
    "    \n",
    "    # Update W\n",
    "    w[1] <- w[1] - learning_rate * mean((y_hat-y3)*x3)\n",
    "    w[2] <- w[2] - learning_rate * mean((y_hat-y3))\n",
    "    \n",
    "    # Reserve the weights\n",
    "    w1_list <- c(w1_list, w[1])\n",
    "    w2_list <- c(w2_list, w[2])\n",
    "}\n",
    "# Print final weights\n",
    "cat(\"Cost :\", cost_list[length(cost_list)], \"\\n\", \"W1 :\", w1_list[length(w1_list)], \"\\n\", \"W2 :\", w2_list[length(w2_list)])\n",
    "\n",
    "# Make dataframe for plotting\n",
    "cost.df <- data.frame(iter = 1:length(cost_list), cost = cost_list, w1 = w1_list, w2 = w2_list)"
   ]
  },
  {
   "cell_type": "markdown",
   "metadata": {},
   "source": [
    "경사하강법을 통해 구한 회귀 계수는 $\\hat{W} = \\begin{bmatrix} 3.038138  \\\\ 1.967545 \\end{bmatrix}$로 실제 $W = \\begin{bmatrix} 3 \\\\ 2 \\end{bmatrix}$와 유사하다."
   ]
  },
  {
   "cell_type": "code",
   "execution_count": 79,
   "metadata": {},
   "outputs": [
    {
     "data": {},
     "metadata": {},
     "output_type": "display_data"
    },
    {
     "data": {
      "image/png": "[encoded data removed]",
      "text/plain": [
       "plot without title"
      ]
     },
     "metadata": {},
     "output_type": "display_data"
    }
   ],
   "source": [
    "cost.df %>% filter(iter > 30) %>%\n",
    "ggplot() + geom_line(aes(iter, w1, col = 'steelblue'), size = 1) + \n",
    "geom_line(aes(iter, w2, col = 'palegreen3'), size = 1) + \n",
    " geom_line(aes(iter, cost, col = 'darkorange'), size = 1) + \n",
    "ylab(\"Value\") + theme_minimal() + scale_colour_manual(name = 'Type', \n",
    "                      values =c('steelblue'='steelblue','palegreen3'='palegreen3', 'darkorange'='darkorange'), \n",
    "                                                      labels = c('Cost', 'Weight 2', 'Weight 1')) +\n",
    "theme(legend.position = \"top\")"
   ]
  },
  {
   "cell_type": "markdown",
   "metadata": {},
   "source": [
    "# 로지스틱 모델 해석"
   ]
  },
  {
   "cell_type": "markdown",
   "metadata": {},
   "source": [
    "로지스틱 회귀 모델의 계수는 선형 회귀 모델의 계수가 하는 것과 유사한 방식으로 설명 변수와 반응 변수 간의 관계를 나타낸다. UCLA에서 제공하는 데이터를 사용해 로지스틱 모델을 만들어보자."
   ]
  },
  {
   "cell_type": "code",
   "execution_count": 37,
   "metadata": {},
   "outputs": [
    {
     "name": "stdout",
     "output_type": "stream",
     "text": [
      "'data.frame':\t400 obs. of  4 variables:\n",
      " $ admit: int  0 1 1 1 0 1 1 0 1 0 ...\n",
      " $ gre  : int  380 660 800 640 520 760 560 400 540 700 ...\n",
      " $ gpa  : num  3.61 3.67 4 3.19 2.93 3 2.98 3.08 3.39 3.92 ...\n",
      " $ rank : int  3 3 1 4 4 2 1 2 3 2 ...\n"
     ]
    },
    {
     "data": {
      "text/html": [
       "<table>\n",
       "<thead><tr><th scope=col>admit</th><th scope=col>gre</th><th scope=col>gpa</th><th scope=col>rank</th></tr></thead>\n",
       "<tbody>\n",
       "\t<tr><td>0   </td><td>380 </td><td>3.61</td><td>3   </td></tr>\n",
       "\t<tr><td>1   </td><td>660 </td><td>3.67</td><td>3   </td></tr>\n",
       "\t<tr><td>1   </td><td>800 </td><td>4.00</td><td>1   </td></tr>\n",
       "\t<tr><td>1   </td><td>640 </td><td>3.19</td><td>4   </td></tr>\n",
       "\t<tr><td>0   </td><td>520 </td><td>2.93</td><td>4   </td></tr>\n",
       "\t<tr><td>1   </td><td>760 </td><td>3.00</td><td>2   </td></tr>\n",
       "</tbody>\n",
       "</table>\n"
      ],
      "text/latex": [
       "\\begin{tabular}{r|llll}\n",
       " admit & gre & gpa & rank\\\\\n",
       "\\hline\n",
       "\t 0    & 380  & 3.61 & 3   \\\\\n",
       "\t 1    & 660  & 3.67 & 3   \\\\\n",
       "\t 1    & 800  & 4.00 & 1   \\\\\n",
       "\t 1    & 640  & 3.19 & 4   \\\\\n",
       "\t 0    & 520  & 2.93 & 4   \\\\\n",
       "\t 1    & 760  & 3.00 & 2   \\\\\n",
       "\\end{tabular}\n"
      ],
      "text/markdown": [
       "\n",
       "admit | gre | gpa | rank | \n",
       "|---|---|---|---|---|---|\n",
       "| 0    | 380  | 3.61 | 3    | \n",
       "| 1    | 660  | 3.67 | 3    | \n",
       "| 1    | 800  | 4.00 | 1    | \n",
       "| 1    | 640  | 3.19 | 4    | \n",
       "| 0    | 520  | 2.93 | 4    | \n",
       "| 1    | 760  | 3.00 | 2    | \n",
       "\n",
       "\n"
      ],
      "text/plain": [
       "  admit gre gpa  rank\n",
       "1 0     380 3.61 3   \n",
       "2 1     660 3.67 3   \n",
       "3 1     800 4.00 1   \n",
       "4 1     640 3.19 4   \n",
       "5 0     520 2.93 4   \n",
       "6 1     760 3.00 2   "
      ]
     },
     "metadata": {},
     "output_type": "display_data"
    }
   ],
   "source": [
    "# Load library\n",
    "library(caret)\n",
    "\n",
    "# Load data\n",
    "logit_data <- read.csv(\"https://stats.idre.ucla.edu/stat/data/binary.csv\")\n",
    "str(logit_data)\n",
    "head(logit_data)"
   ]
  },
  {
   "cell_type": "markdown",
   "metadata": {},
   "source": [
    "지원자의 입학 여부(admit)을 시험 점수(gre, gpa)와 지원자의 학교 등급(rank)를 가지고 예측하는 모델을 만들면 아래와 같다."
   ]
  },
  {
   "cell_type": "code",
   "execution_count": 40,
   "metadata": {
    "scrolled": false
   },
   "outputs": [
    {
     "data": {
      "text/plain": [
       "\n",
       "Call:\n",
       "glm(formula = admit ~ ., family = \"binomial\", data = train)\n",
       "\n",
       "Deviance Residuals: \n",
       "   Min      1Q  Median      3Q     Max  \n",
       "-1.623  -0.838  -0.634   1.071   2.185  \n",
       "\n",
       "Coefficients:\n",
       "             Estimate Std. Error z value Pr(>|z|)    \n",
       "(Intercept) -4.116021   1.433398  -2.872 0.004085 ** \n",
       "gre          0.001259   0.001307   0.964 0.335290    \n",
       "gpa          1.036299   0.414407   2.501 0.012396 *  \n",
       "rank2       -0.756383   0.370062  -2.044 0.040960 *  \n",
       "rank3       -1.626624   0.418658  -3.885 0.000102 ***\n",
       "rank4       -1.400460   0.473847  -2.956 0.003122 ** \n",
       "---\n",
       "Signif. codes:  0 '***' 0.001 '**' 0.01 '*' 0.05 '.' 0.1 ' ' 1\n",
       "\n",
       "(Dispersion parameter for binomial family taken to be 1)\n",
       "\n",
       "    Null deviance: 350.90  on 280  degrees of freedom\n",
       "Residual deviance: 318.53  on 275  degrees of freedom\n",
       "AIC: 330.53\n",
       "\n",
       "Number of Fisher Scoring iterations: 4\n"
      ]
     },
     "metadata": {},
     "output_type": "display_data"
    }
   ],
   "source": [
    "# Preprocessing\n",
    "logit_data$rank <- as.factor(logit_data$rank)\n",
    "logit_data$admit <- as.factor(logit_data$admit)\n",
    "\n",
    "# Split data\n",
    "set.seed(1990)\n",
    "train_idx <- createDataPartition(logit_data$admit, p = 0.7, list = F)\n",
    "train <- logit_data[train_idx,]\n",
    "test <- logit_data[-train_idx,]\n",
    "\n",
    "# Train\n",
    "logit.fit <- glm(admit ~ ., data = train, family = \"binomial\")\n",
    "summary(logit.fit)"
   ]
  },
  {
   "cell_type": "markdown",
   "metadata": {},
   "source": [
    "학습한 결과를 보면, gre 변수의 P-value가 0.335290으로 유의 수준보다 높아 통계적으로 유의미하지 않다."
   ]
  },
  {
   "cell_type": "markdown",
   "metadata": {},
   "source": [
    "로지스틱 회귀 모델에서 회귀 계수는 변수가 한 단위 증가할 때 log(Odds)의 변화량을 의미한다. gpa의 계수는 1.036299이다. gpa 점수가 1점 증가할 때 log(Odds)는 $\\log{(\\text{Odds})} = \\log{\\frac{p}{1-p}} = 1.036299$만큼 증가한다. 즉,"
   ]
  },
  {
   "cell_type": "markdown",
   "metadata": {},
   "source": [
    "$$\\ln{\\frac{p}{1-p}} = 1.036299$$"
   ]
  },
  {
   "cell_type": "markdown",
   "metadata": {},
   "source": [
    "$$\\frac{p}{1-p} = \\exp^{0.773778} = 2.8187$$"
   ]
  },
  {
   "cell_type": "markdown",
   "metadata": {},
   "source": [
    "$$p = \\frac{2.8187}{1 + 2.8187} = 0.7381$$\n",
    "결국 gpa 점수가 1점 증가할 때 입학 확률(= p)가 0.7381배 증가한다."
   ]
  },
  {
   "cell_type": "markdown",
   "metadata": {},
   "source": [
    "범주형 변수인 rank의 경우에는 해석이 약간 달라진다. rank2의 계수 -0.756383은 rank1에서 rank2로 바뀌었을 때 log(Odds)의 변화량을 의미한다. 즉, rank1에 비해 rank2가 입학에 안 좋은 영향을 준다."
   ]
  },
  {
   "cell_type": "markdown",
   "metadata": {},
   "source": [
    "## Predict"
   ]
  },
  {
   "cell_type": "code",
   "execution_count": 43,
   "metadata": {
    "scrolled": false
   },
   "outputs": [
    {
     "data": {
      "text/plain": [
       "Confusion Matrix and Statistics\n",
       "\n",
       "          Reference\n",
       "Prediction  0  1\n",
       "         0 76 29\n",
       "         1  5  9\n",
       "                                          \n",
       "               Accuracy : 0.7143          \n",
       "                 95% CI : (0.6243, 0.7933)\n",
       "    No Information Rate : 0.6807          \n",
       "    P-Value [Acc > NIR] : 0.2477          \n",
       "                                          \n",
       "                  Kappa : 0.2104          \n",
       " Mcnemar's Test P-Value : 7.998e-05       \n",
       "                                          \n",
       "            Sensitivity : 0.23684         \n",
       "            Specificity : 0.93827         \n",
       "         Pos Pred Value : 0.64286         \n",
       "         Neg Pred Value : 0.72381         \n",
       "              Precision : 0.64286         \n",
       "                 Recall : 0.23684         \n",
       "                     F1 : 0.34615         \n",
       "             Prevalence : 0.31933         \n",
       "         Detection Rate : 0.07563         \n",
       "   Detection Prevalence : 0.11765         \n",
       "      Balanced Accuracy : 0.58756         \n",
       "                                          \n",
       "       'Positive' Class : 1               \n",
       "                                          "
      ]
     },
     "metadata": {},
     "output_type": "display_data"
    }
   ],
   "source": [
    "# Predict\n",
    "logit.proc <- predict(logit.fit, newdata = test, type = \"response\")\n",
    "logit.pred <- ifelse(logit.proc >= 0.5, 1, 0)\n",
    "\n",
    "# Create confusion matrix\n",
    "confusionMatrix(logit.pred, test$admit, positive = \"1\", mode = \"everything\")"
   ]
  },
  {
   "cell_type": "code",
   "execution_count": 49,
   "metadata": {
    "scrolled": false
   },
   "outputs": [
    {
     "data": {
      "image/png": "[encoded data removed]",
      "text/plain": [
       "plot without title"
      ]
     },
     "metadata": {},
     "output_type": "display_data"
    }
   ],
   "source": [
    "# Load library\n",
    "library(gridExtra)\n",
    "\n",
    "# Plot setting\n",
    "options(repr.plot.width=7, repr.plot.height=3)\n",
    "\n",
    "# Plot\n",
    "p1 <- ggplot(data.frame(admit = test$admit, pred = logit.proc), aes(admit, pred, group = admit, fill = admit)) + \n",
    "  geom_boxplot() + scale_fill_manual(name = \"admit\", values = c(\"firebrick4\", \"steelblue\")) + theme_minimal()\n",
    "\n",
    "p2 <- ggplot(data.frame(admit = test$admit, pred = logit.proc), aes(pred, linetype = admit, fill = admit)) +\n",
    "  geom_density(alpha = 0.5) + scale_fill_manual(name = \"admit\", values = c(\"firebrick4\", \"steelblue\")) + theme_minimal()\n",
    "grid.arrange(p1, p2, ncol = 2)"
   ]
  },
  {
   "cell_type": "markdown",
   "metadata": {},
   "source": [
    "## ROC Curve"
   ]
  },
  {
   "cell_type": "code",
   "execution_count": 48,
   "metadata": {},
   "outputs": [
    {
     "data": {
      "text/html": [
       "0.649447693307343"
      ],
      "text/latex": [
       "0.649447693307343"
      ],
      "text/markdown": [
       "0.649447693307343"
      ],
      "text/plain": [
       "[1] 0.6494477"
      ]
     },
     "metadata": {},
     "output_type": "display_data"
    },
    {
     "data": {
      "image/png": "[encoded data removed]",
      "text/plain": [
       "Plot with title \"ROC Curve\""
      ]
     },
     "metadata": {},
     "output_type": "display_data"
    }
   ],
   "source": [
    "# Load library\n",
    "library(ROCR)\n",
    "\n",
    "# Plot setting\n",
    "options(repr.plot.width=7, repr.plot.height=7)\n",
    "\n",
    "# ROC Curve\n",
    "pred <- prediction(logit.proc, test$admit)\n",
    "perf <- performance(pred, measure = \"tpr\", x.measure = \"fpr\")\n",
    "plot(perf, col = 'black', main = \"ROC Curve\")\n",
    "abline(0, 1)\n",
    "\n",
    "# AUC\n",
    "performance(pred, \"auc\")@y.values[[1]]"
   ]
  }
 ],
 "metadata": {
  "kernelspec": {
   "display_name": "R",
   "language": "R",
   "name": "ir"
  },
  "language_info": {
   "codemirror_mode": "r",
   "file_extension": ".r",
   "mimetype": "text/x-r-source",
   "name": "R",
   "pygments_lexer": "r",
   "version": "3.5.1"
  }
 },
 "nbformat": 4,
 "nbformat_minor": 2
}
