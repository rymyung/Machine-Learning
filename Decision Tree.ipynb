{
 "cells": [
  {
   "cell_type": "markdown",
   "metadata": {},
   "source": [
    "Decision Tree란 독립변수들을 이진 분리 혹은 다진 분리를 하는 과정을 반복하여 트리 형태를 형성함으로써 분류(종속변수가 범주형일 때) 또는 회귀(종속변수가 연속형일 때)를 수행하는 예측 모델링 방법 중 하나이다. "
   ]
  },
  {
   "cell_type": "markdown",
   "metadata": {},
   "source": [
    "# 의사결정나무 예시"
   ]
  },
  {
   "cell_type": "markdown",
   "metadata": {},
   "source": [
    "![Decision Tree](https://www.dropbox.com/s/st4wrqqqho0jukn/decisiontree2.jpg?raw=1)\n",
    "위의 예시는 타이타닉호 승객의 생존을 예측하는 이진 분류 문제이다. 만약 남자이고, 나이가 9.5가 넘으면 생존 확률이 17%, 여자면 생존 확률이 73%라고 예측을 한 것이다.\n",
    "이와 같이 의사결정나무는 Root Node에서 시작하여 변수 하나를 가지고 계속 분기하면서 최종 Leaf Node에 도달하게 된다."
   ]
  },
  {
   "cell_type": "markdown",
   "metadata": {},
   "source": [
    "의사결정나무는 분류와 회귀 문제를 모두 적용할 수 있다.\n",
    "* 분류(Classification) : 예측하고자 하는 example이 어느 Leaf Node에 속한다면, 그 Leaf Node에서 가장 **빈도가 높은 범주**에 해당 example을 예측\n",
    "* 회귀(Regression) : 예측하고자 하는 example이 어느 Leaf Node에 속한다면, 그 Leaf Node의 **평균값**을 해당 example로 예측"
   ]
  },
  {
   "cell_type": "markdown",
   "metadata": {},
   "source": [
    "# 분기 기준"
   ]
  },
  {
   "cell_type": "markdown",
   "metadata": {},
   "source": [
    "노드가 분기될 때 분기 이후 각 노드의 순도가 증가하고 불순도/불확실성은 감소하는 방향으로 학습을 진행한다. 이러한 것을 정보 획득(Information Gain)이라고 한다. 순수도(불순도)를 나타내는 지표에는 다음과 같은 것들이 있다.\n",
    "* Entropy\n",
    "* Gini Index"
   ]
  },
  {
   "cell_type": "code",
   "execution_count": 53,
   "metadata": {},
   "outputs": [
    {
     "data": {
      "text/html": [
       "1"
      ],
      "text/latex": [
       "1"
      ],
      "text/markdown": [
       "1"
      ],
      "text/plain": [
       "[1] 1"
      ]
     },
     "metadata": {},
     "output_type": "display_data"
    }
   ],
   "source": [
    "-(0.5*log2(0.5) + 0.5*log2(0.5))"
   ]
  },
  {
   "cell_type": "markdown",
   "metadata": {},
   "source": [
    "## Entropy\n",
    "Entropy란 '얼마만큼의 정보를 담고 있는가'를 나타내는 것이다. 만약 하나의 집합에 단 하나의 클래스만 존재한다면, 불확실성이 전혀 없고 Entropy는 매우 낮은 값을 갖는다. 반면 모든 클래스가 고르게 분포한다면, 불확실성은 매우 높고 Entropy는 매우 높은 값을 갖는다. 노드 A의 Entropy는 다음과 같이 계산한다.\n",
    "$$\\text{Entropy}(A) = -\\sum_{j=1}^{m} p_j\\log_2{p_j}$$\n",
    "$$p_j : \\text{노드 A에 속하는 데이터 중 j 클래스에 속하는 데이터의 비율}$$"
   ]
  },
  {
   "cell_type": "markdown",
   "metadata": {},
   "source": [
    "의사결정나무에서는 가장 많은 정보(정보 획득)를 주는 변수를 선택하여 분기를 진행한다. 정보 획득이란 노드 분기 전후의 정보량의 차이로, 다음 분류 스텝에서 특정 변수를 선택했을 때 전체 데이터의 Entropy가 줄어든 양을 나타낸다.  \n",
    "* 클래스 집합 : $C = {C_1, C_2, \\cdots, C_k}$\n",
    "* Train data set의 부분 집합(= 하나의 Node) : $T$\n",
    "* $T$ Node 내의 Class $C_j$의 수 : $freq(C_j, T)$\n",
    "* $T$ Node 내의 데이터 수 : $\\left\\vert T \\right\\vert$\n",
    "* Node내 데이터들의 Class 확인에 필요한 정보량 : $Info(T) = -\\sum \\frac{freq(C_j, T)}{\\left\\vert T \\right\\vert} \\times \\log_2{\\frac{freq(C_j, T)}{\\left\\vert T \\right\\vert}}$\n",
    "* 변수 X에 의해 분기된 Node들의 정보량들의 가중 평균 : $Info_X(T) = \\sum_{i=1}^{n} \\frac{\\left\\vert T_i \\right\\vert}{\\left\\vert T \\right\\vert} \\times Info(T_i)$\n",
    "* 정보 획득 : $Gain(X) = Info(T) - Info_X(T)$  \n",
    "\n",
    "정보 획득($Gain(X)$)가 최대가 되는 변수 X를 선택하여 분기를 진행한다."
   ]
  },
  {
   "cell_type": "markdown",
   "metadata": {},
   "source": [
    "다음은 Entropy를 이용하여 분기를 진행하는 예시이다.\n",
    "![Information Gain](https://www.dropbox.com/s/r531qz06avaayrm/informationgain.jpg?raw=1)"
   ]
  },
  {
   "cell_type": "markdown",
   "metadata": {},
   "source": [
    "$$Info(T) = -\\frac{9}{14}\\cdot\\log_2{\\left(\\frac{9}{14}\\right)} -\\frac{5}{14}\\cdot\\log_2{\\left(\\frac{5}{14}\\right)} = 0.940$$"
   ]
  },
  {
   "cell_type": "markdown",
   "metadata": {},
   "source": [
    "$$Info_X(T) = \\frac{5}{14}\\cdot\\left(-\\frac{2}{5}\\cdot \\log_2{\\left(\\frac{2}{5}\\right)} -\\frac{3}{5}\\cdot \\log_2{\\left(\\frac{3}{5}\\right)}\\right) + \\frac{5}{14}\\cdot\\left(-\\frac{3}{5}\\cdot\\log_2{\\left(\\frac{3}{5}\\right)} -\\frac{2}{5}\\cdot\\log_2{\\left(\\frac{2}{5}\\right)}\\right) + \\frac{4}{14}\\cdot\\left(-\\frac{4}{4}\\cdot\\log_2{\\left(\\frac{4}{4}\\right)} -\\frac{0}{4}\\cdot\\log_2{\\left(\\frac{0}{4}\\right)}\\right) = 0.694$$"
   ]
  },
  {
   "cell_type": "markdown",
   "metadata": {},
   "source": [
    "$$Gain(X) = Info(T) - Info_X(T) = 0.246$$"
   ]
  },
  {
   "cell_type": "markdown",
   "metadata": {},
   "source": [
    "## Gini Index\n",
    "Gini Index는 집합에 이질적인 것이 얼마나 섞였는지를 측정하는 지표이다. 어떤 집합에서 한 항목을 뽑아 무작위로 라벨을 추정할 때 틀릴 확률을 말한다. 집합에 있는 항목이 모두 같다면 Gini Index는 0을 갖게 되며 완전히 순수하다고 말할 수 있다.\n",
    "$$Gini(T) = 1 - \\sum_{j=1}^{k}\\left(\\left(\\frac{freq(C_j, T)}{\\left\\vert T \\right\\vert}\\right)^2\\right) = 1 - \\sum_{j=1}^{k} p_j^2$$\n",
    "\n",
    "$$Gini_X(T) = \\frac{\\left\\vert T_1 \\right\\vert}{\\left\\vert T \\right\\vert}Gini(T_1) + \\frac{\\left\\vert T_2 \\right\\vert}{\\left\\vert T \\right\\vert}Gini(T_2)$$\n",
    "\n",
    "$Gini_X(T)$가 최소가 되는 변수 X를 선택한다."
   ]
  },
  {
   "cell_type": "markdown",
   "metadata": {},
   "source": [
    "다음은 Gini Index를 사용하여 분기를 진행하는 예시이다.\n",
    "![Gini Index](https://www.dropbox.com/s/cqb95d6ivrnhsp8/giniindex.jpg?raw=1)\n",
    "$$Gini_X(T) = \\frac{3}{8} Gini(T_1) + \\frac{5}{8} Gini(T_2) = \\frac{3}{8}\\left(1 - \\left(\\frac{1}{3}\\right)^2 - \\left(\\frac{2}{3}\\right)^2 \\right) + \\frac{5}{8}\\left(1 - \\left(\\frac{4}{5}\\right)^2 - \\left(\\frac{1}{5}\\right)^2\\right)$$"
   ]
  },
  {
   "cell_type": "markdown",
   "metadata": {},
   "source": [
    "아래는 클래스가 2개일 때 하나의 클래스의 비율에 따른 Entropy와 Gini Index의 변화량을 나타내는 그래프이다."
   ]
  },
  {
   "cell_type": "code",
   "execution_count": 8,
   "metadata": {},
   "outputs": [
    {
     "data": {},
     "metadata": {},
     "output_type": "display_data"
    },
    {
     "data": {
      "image/png": "[encoded data removed]",
      "text/plain": [
       "plot without title"
      ]
     },
     "metadata": {},
     "output_type": "display_data"
    }
   ],
   "source": [
    "# Load library\n",
    "library(ggplot2)\n",
    "library(dplyr)\n",
    "library(tidyr)\n",
    "options(repr.plot.width=7, repr.plot.height=5)\n",
    "\n",
    "# Generate data\n",
    "x1 <- seq(0, 1, 0.1) # p_1\n",
    "x2 <- seq(1, 0, -0.1) # p_2\n",
    "entropy <- -(x1 * log2(x1)) + -(x2 * log2(x2))\n",
    "gini <- 1 - (x1^2 + x2^2)\n",
    "\n",
    "# Make data.frame\n",
    "df <- data.frame(p = x1, entropy = entropy, gini = gini)\n",
    "df[is.nan(df$entropy), \"entropy\"] <- 0\n",
    "\n",
    "# Plot\n",
    "df %>% gather(key = \"type\", value = \"Impurity\", -p) %>%\n",
    "    ggplot(aes(p, Impurity, group = type, col = type)) + geom_line(size = 1) + \n",
    "    scale_color_manual(name = \"Impurity\", \n",
    "                      values = c(\"steelblue\", \"darkorange\")) + theme_bw()"
   ]
  },
  {
   "cell_type": "markdown",
   "metadata": {},
   "source": [
    "# 가지치기(Pruning)"
   ]
  },
  {
   "cell_type": "markdown",
   "metadata": {},
   "source": [
    "의사결정나무에서 중요한 요소 중 하나로 가지치기가 있다. 의사결정나무는 재귀적으로 분기를 진행하여 모델을 생성하다보면, 모델이 과적합될 수 있다. 극단적으로 예를 들자면 각 Leaf Node별로 하나의 데이터만 남게끔 계속 분기를 진행하여 모델을 생성하면 train set에 대해 과적합되어 잘못된 모델을 생성하게 된다. 이러한 과적합을 막기 위해서 적절한 시점에 가지치기를 수행해줘야 한다."
   ]
  },
  {
   "cell_type": "markdown",
   "metadata": {},
   "source": [
    "# 특징"
   ]
  },
  {
   "cell_type": "markdown",
   "metadata": {},
   "source": [
    "의사결정나무는 다음과 같은 장단점을 갖고 있다.\n",
    "\n",
    "## 장점\n",
    "* 비모수적 방법으로 사전에 어떠한 통계적 가정이 불필요\n",
    "* 모형의 해석이 용이하여 쉽게 이해 가능\n",
    "* 계산효율성이 높음\n",
    "\n",
    "## 단점\n",
    "* 결정경계가 데이터 축에 수직적이여서 비선형 데이터 분류에는 적합하지 않음\n",
    "* 연속형 변수를 비연속적인 값으로 취급하기 때문에 분리의 경계점 근방에서는 예측 오류가 클 가능성이 높음"
   ]
  },
  {
   "cell_type": "markdown",
   "metadata": {},
   "source": [
    "# R코드"
   ]
  },
  {
   "cell_type": "code",
   "execution_count": 46,
   "metadata": {},
   "outputs": [],
   "source": [
    "# Load library\n",
    "library(caret)\n",
    "library(ISLR)\n",
    "library(tree)\n",
    "library(rpart)\n",
    "library(party)\n",
    "\n",
    "# Load data\n",
    "data(Default)\n",
    "\n",
    "# Split data\n",
    "set.seed(1990)\n",
    "train_idx <- createDataPartition(y = Default$default, p = 0.7, list = F)\n",
    "train <- Default[train_idx,]\n",
    "test <- Default[-train_idx,]"
   ]
  },
  {
   "cell_type": "markdown",
   "metadata": {},
   "source": [
    "<code>R</code>에서 의사결정나무 분석을 위한 패키지는 대표적으로 <code>tree</code>, <code>rpart</code>, <code>party</code>가 있다."
   ]
  },
  {
   "cell_type": "markdown",
   "metadata": {},
   "source": [
    "## Tree Package"
   ]
  },
  {
   "cell_type": "markdown",
   "metadata": {},
   "source": [
    "### 모델 형성"
   ]
  },
  {
   "cell_type": "code",
   "execution_count": 5,
   "metadata": {},
   "outputs": [],
   "source": [
    "tree.fit <- tree(default ~ ., data = train)"
   ]
  },
  {
   "cell_type": "code",
   "execution_count": 12,
   "metadata": {},
   "outputs": [
    {
     "data": {
      "image/png": "[encoded data removed]",
      "text/plain": [
       "plot without title"
      ]
     },
     "metadata": {},
     "output_type": "display_data"
    }
   ],
   "source": [
    "plot(tree.fit)\n",
    "text(tree.fit,  pretty = 0)"
   ]
  },
  {
   "cell_type": "markdown",
   "metadata": {},
   "source": [
    "### 가지치기(pruning)"
   ]
  },
  {
   "cell_type": "code",
   "execution_count": 13,
   "metadata": {},
   "outputs": [
    {
     "data": {
      "image/png": "[encoded data removed]",
      "text/plain": [
       "plot without title"
      ]
     },
     "metadata": {},
     "output_type": "display_data"
    }
   ],
   "source": [
    "tree.cv <- cv.tree(tree.fit, FUN = prune.misclass)\n",
    "plot(tree.cv)"
   ]
  },
  {
   "cell_type": "code",
   "execution_count": 14,
   "metadata": {},
   "outputs": [],
   "source": [
    "prune.tree <- prune.misclass(tree.fit, best = 3)"
   ]
  },
  {
   "cell_type": "code",
   "execution_count": 15,
   "metadata": {},
   "outputs": [
    {
     "data": {
      "image/png": "[encoded data removed]",
      "text/plain": [
       "plot without title"
      ]
     },
     "metadata": {},
     "output_type": "display_data"
    }
   ],
   "source": [
    "plot(prune.tree)\n",
    "text(prune.tree, pretty = 0)"
   ]
  },
  {
   "cell_type": "markdown",
   "metadata": {},
   "source": [
    "### 예측 및 평가"
   ]
  },
  {
   "cell_type": "code",
   "execution_count": 37,
   "metadata": {},
   "outputs": [],
   "source": [
    "tree.pred <- predict(prune.tree, test, type = \"class\")"
   ]
  },
  {
   "cell_type": "code",
   "execution_count": 38,
   "metadata": {},
   "outputs": [
    {
     "data": {
      "text/plain": [
       "Confusion Matrix and Statistics\n",
       "\n",
       "          Reference\n",
       "Prediction   No  Yes\n",
       "       No  2856   53\n",
       "       Yes   44   46\n",
       "                                          \n",
       "               Accuracy : 0.9677          \n",
       "                 95% CI : (0.9607, 0.9737)\n",
       "    No Information Rate : 0.967           \n",
       "    P-Value [Acc > NIR] : 0.4452          \n",
       "                                          \n",
       "                  Kappa : 0.4701          \n",
       " Mcnemar's Test P-Value : 0.4166          \n",
       "                                          \n",
       "            Sensitivity : 0.46465         \n",
       "            Specificity : 0.98483         \n",
       "         Pos Pred Value : 0.51111         \n",
       "         Neg Pred Value : 0.98178         \n",
       "              Precision : 0.51111         \n",
       "                 Recall : 0.46465         \n",
       "                     F1 : 0.48677         \n",
       "             Prevalence : 0.03301         \n",
       "         Detection Rate : 0.01534         \n",
       "   Detection Prevalence : 0.03001         \n",
       "      Balanced Accuracy : 0.72474         \n",
       "                                          \n",
       "       'Positive' Class : Yes             \n",
       "                                          "
      ]
     },
     "metadata": {},
     "output_type": "display_data"
    }
   ],
   "source": [
    "confusionMatrix(tree.pred, test$default, positive = \"Yes\", mode = \"everything\")"
   ]
  },
  {
   "cell_type": "markdown",
   "metadata": {},
   "source": [
    "## rpart 패키지"
   ]
  },
  {
   "cell_type": "markdown",
   "metadata": {},
   "source": [
    "### 모델 형성"
   ]
  },
  {
   "cell_type": "code",
   "execution_count": 22,
   "metadata": {},
   "outputs": [],
   "source": [
    "rpart.fit <- rpart(default ~ ., data = train, method = \"class\")"
   ]
  },
  {
   "cell_type": "code",
   "execution_count": 23,
   "metadata": {},
   "outputs": [
    {
     "data": {
      "image/png": "[encoded data removed]",
      "text/plain": [
       "plot without title"
      ]
     },
     "metadata": {},
     "output_type": "display_data"
    }
   ],
   "source": [
    "plot(rpart.fit)\n",
    "text(rpart.fit)"
   ]
  },
  {
   "cell_type": "markdown",
   "metadata": {},
   "source": [
    "### 가지치기(pruning)"
   ]
  },
  {
   "cell_type": "code",
   "execution_count": 24,
   "metadata": {},
   "outputs": [
    {
     "name": "stdout",
     "output_type": "stream",
     "text": [
      "\n",
      "Classification tree:\n",
      "rpart(formula = default ~ ., data = train, method = \"class\")\n",
      "\n",
      "Variables actually used in tree construction:\n",
      "[1] balance income \n",
      "\n",
      "Root node error: 234/7001 = 0.033424\n",
      "\n",
      "n= 7001 \n",
      "\n",
      "        CP nsplit rel error  xerror     xstd\n",
      "1 0.102564      0   1.00000 1.00000 0.064270\n",
      "2 0.085470      1   0.89744 1.00427 0.064403\n",
      "3 0.017094      2   0.81197 0.88034 0.060427\n",
      "4 0.010000      6   0.74359 0.88462 0.060569\n"
     ]
    }
   ],
   "source": [
    "printcp(rpart.fit)"
   ]
  },
  {
   "cell_type": "code",
   "execution_count": 25,
   "metadata": {},
   "outputs": [
    {
     "data": {
      "image/png": "[encoded data removed]",
      "text/plain": [
       "plot without title"
      ]
     },
     "metadata": {},
     "output_type": "display_data"
    }
   ],
   "source": [
    "plotcp(rpart.fit)"
   ]
  },
  {
   "cell_type": "code",
   "execution_count": 26,
   "metadata": {},
   "outputs": [],
   "source": [
    "prune.rpart <- prune(rpart.fit, cp = rpart.fit$cptable[which.min(rpart.fit$cptable[,\"xerror\"]),\"CP\"])"
   ]
  },
  {
   "cell_type": "code",
   "execution_count": 27,
   "metadata": {},
   "outputs": [
    {
     "data": {
      "image/png": "[encoded data removed]",
      "text/plain": [
       "plot without title"
      ]
     },
     "metadata": {},
     "output_type": "display_data"
    }
   ],
   "source": [
    "plot(prune.rpart)\n",
    "text(prune.rpart)"
   ]
  },
  {
   "cell_type": "markdown",
   "metadata": {},
   "source": [
    "### 예측 및 평가"
   ]
  },
  {
   "cell_type": "code",
   "execution_count": 39,
   "metadata": {},
   "outputs": [],
   "source": [
    "rpart.pred <- predict(prune.rpart, test, type = \"class\")"
   ]
  },
  {
   "cell_type": "code",
   "execution_count": 40,
   "metadata": {},
   "outputs": [
    {
     "data": {
      "text/plain": [
       "Confusion Matrix and Statistics\n",
       "\n",
       "          Reference\n",
       "Prediction   No  Yes\n",
       "       No  2880   63\n",
       "       Yes   20   36\n",
       "                                          \n",
       "               Accuracy : 0.9723          \n",
       "                 95% CI : (0.9658, 0.9779)\n",
       "    No Information Rate : 0.967           \n",
       "    P-Value [Acc > NIR] : 0.05364         \n",
       "                                          \n",
       "                  Kappa : 0.4514          \n",
       " Mcnemar's Test P-Value : 4.025e-06       \n",
       "                                          \n",
       "            Sensitivity : 0.36364         \n",
       "            Specificity : 0.99310         \n",
       "         Pos Pred Value : 0.64286         \n",
       "         Neg Pred Value : 0.97859         \n",
       "              Precision : 0.64286         \n",
       "                 Recall : 0.36364         \n",
       "                     F1 : 0.46452         \n",
       "             Prevalence : 0.03301         \n",
       "         Detection Rate : 0.01200         \n",
       "   Detection Prevalence : 0.01867         \n",
       "      Balanced Accuracy : 0.67837         \n",
       "                                          \n",
       "       'Positive' Class : Yes             \n",
       "                                          "
      ]
     },
     "metadata": {},
     "output_type": "display_data"
    }
   ],
   "source": [
    "confusionMatrix(rpart.pred, test$default, positive = \"Yes\", mode = \"everything\")"
   ]
  },
  {
   "cell_type": "markdown",
   "metadata": {},
   "source": [
    "# party 패키지"
   ]
  },
  {
   "cell_type": "markdown",
   "metadata": {},
   "source": [
    "### 모델 형성"
   ]
  },
  {
   "cell_type": "code",
   "execution_count": 41,
   "metadata": {},
   "outputs": [],
   "source": [
    "party.fit <- ctree(default ~ ., data = train)"
   ]
  },
  {
   "cell_type": "code",
   "execution_count": 42,
   "metadata": {},
   "outputs": [
    {
     "data": {
      "image/png": "[encoded data removed]",
      "text/plain": [
       "plot without title"
      ]
     },
     "metadata": {},
     "output_type": "display_data"
    }
   ],
   "source": [
    "plot(party.fit)"
   ]
  },
  {
   "cell_type": "markdown",
   "metadata": {},
   "source": [
    "### 가지치기(pruning)"
   ]
  },
  {
   "cell_type": "markdown",
   "metadata": {},
   "source": [
    "<code>party</code>패키지는 가지치기를 significance를 사용해서 하기 때문에 별도의 가지치기 과정이 없다."
   ]
  },
  {
   "cell_type": "markdown",
   "metadata": {},
   "source": [
    "### 예측 및 평가"
   ]
  },
  {
   "cell_type": "code",
   "execution_count": 43,
   "metadata": {},
   "outputs": [],
   "source": [
    "party.pred <- predict(party.fit, test)"
   ]
  },
  {
   "cell_type": "code",
   "execution_count": 44,
   "metadata": {},
   "outputs": [
    {
     "data": {
      "text/plain": [
       "Confusion Matrix and Statistics\n",
       "\n",
       "          Reference\n",
       "Prediction   No  Yes\n",
       "       No  2871   56\n",
       "       Yes   29   43\n",
       "                                          \n",
       "               Accuracy : 0.9717          \n",
       "                 95% CI : (0.9651, 0.9773)\n",
       "    No Information Rate : 0.967           \n",
       "    P-Value [Acc > NIR] : 0.081419        \n",
       "                                          \n",
       "                  Kappa : 0.4887          \n",
       " Mcnemar's Test P-Value : 0.004801        \n",
       "                                          \n",
       "            Sensitivity : 0.43434         \n",
       "            Specificity : 0.99000         \n",
       "         Pos Pred Value : 0.59722         \n",
       "         Neg Pred Value : 0.98087         \n",
       "              Precision : 0.59722         \n",
       "                 Recall : 0.43434         \n",
       "                     F1 : 0.50292         \n",
       "             Prevalence : 0.03301         \n",
       "         Detection Rate : 0.01434         \n",
       "   Detection Prevalence : 0.02401         \n",
       "      Balanced Accuracy : 0.71217         \n",
       "                                          \n",
       "       'Positive' Class : Yes             \n",
       "                                          "
      ]
     },
     "metadata": {},
     "output_type": "display_data"
    }
   ],
   "source": [
    "confusionMatrix(party.pred, test$default, positive = \"Yes\", mode = \"everything\")"
   ]
  }
 ],
 "metadata": {
  "kernelspec": {
   "display_name": "R",
   "language": "R",
   "name": "ir"
  },
  "language_info": {
   "codemirror_mode": "r",
   "file_extension": ".r",
   "mimetype": "text/x-r-source",
   "name": "R",
   "pygments_lexer": "r",
   "version": "3.4.3"
  }
 },
 "nbformat": 4,
 "nbformat_minor": 2
}
