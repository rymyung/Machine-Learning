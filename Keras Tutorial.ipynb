{
 "cells": [
  {
   "cell_type": "code",
   "execution_count": 1,
   "id": "reported-shopping",
   "metadata": {},
   "outputs": [],
   "source": [
    "import tensorflow as tf"
   ]
  },
  {
   "cell_type": "code",
   "execution_count": 2,
   "id": "taken-catalyst",
   "metadata": {},
   "outputs": [
    {
     "name": "stdout",
     "output_type": "stream",
     "text": [
      "2.4.0-rc0\n"
     ]
    }
   ],
   "source": [
    "print(tf.__version__)"
   ]
  },
  {
   "cell_type": "code",
   "execution_count": 3,
   "id": "considered-reporter",
   "metadata": {},
   "outputs": [],
   "source": [
    "from tensorflow import keras"
   ]
  },
  {
   "cell_type": "code",
   "execution_count": 4,
   "id": "educated-distribution",
   "metadata": {},
   "outputs": [
    {
     "name": "stdout",
     "output_type": "stream",
     "text": [
      "2.4.0\n"
     ]
    }
   ],
   "source": [
    "print(keras.__version__)"
   ]
  },
  {
   "cell_type": "markdown",
   "id": "senior-polyester",
   "metadata": {},
   "source": [
    "# 1. 이미지 분류기"
   ]
  },
  {
   "cell_type": "markdown",
   "id": "disabled-eagle",
   "metadata": {},
   "source": [
    "## 데이터셋 적재하기"
   ]
  },
  {
   "cell_type": "code",
   "execution_count": 41,
   "id": "subjective-centre",
   "metadata": {},
   "outputs": [],
   "source": [
    "fashion_mnist = keras.datasets.fashion_mnist"
   ]
  },
  {
   "cell_type": "code",
   "execution_count": 42,
   "id": "later-winning",
   "metadata": {},
   "outputs": [],
   "source": [
    "(X_train_full, y_train_full), (X_test, y_test) = fashion_mnist.load_data()"
   ]
  },
  {
   "cell_type": "code",
   "execution_count": 43,
   "id": "published-migration",
   "metadata": {},
   "outputs": [
    {
     "data": {
      "text/plain": [
       "(60000, 28, 28)"
      ]
     },
     "execution_count": 43,
     "metadata": {},
     "output_type": "execute_result"
    }
   ],
   "source": [
    "X_train_full.shape"
   ]
  },
  {
   "cell_type": "code",
   "execution_count": 44,
   "id": "respective-payroll",
   "metadata": {},
   "outputs": [
    {
     "data": {
      "text/plain": [
       "dtype('uint8')"
      ]
     },
     "execution_count": 44,
     "metadata": {},
     "output_type": "execute_result"
    }
   ],
   "source": [
    "X_train_full.dtype"
   ]
  },
  {
   "cell_type": "code",
   "execution_count": 45,
   "id": "boxed-bearing",
   "metadata": {},
   "outputs": [],
   "source": [
    "X_valid, X_train = X_train_full[:5000]/255.0, X_train_full[5000:]/255.0\n",
    "y_valid, y_train = y_train_full[:5000], y_train_full[5000:]\n",
    "X_test = X_test/255.0"
   ]
  },
  {
   "cell_type": "code",
   "execution_count": 46,
   "id": "working-greene",
   "metadata": {},
   "outputs": [],
   "source": [
    "class_names = [\"T-SHirt/top\", \"Trouser\", \"Pullover\", \"Dress\", \"Coat\",\n",
    "               \"Sandal\", \"Shirt\", \"Sneaker\", \"Bag\", \"Ankle boot\"]"
   ]
  },
  {
   "cell_type": "markdown",
   "id": "personal-faith",
   "metadata": {},
   "source": [
    "## 모델 만들기"
   ]
  },
  {
   "cell_type": "code",
   "execution_count": 61,
   "id": "attempted-hybrid",
   "metadata": {},
   "outputs": [],
   "source": [
    "model = keras.models.Sequential()\n",
    "model.add(keras.layers.Flatten(input_shape=[28,28]))\n",
    "model.add(keras.layers.Dense(300, activation=\"relu\"))\n",
    "model.add(keras.layers.Dense(100, activation=\"relu\"))\n",
    "model.add(keras.layers.Dense(10, activation=\"softmax\"))"
   ]
  },
  {
   "cell_type": "code",
   "execution_count": 62,
   "id": "lucky-duration",
   "metadata": {},
   "outputs": [
    {
     "name": "stdout",
     "output_type": "stream",
     "text": [
      "Model: \"sequential_2\"\n",
      "_________________________________________________________________\n",
      "Layer (type)                 Output Shape              Param #   \n",
      "=================================================================\n",
      "flatten_2 (Flatten)          (None, 784)               0         \n",
      "_________________________________________________________________\n",
      "dense_5 (Dense)              (None, 300)               235500    \n",
      "_________________________________________________________________\n",
      "dense_6 (Dense)              (None, 100)               30100     \n",
      "_________________________________________________________________\n",
      "dense_7 (Dense)              (None, 10)                1010      \n",
      "=================================================================\n",
      "Total params: 266,610\n",
      "Trainable params: 266,610\n",
      "Non-trainable params: 0\n",
      "_________________________________________________________________\n"
     ]
    }
   ],
   "source": [
    "model.summary()"
   ]
  },
  {
   "cell_type": "markdown",
   "id": "imposed-helicopter",
   "metadata": {},
   "source": [
    "## 모델 컴파일"
   ]
  },
  {
   "cell_type": "code",
   "execution_count": 63,
   "id": "periodic-memphis",
   "metadata": {},
   "outputs": [],
   "source": [
    "model.compile(loss=\"sparse_categorical_crossentropy\",\n",
    "              optimizer=\"sgd\",\n",
    "              metrics=[\"accuracy\"])"
   ]
  },
  {
   "cell_type": "markdown",
   "id": "initial-posting",
   "metadata": {},
   "source": [
    "## 모델 훈련과 평가"
   ]
  },
  {
   "cell_type": "code",
   "execution_count": 64,
   "id": "unique-nickel",
   "metadata": {
    "scrolled": true
   },
   "outputs": [
    {
     "name": "stdout",
     "output_type": "stream",
     "text": [
      "Epoch 1/30\n",
      "1719/1719 [==============================] - 1s 594us/step - loss: 0.9643 - accuracy: 0.6867 - val_loss: 0.5101 - val_accuracy: 0.8244\n",
      "Epoch 2/30\n",
      "1719/1719 [==============================] - 1s 507us/step - loss: 0.5008 - accuracy: 0.8239 - val_loss: 0.4602 - val_accuracy: 0.8472\n",
      "Epoch 3/30\n",
      "1719/1719 [==============================] - 1s 501us/step - loss: 0.4480 - accuracy: 0.8422 - val_loss: 0.4368 - val_accuracy: 0.8432\n",
      "Epoch 4/30\n",
      "1719/1719 [==============================] - 1s 504us/step - loss: 0.4184 - accuracy: 0.8526 - val_loss: 0.4137 - val_accuracy: 0.8526\n",
      "Epoch 5/30\n",
      "1719/1719 [==============================] - 1s 502us/step - loss: 0.4009 - accuracy: 0.8586 - val_loss: 0.3741 - val_accuracy: 0.8712\n",
      "Epoch 6/30\n",
      "1719/1719 [==============================] - 1s 506us/step - loss: 0.3766 - accuracy: 0.8688 - val_loss: 0.3707 - val_accuracy: 0.8672\n",
      "Epoch 7/30\n",
      "1719/1719 [==============================] - 1s 505us/step - loss: 0.3665 - accuracy: 0.8717 - val_loss: 0.3849 - val_accuracy: 0.8600\n",
      "Epoch 8/30\n",
      "1719/1719 [==============================] - 1s 502us/step - loss: 0.3565 - accuracy: 0.8723 - val_loss: 0.3693 - val_accuracy: 0.8704\n",
      "Epoch 9/30\n",
      "1719/1719 [==============================] - 1s 504us/step - loss: 0.3491 - accuracy: 0.8779 - val_loss: 0.3455 - val_accuracy: 0.8788\n",
      "Epoch 10/30\n",
      "1719/1719 [==============================] - 1s 503us/step - loss: 0.3348 - accuracy: 0.8794 - val_loss: 0.3363 - val_accuracy: 0.8824\n",
      "Epoch 11/30\n",
      "1719/1719 [==============================] - 1s 508us/step - loss: 0.3229 - accuracy: 0.8856 - val_loss: 0.3397 - val_accuracy: 0.8806\n",
      "Epoch 12/30\n",
      "1719/1719 [==============================] - 1s 506us/step - loss: 0.3245 - accuracy: 0.8855 - val_loss: 0.3292 - val_accuracy: 0.8818\n",
      "Epoch 13/30\n",
      "1719/1719 [==============================] - 1s 513us/step - loss: 0.3065 - accuracy: 0.8912 - val_loss: 0.3590 - val_accuracy: 0.8682\n",
      "Epoch 14/30\n",
      "1719/1719 [==============================] - 1s 508us/step - loss: 0.3059 - accuracy: 0.8920 - val_loss: 0.3185 - val_accuracy: 0.8856\n",
      "Epoch 15/30\n",
      "1719/1719 [==============================] - 1s 508us/step - loss: 0.3005 - accuracy: 0.8939 - val_loss: 0.3243 - val_accuracy: 0.8842\n",
      "Epoch 16/30\n",
      "1719/1719 [==============================] - 1s 507us/step - loss: 0.2909 - accuracy: 0.8952 - val_loss: 0.3236 - val_accuracy: 0.8814\n",
      "Epoch 17/30\n",
      "1719/1719 [==============================] - 1s 507us/step - loss: 0.2843 - accuracy: 0.8981 - val_loss: 0.3177 - val_accuracy: 0.8866\n",
      "Epoch 18/30\n",
      "1719/1719 [==============================] - 1s 509us/step - loss: 0.2798 - accuracy: 0.8985 - val_loss: 0.3127 - val_accuracy: 0.8894\n",
      "Epoch 19/30\n",
      "1719/1719 [==============================] - 1s 513us/step - loss: 0.2737 - accuracy: 0.9028 - val_loss: 0.3303 - val_accuracy: 0.8832\n",
      "Epoch 20/30\n",
      "1719/1719 [==============================] - 1s 519us/step - loss: 0.2694 - accuracy: 0.9019 - val_loss: 0.3128 - val_accuracy: 0.8886\n",
      "Epoch 21/30\n",
      "1719/1719 [==============================] - 1s 509us/step - loss: 0.2673 - accuracy: 0.9057 - val_loss: 0.3127 - val_accuracy: 0.8862\n",
      "Epoch 22/30\n",
      "1719/1719 [==============================] - 1s 511us/step - loss: 0.2627 - accuracy: 0.9064 - val_loss: 0.3049 - val_accuracy: 0.8882\n",
      "Epoch 23/30\n",
      "1719/1719 [==============================] - 1s 513us/step - loss: 0.2600 - accuracy: 0.9077 - val_loss: 0.3034 - val_accuracy: 0.8936\n",
      "Epoch 24/30\n",
      "1719/1719 [==============================] - 1s 510us/step - loss: 0.2538 - accuracy: 0.9091 - val_loss: 0.3009 - val_accuracy: 0.8926\n",
      "Epoch 25/30\n",
      "1719/1719 [==============================] - 1s 510us/step - loss: 0.2460 - accuracy: 0.9125 - val_loss: 0.3026 - val_accuracy: 0.8886\n",
      "Epoch 26/30\n",
      "1719/1719 [==============================] - 1s 509us/step - loss: 0.2438 - accuracy: 0.9127 - val_loss: 0.3064 - val_accuracy: 0.8920\n",
      "Epoch 27/30\n",
      "1719/1719 [==============================] - 1s 509us/step - loss: 0.2325 - accuracy: 0.9163 - val_loss: 0.3065 - val_accuracy: 0.8892\n",
      "Epoch 28/30\n",
      "1719/1719 [==============================] - 1s 510us/step - loss: 0.2360 - accuracy: 0.9152 - val_loss: 0.2990 - val_accuracy: 0.8908\n",
      "Epoch 29/30\n",
      "1719/1719 [==============================] - 1s 508us/step - loss: 0.2293 - accuracy: 0.9169 - val_loss: 0.2855 - val_accuracy: 0.8962\n",
      "Epoch 30/30\n",
      "1719/1719 [==============================] - 1s 512us/step - loss: 0.2286 - accuracy: 0.9177 - val_loss: 0.2894 - val_accuracy: 0.8936\n"
     ]
    }
   ],
   "source": [
    "history = model.fit(X_train, y_train, epochs=30,\n",
    "                    validation_data=(X_valid, y_valid))"
   ]
  },
  {
   "cell_type": "code",
   "execution_count": 34,
   "id": "prescription-hepatitis",
   "metadata": {},
   "outputs": [],
   "source": [
    "import pandas as pd\n",
    "import matplotlib.pyplot as plt"
   ]
  },
  {
   "cell_type": "code",
   "execution_count": 65,
   "id": "solar-baltimore",
   "metadata": {},
   "outputs": [
    {
     "data": {
      "image/png": "[encoded data removed]",
      "text/plain": [
       "<Figure size 576x360 with 1 Axes>"
      ]
     },
     "metadata": {
      "needs_background": "light"
     },
     "output_type": "display_data"
    }
   ],
   "source": [
    "pd.DataFrame(history.history).plot(figsize=(8,5))\n",
    "plt.grid(True)\n",
    "plt.gca().set_ylim(0,1)\n",
    "plt.show()"
   ]
  },
  {
   "cell_type": "code",
   "execution_count": 66,
   "id": "graduate-treatment",
   "metadata": {},
   "outputs": [
    {
     "name": "stdout",
     "output_type": "stream",
     "text": [
      "313/313 [==============================] - 0s 320us/step - loss: 0.3312 - accuracy: 0.8840\n"
     ]
    },
    {
     "data": {
      "text/plain": [
       "[0.33115333318710327, 0.8840000033378601]"
      ]
     },
     "execution_count": 66,
     "metadata": {},
     "output_type": "execute_result"
    }
   ],
   "source": [
    "model.evaluate(X_test, y_test)"
   ]
  },
  {
   "cell_type": "markdown",
   "id": "advised-plane",
   "metadata": {},
   "source": [
    "## 모델 예측"
   ]
  },
  {
   "cell_type": "code",
   "execution_count": 67,
   "id": "changing-meditation",
   "metadata": {},
   "outputs": [
    {
     "data": {
      "text/plain": [
       "array([[ 7.1466222e-44,  0.0000000e+00,  8.9683102e-44, -0.0000000e+00,\n",
       "         0.0000000e+00,  0.0000000e+00,  0.0000000e+00,  0.0000000e+00,\n",
       "         0.0000000e+00,  0.0000000e+00],\n",
       "       [ 0.0000000e+00,  0.0000000e+00,  0.0000000e+00, -2.0000000e+00,\n",
       "         0.0000000e+00, -2.0000000e+00,  1.8664672e+08,  2.3549907e+20,\n",
       "         2.4821389e+05,  3.9505281e+30],\n",
       "       [ 6.8885191e+22,  1.4183974e-19,  6.7289760e+08,  9.1756927e+02,\n",
       "         5.3631910e-39,  0.0000000e+00,  0.0000000e+00,  0.0000000e+00,\n",
       "         0.0000000e+00, -2.0000000e+00]], dtype=float32)"
      ]
     },
     "execution_count": 67,
     "metadata": {},
     "output_type": "execute_result"
    }
   ],
   "source": [
    "X_new = X_test[:3]\n",
    "y_proba = model.predict(X_new)\n",
    "y_proba"
   ]
  },
  {
   "cell_type": "code",
   "execution_count": 68,
   "id": "micro-transformation",
   "metadata": {},
   "outputs": [
    {
     "data": {
      "text/plain": [
       "array([[ 0.0000000e+00,  0.0000000e+00,  0.0000000e+00, -0.0000000e+00,\n",
       "         0.0000000e+00,  0.0000000e+00,  0.0000000e+00,  0.0000000e+00,\n",
       "         0.0000000e+00,  0.0000000e+00],\n",
       "       [ 0.0000000e+00,  0.0000000e+00,  0.0000000e+00, -2.0000000e+00,\n",
       "         0.0000000e+00, -2.0000000e+00,  1.8664672e+08,  2.3549907e+20,\n",
       "         2.4821391e+05,  3.9505281e+30],\n",
       "       [ 6.8885191e+22,  0.0000000e+00,  6.7289760e+08,  9.1757001e+02,\n",
       "         0.0000000e+00,  0.0000000e+00,  0.0000000e+00,  0.0000000e+00,\n",
       "         0.0000000e+00, -2.0000000e+00]], dtype=float32)"
      ]
     },
     "execution_count": 68,
     "metadata": {},
     "output_type": "execute_result"
    }
   ],
   "source": [
    "y_proba.round(2)"
   ]
  },
  {
   "cell_type": "code",
   "execution_count": 70,
   "id": "corresponding-kazakhstan",
   "metadata": {},
   "outputs": [
    {
     "name": "stderr",
     "output_type": "stream",
     "text": [
      "/Users/yeomyungro/miniforge3/envs/atf24/lib/python3.8/site-packages/tensorflow/python/keras/engine/sequential.py:450: UserWarning: `model.predict_classes()` is deprecated and will be removed after 2021-01-01. Please use instead:* `np.argmax(model.predict(x), axis=-1)`,   if your model does multi-class classification   (e.g. if it uses a `softmax` last-layer activation).* `(model.predict(x) > 0.5).astype(\"int32\")`,   if your model does binary classification   (e.g. if it uses a `sigmoid` last-layer activation).\n",
      "  warnings.warn('`model.predict_classes()` is deprecated and '\n"
     ]
    },
    {
     "data": {
      "text/plain": [
       "array([2, 9, 0])"
      ]
     },
     "execution_count": 70,
     "metadata": {},
     "output_type": "execute_result"
    }
   ],
   "source": [
    "y_pred = model.predict_classes(X_new)\n",
    "y_pred"
   ]
  },
  {
   "cell_type": "markdown",
   "id": "empty-return",
   "metadata": {},
   "source": [
    "# 2. 주택 가격 예측(회귀)"
   ]
  },
  {
   "cell_type": "code",
   "execution_count": 71,
   "id": "boolean-wrapping",
   "metadata": {},
   "outputs": [],
   "source": [
    "from sklearn.datasets import fetch_california_housing\n",
    "from sklearn.model_selection import train_test_split\n",
    "from sklearn.preprocessing import StandardScaler"
   ]
  },
  {
   "cell_type": "code",
   "execution_count": 72,
   "id": "prerequisite-allocation",
   "metadata": {},
   "outputs": [],
   "source": [
    "housing = fetch_california_housing()"
   ]
  },
  {
   "cell_type": "code",
   "execution_count": 73,
   "id": "fabulous-authorization",
   "metadata": {},
   "outputs": [],
   "source": [
    "X_train_full, X_test, y_train_full, y_test = train_test_split(housing.data, housing.target)\n",
    "X_train, X_valid, y_train, y_valid = train_test_split(X_train_full, y_train_full)"
   ]
  },
  {
   "cell_type": "code",
   "execution_count": 75,
   "id": "contemporary-conservative",
   "metadata": {},
   "outputs": [],
   "source": [
    "scaler = StandardScaler()\n",
    "X_train = scaler.fit_transform(X_train)\n",
    "X_valid = scaler.transform(X_valid)\n",
    "X_test = scaler.transform(X_test)"
   ]
  },
  {
   "cell_type": "code",
   "execution_count": 76,
   "id": "sunrise-panic",
   "metadata": {
    "scrolled": true
   },
   "outputs": [
    {
     "name": "stdout",
     "output_type": "stream",
     "text": [
      "Epoch 1/20\n",
      "363/363 [==============================] - 0s 520us/step - loss: 1.4272 - val_loss: 0.6015\n",
      "Epoch 2/20\n",
      "363/363 [==============================] - 0s 374us/step - loss: 0.5472 - val_loss: 0.5049\n",
      "Epoch 3/20\n",
      "363/363 [==============================] - 0s 370us/step - loss: 0.4787 - val_loss: 0.5204\n",
      "Epoch 4/20\n",
      "363/363 [==============================] - 0s 368us/step - loss: 0.4752 - val_loss: 0.5085\n",
      "Epoch 5/20\n",
      "363/363 [==============================] - 0s 364us/step - loss: 0.5159 - val_loss: 0.4709\n",
      "Epoch 6/20\n",
      "363/363 [==============================] - 0s 363us/step - loss: 0.4315 - val_loss: 0.4593\n",
      "Epoch 7/20\n",
      "363/363 [==============================] - 0s 671us/step - loss: 0.4547 - val_loss: 0.4559\n",
      "Epoch 8/20\n",
      "363/363 [==============================] - 0s 370us/step - loss: 0.4100 - val_loss: 0.4647\n",
      "Epoch 9/20\n",
      "363/363 [==============================] - 0s 368us/step - loss: 0.4317 - val_loss: 0.4658\n",
      "Epoch 10/20\n",
      "363/363 [==============================] - 0s 367us/step - loss: 0.4359 - val_loss: 0.4430\n",
      "Epoch 11/20\n",
      "363/363 [==============================] - 0s 365us/step - loss: 0.4324 - val_loss: 0.4335\n",
      "Epoch 12/20\n",
      "363/363 [==============================] - 0s 365us/step - loss: 0.4232 - val_loss: 0.4318\n",
      "Epoch 13/20\n",
      "363/363 [==============================] - 0s 368us/step - loss: 0.3889 - val_loss: 0.4254\n",
      "Epoch 14/20\n",
      "363/363 [==============================] - 0s 378us/step - loss: 0.4158 - val_loss: 0.4363\n",
      "Epoch 15/20\n",
      "363/363 [==============================] - 0s 416us/step - loss: 0.4051 - val_loss: 0.4325\n",
      "Epoch 16/20\n",
      "363/363 [==============================] - 0s 367us/step - loss: 0.3958 - val_loss: 0.4232\n",
      "Epoch 17/20\n",
      "363/363 [==============================] - 0s 375us/step - loss: 0.4632 - val_loss: 0.4342\n",
      "Epoch 18/20\n",
      "363/363 [==============================] - 0s 393us/step - loss: 0.4001 - val_loss: 0.4886\n",
      "Epoch 19/20\n",
      "363/363 [==============================] - 0s 369us/step - loss: 0.4047 - val_loss: 0.4208\n",
      "Epoch 20/20\n",
      "363/363 [==============================] - 0s 372us/step - loss: 0.3751 - val_loss: 0.4208\n",
      "162/162 [==============================] - 0s 223us/step - loss: 0.3959\n"
     ]
    }
   ],
   "source": [
    "model = keras.models.Sequential([\n",
    "    keras.layers.Dense(30, activation=\"relu\", input_shape=X_train.shape[1:]),\n",
    "    keras.layers.Dense(1)\n",
    "])\n",
    "\n",
    "model.compile(loss=\"mean_squared_error\", optimizer=\"sgd\")\n",
    "history = model.fit(X_train, y_train, epochs=20, validation_data=(X_valid, y_valid))\n",
    "mse_test = model.evaluate(X_test, y_test)\n",
    "X_new = X_test[:3]\n",
    "y_pred = model.predict(X_new)"
   ]
  },
  {
   "cell_type": "code",
   "execution_count": 77,
   "id": "british-tuition",
   "metadata": {},
   "outputs": [
    {
     "name": "stdout",
     "output_type": "stream",
     "text": [
      "0.3959297239780426\n"
     ]
    }
   ],
   "source": [
    "print(mse_test)"
   ]
  },
  {
   "cell_type": "code",
   "execution_count": 99,
   "id": "departmental-attachment",
   "metadata": {},
   "outputs": [
    {
     "name": "stdout",
     "output_type": "stream",
     "text": [
      "예측 : 3.075, 정답 : 2.261, 차이(절대값) : 0.814\n",
      "예측 : 0.878, 정답 : 0.698, 차이(절대값) : 0.180\n",
      "예측 : 1.391, 정답 : 1.075, 차이(절대값) : 0.316\n"
     ]
    }
   ],
   "source": [
    "for pred, answer in zip(y_pred, y_test):\n",
    "    print(\"예측 : {:0.3f}, 정답 : {}, 차이(절대값) : {:0.3f}\".format(pred[0], answer, abs(pred[0]-answer)))"
   ]
  },
  {
   "cell_type": "markdown",
   "id": "underlying-vegetable",
   "metadata": {},
   "source": [
    "# 3. 함수형 API를 사용해 복잡한 모델 만들기"
   ]
  },
  {
   "cell_type": "markdown",
   "id": "bronze-anatomy",
   "metadata": {},
   "source": [
    "Wide&Deep 신경망 구조"
   ]
  },
  {
   "cell_type": "code",
   "execution_count": 106,
   "id": "naughty-mapping",
   "metadata": {},
   "outputs": [],
   "source": [
    "input_ = keras.layers.Input(shape=X_train.shape[1:])\n",
    "hidden1 = keras.layers.Dense(30, activation=\"relu\")(input_)\n",
    "hidden2 = keras.layers.Dense(30, activation=\"relu\")(hidden1)\n",
    "concat = keras.layers.concatenate([input_, hidden2])\n",
    "output = keras.layers.Dense(1)(concat)\n",
    "model = keras.models.Model(inputs=[input_], outputs=[output])"
   ]
  },
  {
   "cell_type": "code",
   "execution_count": 107,
   "id": "grateful-necklace",
   "metadata": {},
   "outputs": [
    {
     "name": "stdout",
     "output_type": "stream",
     "text": [
      "Model: \"model_1\"\n",
      "__________________________________________________________________________________________________\n",
      "Layer (type)                    Output Shape         Param #     Connected to                     \n",
      "==================================================================================================\n",
      "input_4 (InputLayer)            [(None, 8)]          0                                            \n",
      "__________________________________________________________________________________________________\n",
      "dense_17 (Dense)                (None, 30)           270         input_4[0][0]                    \n",
      "__________________________________________________________________________________________________\n",
      "dense_18 (Dense)                (None, 30)           930         dense_17[0][0]                   \n",
      "__________________________________________________________________________________________________\n",
      "concatenate_2 (Concatenate)     (None, 38)           0           input_4[0][0]                    \n",
      "                                                                 dense_18[0][0]                   \n",
      "__________________________________________________________________________________________________\n",
      "dense_19 (Dense)                (None, 1)            39          concatenate_2[0][0]              \n",
      "==================================================================================================\n",
      "Total params: 1,239\n",
      "Trainable params: 1,239\n",
      "Non-trainable params: 0\n",
      "__________________________________________________________________________________________________\n"
     ]
    }
   ],
   "source": [
    "model.summary()"
   ]
  },
  {
   "cell_type": "code",
   "execution_count": 108,
   "id": "large-sperm",
   "metadata": {
    "scrolled": true
   },
   "outputs": [
    {
     "name": "stdout",
     "output_type": "stream",
     "text": [
      "Epoch 1/20\n",
      "363/363 [==============================] - 0s 596us/step - loss: 2.8786 - val_loss: 0.8514\n",
      "Epoch 2/20\n",
      "363/363 [==============================] - 0s 440us/step - loss: 0.8340 - val_loss: 0.7582\n",
      "Epoch 3/20\n",
      "363/363 [==============================] - 0s 442us/step - loss: 0.7347 - val_loss: 0.7139\n",
      "Epoch 4/20\n",
      "363/363 [==============================] - 0s 445us/step - loss: 0.6788 - val_loss: 0.6707\n",
      "Epoch 5/20\n",
      "363/363 [==============================] - 0s 732us/step - loss: 0.6400 - val_loss: 0.6357\n",
      "Epoch 6/20\n",
      "363/363 [==============================] - 0s 588us/step - loss: 0.5967 - val_loss: 0.6106\n",
      "Epoch 7/20\n",
      "363/363 [==============================] - 0s 452us/step - loss: 0.6399 - val_loss: 0.5896\n",
      "Epoch 8/20\n",
      "363/363 [==============================] - 0s 451us/step - loss: 0.5581 - val_loss: 0.5718\n",
      "Epoch 9/20\n",
      "363/363 [==============================] - 0s 450us/step - loss: 0.5348 - val_loss: 0.5610\n",
      "Epoch 10/20\n",
      "363/363 [==============================] - 0s 452us/step - loss: 0.5175 - val_loss: 0.5483\n",
      "Epoch 11/20\n",
      "363/363 [==============================] - 0s 452us/step - loss: 0.5175 - val_loss: 0.5389\n",
      "Epoch 12/20\n",
      "363/363 [==============================] - 0s 451us/step - loss: 0.5225 - val_loss: 0.5287\n",
      "Epoch 13/20\n",
      "363/363 [==============================] - 0s 448us/step - loss: 0.4948 - val_loss: 0.5232\n",
      "Epoch 14/20\n",
      "363/363 [==============================] - 0s 448us/step - loss: 0.4705 - val_loss: 0.5208\n",
      "Epoch 15/20\n",
      "363/363 [==============================] - 0s 448us/step - loss: 0.4876 - val_loss: 0.5124\n",
      "Epoch 16/20\n",
      "363/363 [==============================] - 0s 449us/step - loss: 0.4920 - val_loss: 0.5082\n",
      "Epoch 17/20\n",
      "363/363 [==============================] - 0s 461us/step - loss: 0.4696 - val_loss: 0.5046\n",
      "Epoch 18/20\n",
      "363/363 [==============================] - 0s 458us/step - loss: 0.4699 - val_loss: 0.4996\n",
      "Epoch 19/20\n",
      "363/363 [==============================] - 0s 449us/step - loss: 0.4555 - val_loss: 0.4956\n",
      "Epoch 20/20\n",
      "363/363 [==============================] - 0s 478us/step - loss: 0.4526 - val_loss: 0.4936\n",
      "162/162 [==============================] - 0s 256us/step - loss: 0.4596\n"
     ]
    }
   ],
   "source": [
    "model.compile(loss=\"mean_squared_error\", optimizer=keras.optimizers.SGD(lr=1e-3))\n",
    "history = model.fit(X_train, y_train, epochs=20,\n",
    "                    validation_data=(X_valid, y_valid))\n",
    "mse_test = model.evaluate(X_test, y_test)\n",
    "y_pred = model.predict(X_new)"
   ]
  },
  {
   "cell_type": "code",
   "execution_count": 109,
   "id": "attractive-controversy",
   "metadata": {},
   "outputs": [
    {
     "name": "stdout",
     "output_type": "stream",
     "text": [
      "0.45962586998939514\n"
     ]
    }
   ],
   "source": [
    "print(mse_test)"
   ]
  },
  {
   "cell_type": "markdown",
   "id": "suffering-surface",
   "metadata": {},
   "source": [
    "일부 특성은 짧은 경로로 전달하고 다른 특성들(중복 가능)은 깊은 경로로 전달하고 싶은 경우"
   ]
  },
  {
   "cell_type": "code",
   "execution_count": 112,
   "id": "white-blair",
   "metadata": {},
   "outputs": [],
   "source": [
    "input_A = keras.layers.Input(shape=[5], name=\"wide_input\")\n",
    "input_B = keras.layers.Input(shape=[6], name=\"deep_input\")\n",
    "hidden1 = keras.layers.Dense(30, activation=\"relu\")(input_B)\n",
    "hidden2 = keras.layers.Dense(30, activation=\"relu\")(hidden1)\n",
    "concat = keras.layers.concatenate([input_A, hidden2])\n",
    "output = keras.layers.Dense(1, name=\"output\")(concat)\n",
    "model = keras.Model(inputs=[input_A, input_B], outputs=[output])"
   ]
  },
  {
   "cell_type": "code",
   "execution_count": 113,
   "id": "lasting-interview",
   "metadata": {},
   "outputs": [
    {
     "name": "stdout",
     "output_type": "stream",
     "text": [
      "Model: \"model_2\"\n",
      "__________________________________________________________________________________________________\n",
      "Layer (type)                    Output Shape         Param #     Connected to                     \n",
      "==================================================================================================\n",
      "deep_input (InputLayer)         [(None, 6)]          0                                            \n",
      "__________________________________________________________________________________________________\n",
      "dense_20 (Dense)                (None, 30)           210         deep_input[0][0]                 \n",
      "__________________________________________________________________________________________________\n",
      "wide_input (InputLayer)         [(None, 5)]          0                                            \n",
      "__________________________________________________________________________________________________\n",
      "dense_21 (Dense)                (None, 30)           930         dense_20[0][0]                   \n",
      "__________________________________________________________________________________________________\n",
      "concatenate_3 (Concatenate)     (None, 35)           0           wide_input[0][0]                 \n",
      "                                                                 dense_21[0][0]                   \n",
      "__________________________________________________________________________________________________\n",
      "output (Dense)                  (None, 1)            36          concatenate_3[0][0]              \n",
      "==================================================================================================\n",
      "Total params: 1,176\n",
      "Trainable params: 1,176\n",
      "Non-trainable params: 0\n",
      "__________________________________________________________________________________________________\n"
     ]
    }
   ],
   "source": [
    "model.summary()"
   ]
  },
  {
   "cell_type": "code",
   "execution_count": 114,
   "id": "welsh-stylus",
   "metadata": {
    "scrolled": true
   },
   "outputs": [
    {
     "name": "stdout",
     "output_type": "stream",
     "text": [
      "Epoch 1/20\n",
      "363/363 [==============================] - 0s 620us/step - loss: 3.7363 - val_loss: 0.9034\n",
      "Epoch 2/20\n",
      "363/363 [==============================] - 0s 460us/step - loss: 0.8755 - val_loss: 0.7139\n",
      "Epoch 3/20\n",
      "363/363 [==============================] - 0s 455us/step - loss: 0.6742 - val_loss: 0.6585\n",
      "Epoch 4/20\n",
      "363/363 [==============================] - 0s 458us/step - loss: 0.6123 - val_loss: 0.6325\n",
      "Epoch 5/20\n",
      "363/363 [==============================] - 0s 464us/step - loss: 0.6098 - val_loss: 0.6141\n",
      "Epoch 6/20\n",
      "363/363 [==============================] - 0s 728us/step - loss: 0.5732 - val_loss: 0.5997\n",
      "Epoch 7/20\n",
      "363/363 [==============================] - 0s 461us/step - loss: 0.5824 - val_loss: 0.5868\n",
      "Epoch 8/20\n",
      "363/363 [==============================] - 0s 463us/step - loss: 0.5564 - val_loss: 0.5754\n",
      "Epoch 9/20\n",
      "363/363 [==============================] - 0s 451us/step - loss: 0.5461 - val_loss: 0.5662\n",
      "Epoch 10/20\n",
      "363/363 [==============================] - 0s 455us/step - loss: 0.5316 - val_loss: 0.5570\n",
      "Epoch 11/20\n",
      "363/363 [==============================] - 0s 456us/step - loss: 0.5140 - val_loss: 0.5494\n",
      "Epoch 12/20\n",
      "363/363 [==============================] - 0s 455us/step - loss: 0.5321 - val_loss: 0.5421\n",
      "Epoch 13/20\n",
      "363/363 [==============================] - 0s 455us/step - loss: 0.5334 - val_loss: 0.5365\n",
      "Epoch 14/20\n",
      "363/363 [==============================] - 0s 483us/step - loss: 0.5201 - val_loss: 0.5294\n",
      "Epoch 15/20\n",
      "363/363 [==============================] - 0s 479us/step - loss: 0.5167 - val_loss: 0.5256\n",
      "Epoch 16/20\n",
      "363/363 [==============================] - 0s 460us/step - loss: 0.5009 - val_loss: 0.5244\n",
      "Epoch 17/20\n",
      "363/363 [==============================] - 0s 483us/step - loss: 0.4976 - val_loss: 0.5184\n",
      "Epoch 18/20\n",
      "363/363 [==============================] - 0s 466us/step - loss: 0.4898 - val_loss: 0.5144\n",
      "Epoch 19/20\n",
      "363/363 [==============================] - 0s 477us/step - loss: 0.4870 - val_loss: 0.5132\n",
      "Epoch 20/20\n",
      "363/363 [==============================] - 0s 475us/step - loss: 0.4821 - val_loss: 0.5094\n",
      "162/162 [==============================] - 0s 275us/step - loss: 0.4882\n",
      "0.4881875216960907\n"
     ]
    }
   ],
   "source": [
    "model.compile(loss=\"mse\", optimizer=keras.optimizers.SGD(lr=1e-3))\n",
    "\n",
    "X_train_A, X_train_B = X_train[:,:5], X_train[:,2:]\n",
    "X_valid_A, X_valid_B = X_valid[:,:5], X_valid[:,2:]\n",
    "X_test_A, X_test_B = X_test[:,:5], X_test[:,2:]\n",
    "\n",
    "history = model.fit((X_train_A, X_train_B), y_train, epochs=20,\n",
    "                    validation_data=((X_valid_A, X_valid_B), y_valid))\n",
    "mse_test = model.evaluate((X_test_A, X_test_B), y_test)\n",
    "print(mse_test)"
   ]
  },
  {
   "cell_type": "markdown",
   "id": "behavioral-offer",
   "metadata": {},
   "source": [
    "# 4. 모델 저장과 복원"
   ]
  },
  {
   "cell_type": "markdown",
   "id": "decent-refund",
   "metadata": {},
   "source": [
    "## 모델 저장"
   ]
  },
  {
   "cell_type": "code",
   "execution_count": 115,
   "id": "dense-grocery",
   "metadata": {},
   "outputs": [],
   "source": [
    "model.save(\"my_keras_model.h5\")"
   ]
  },
  {
   "cell_type": "markdown",
   "id": "single-routine",
   "metadata": {},
   "source": [
    "## 모델 복원"
   ]
  },
  {
   "cell_type": "code",
   "execution_count": null,
   "id": "extraordinary-receiver",
   "metadata": {},
   "outputs": [],
   "source": [
    "model = keras.models.load_model(\"my_keras_model.h5\")"
   ]
  },
  {
   "cell_type": "markdown",
   "id": "pursuant-composer",
   "metadata": {},
   "source": [
    "## 훈련 도중 일정 간격으로 체크포인트 저장"
   ]
  },
  {
   "cell_type": "markdown",
   "id": "answering-experience",
   "metadata": {},
   "source": [
    "매 에포크의 끝마다 저장"
   ]
  },
  {
   "cell_type": "code",
   "execution_count": 117,
   "id": "defensive-palestine",
   "metadata": {},
   "outputs": [
    {
     "name": "stdout",
     "output_type": "stream",
     "text": [
      "Epoch 1/20\n",
      "363/363 [==============================] - 0s 530us/step - loss: 0.4866 - val_loss: 0.5067\n",
      "Epoch 2/20\n",
      "363/363 [==============================] - 0s 465us/step - loss: 0.4890 - val_loss: 0.5040\n",
      "Epoch 3/20\n",
      "363/363 [==============================] - 0s 461us/step - loss: 0.4834 - val_loss: 0.5028\n",
      "Epoch 4/20\n",
      "363/363 [==============================] - 0s 458us/step - loss: 0.4825 - val_loss: 0.4999\n",
      "Epoch 5/20\n",
      "363/363 [==============================] - 0s 460us/step - loss: 0.4780 - val_loss: 0.4997\n",
      "Epoch 6/20\n",
      "363/363 [==============================] - 0s 570us/step - loss: 0.4771 - val_loss: 0.4989\n",
      "Epoch 7/20\n",
      "363/363 [==============================] - 0s 561us/step - loss: 0.4765 - val_loss: 0.4950\n",
      "Epoch 8/20\n",
      "363/363 [==============================] - 0s 461us/step - loss: 0.4734 - val_loss: 0.4954\n",
      "Epoch 9/20\n",
      "363/363 [==============================] - 0s 461us/step - loss: 0.4707 - val_loss: 0.4913\n",
      "Epoch 10/20\n",
      "363/363 [==============================] - 0s 459us/step - loss: 0.4720 - val_loss: 0.4900\n",
      "Epoch 11/20\n",
      "363/363 [==============================] - 0s 456us/step - loss: 0.4736 - val_loss: 0.4876\n",
      "Epoch 12/20\n",
      "363/363 [==============================] - 0s 458us/step - loss: 0.4679 - val_loss: 0.4862\n",
      "Epoch 13/20\n",
      "363/363 [==============================] - 0s 456us/step - loss: 0.4671 - val_loss: 0.4858\n",
      "Epoch 14/20\n",
      "363/363 [==============================] - 0s 458us/step - loss: 0.4632 - val_loss: 0.4833\n",
      "Epoch 15/20\n",
      "363/363 [==============================] - 0s 459us/step - loss: 0.4638 - val_loss: 0.4815\n",
      "Epoch 16/20\n",
      "363/363 [==============================] - 0s 457us/step - loss: 0.4603 - val_loss: 0.4798\n",
      "Epoch 17/20\n",
      "363/363 [==============================] - 0s 461us/step - loss: 0.4614 - val_loss: 0.4816\n",
      "Epoch 18/20\n",
      "363/363 [==============================] - 0s 460us/step - loss: 0.4594 - val_loss: 0.4853\n",
      "Epoch 19/20\n",
      "363/363 [==============================] - 0s 460us/step - loss: 0.4581 - val_loss: 0.4760\n",
      "Epoch 20/20\n",
      "363/363 [==============================] - 0s 460us/step - loss: 0.4544 - val_loss: 0.4748\n"
     ]
    }
   ],
   "source": [
    "checkpoint_cb = keras.callbacks.ModelCheckpoint(\"my_keras_model.h5\",\n",
    "                                                save_best_only=True) # 훈련 시 검증 세트를 이용할 때 최상의 검증 세트 점수에서만 모델 저장\n",
    "history = model.fit((X_train_A, X_train_B), y_train, epochs=20,\n",
    "                    validation_data=((X_valid_A, X_valid_B), y_valid),\n",
    "                    callbacks=[checkpoint_cb])\n",
    "model = keras.models.load_model(\"my_keras_model.h5\") # 최상의 모델로 복원"
   ]
  },
  {
   "cell_type": "markdown",
   "id": "seasonal-surveillance",
   "metadata": {},
   "source": [
    "일정 에포크(*patience* 매개변수로 지정) 동안 검증 세트에 대한 점수가 향상되지 않으면 훈련을 멈춤"
   ]
  },
  {
   "cell_type": "code",
   "execution_count": null,
   "id": "uniform-incentive",
   "metadata": {},
   "outputs": [],
   "source": [
    "early_stopping_cb = keras.callbacks.EarlyStopping(patience=10,\n",
    "                                                  restore_best_weights=True)\n",
    "history = model.fit((X_train_A, X_train_B), y_train, epochs=20,\n",
    "                    validation_data=((X_valid_A, X_valid_B), y_valid),\n",
    "                    callbacks=[chekcpoint_cb, early_stopping_cb])"
   ]
  },
  {
   "cell_type": "markdown",
   "id": "compliant-stuart",
   "metadata": {},
   "source": [
    "keras.callbacks 패키지에 다른 종류의 콜백들이 많음(참고:https://keras.io/callbacks)"
   ]
  },
  {
   "cell_type": "markdown",
   "id": "prompt-assets",
   "metadata": {},
   "source": [
    "# 5. 하이퍼파라미터 튜닝"
   ]
  },
  {
   "cell_type": "code",
   "execution_count": null,
   "id": "exempt-collective",
   "metadata": {},
   "outputs": [],
   "source": []
  }
 ],
 "metadata": {
  "kernelspec": {
   "display_name": "Python 3",
   "language": "python",
   "name": "python3"
  },
  "language_info": {
   "codemirror_mode": {
    "name": "ipython",
    "version": 3
   },
   "file_extension": ".py",
   "mimetype": "text/x-python",
   "name": "python",
   "nbconvert_exporter": "python",
   "pygments_lexer": "ipython3",
   "version": "3.8.6"
  }
 },
 "nbformat": 4,
 "nbformat_minor": 5
}
