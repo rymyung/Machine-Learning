{
 "cells": [
  {
   "cell_type": "markdown",
   "metadata": {},
   "source": [
    "머신러닝을 통해 모델을 학습시킬 경우, 모델이 어느정도의 성능을 내느냐를 측정하는 것은 매우 중요하다. 또한, 모델은 이전에 본 적이 없는 데이터에도 일반화(Generalization)이 잘 되어 있어야 한다. 이번 포스트에서는 학습시킨 모델에 대한 성능 평가와 유효성 검증에 대해 알아보자.\n",
    "* 모델의 성능 : 해결해야할 문제의 종류 - 분류(Classification) / 회귀(Regression) - 에 따른 평가 지표 선택\n",
    "* 모델의 일반화(Generalization) : Bias-Variance / Overfitting 문제"
   ]
  },
  {
   "cell_type": "markdown",
   "metadata": {},
   "source": [
    "# 모델 선정"
   ]
  },
  {
   "cell_type": "markdown",
   "metadata": {},
   "source": [
    "모델을 선정하는 것은 머신러닝으로 어떠한 문제를 해결할 것인가에 달려있다.  \n",
    "대표적인 머신러닝 문제 유형과 그 문제 유형을 해결하기 위한 모델들로는\n",
    "* 분류\n",
    "    * Naive Bayes\n",
    "    * SVM\n",
    "    * Decision Tree\n",
    "    * Logistic Regression\n",
    "    * ETC\n",
    "* 회귀\n",
    "    * Linear Regression\n",
    "    * Genenralized Linear Regression\n",
    "    * Decision Tree\n",
    "    * ETC\n",
    "* 비지도학습\n",
    "    * K-Means\n",
    "    * Association Rules\n",
    "    * ETC  \n",
    "    \n",
    "등이 있다."
   ]
  },
  {
   "cell_type": "markdown",
   "metadata": {},
   "source": [
    "# 모델 성능 평가\n",
    "모델 성능 평가는 모델의 성능을 검증하는 것이다. 이를 위해서는 모델의 목표와 사용된 모델링 기법 모두에 적절한 성능 평가 지표를 선택해야 한다."
   ]
  },
  {
   "cell_type": "markdown",
   "metadata": {},
   "source": [
    "## 회귀 모델 평가 지표\n",
    "회귀 모델은 수치를 예측하는 모델으로, 잔차(residuals)라고하는 실제 값과 예측 값의 차이를 가지고 모델의 성능을 평가한다."
   ]
  },
  {
   "cell_type": "code",
   "execution_count": null,
   "metadata": {},
   "outputs": [],
   "source": [
    "# Load library\n",
    "library(ggplot2) \n",
    "\n",
    "# Load data\n",
    "data(mtcars)\n",
    "\n",
    "# Train simple linear model\n",
    "lm.fit <- lm(mpg ~ wt, data = mtcars)\n",
    "\n",
    "# Predict\n",
    "mtcars$pred <- predict(lm.fit, newdata = mtcars)\n",
    "\n",
    "# Plot residuals\n",
    "ggplot(mtcars, aes(wt, mpg)) + geom_point() +\n",
    "  geom_line(aes(wt, pred), color = 'blue') +\n",
    "  geom_segment(aes(wt, pred, yend = mpg, xend = wt)) +\n",
    "  scale_y_continuous('')"
   ]
  },
  {
   "cell_type": "markdown",
   "metadata": {},
   "source": [
    "![잔차 그래프](https://www.dropbox.com/s/ftnbyq7qs4y6ou9/residuals.png?raw=1)"
   ]
  },
  {
   "cell_type": "markdown",
   "metadata": {},
   "source": [
    "### RMSE(Root Mean Square Error)\n",
    "RMSE는 가장 일반적인 회귀 모델 평가 지표로, 실제 값과 예측 값의 차이를 제곱하고 평균을 구한 후 다시 제곱근을 적용해서 구한다.\n",
    "$$\\mathbf{RMSE} = \\sqrt{\\frac{1}{n}\\sum_{i=1}^n (x_i - \\hat{x_i})^2}$$\n",
    "RMSE 외에도 MAE(Mean Absolute Error), MAPE(Mean Absolute Percentage Error) 등이 있다."
   ]
  },
  {
   "cell_type": "markdown",
   "metadata": {},
   "source": [
    "### 결정계수($R^2$)\n",
    "결정 계수는 회귀 모델의 설명력은 표현하는 지표로, 모델에 의해 설명되는 y 분산의 비율로 간주된다. 0에 가까울수록 설명력이 낮고, 1에 가까울수록 설명력이 높다.\n",
    "$$ \\mathbf{R^2} = \\frac{\\mathbf{SSR}}{\\mathbf{SST}} = 1 - \\frac{\\mathbf{SSE}}{\\mathbf{SST}}$$로, SST와 SSR이 얼마나 비슷한지, SSE가 얼마나 다른지에 따라 결정된다. 자세한 설명은 [Linear Regression]()을 참고."
   ]
  },
  {
   "cell_type": "code",
   "execution_count": 7,
   "metadata": {},
   "outputs": [
    {
     "name": "stdout",
     "output_type": "stream",
     "text": [
      "[1] \"R Squared :  0.752832793658264\"\n",
      "[1] \"Adjusted R Squared :  0.744593886780207\"\n"
     ]
    }
   ],
   "source": [
    "# R Squared\n",
    "print(paste(\"R Squared : \", summary(lm.fit)$r.squared))\n",
    "\n",
    "# Adjusted R Squared\n",
    "print(paste(\"Adjusted R Squared : \", summary(lm.fit)$adj.r.squared))"
   ]
  },
  {
   "cell_type": "markdown",
   "metadata": {},
   "source": [
    "## 분류 모델 평가 지표\n",
    "분류 모델은 2개 또는 그 이상의 범주를 예측하는 모델이다.  \n",
    "분류 모델의 평가 지표로는 \n",
    "* 정확도(Accuracy)\n",
    "* 정밀도(Precision)\n",
    "* 재현율(Recall)\n",
    "* F1 Score\n",
    "* 민감도와 특이도  \n",
    "\n",
    "등으로, 평가 지표의 선택은 해결해야 하는 문제에 따라 결정해야 한다.  \n",
    "분류 모델의 성능을 측정하기 위해 사용하는 유용한 도구로 혼동 행렬(Confusion Matrix)를 사용한다."
   ]
  },
  {
   "cell_type": "markdown",
   "metadata": {},
   "source": [
    "### 혼동 행렬(Confusion Matrix)\n",
    "혼동 행렬은 실제 알려진 데이터 범주에 대해 분류 모델의 예측을 정리한 표로, 각각의 예측 유형별로 실제 데이터가 얼마나 발생했는지 확인할 수 있다. \n",
    "\n",
    "혼동 행렬     | P'(Predict)  | N'(Predict) \n",
    "--------------|--------------|------------\n",
    "**P**(Actual) |True Positive(**TP**) |False Negative(**FN**)   \n",
    "**N**(Actual) |False Positive(**FP**)|True Negative(**TN**)   \n",
    "\n",
    "혼동 행렬에서 True / False는 예측이 맞았는지/틀렸는지를 나타내고, Positive / Negative는 예측한 값이 양성(=1)인지 / 음성(=0)인지를 나타낸다.  \n",
    "즉, \n",
    "* TP : 1이라고 예측하고 실제 값이 1인 경우\n",
    "* FP : 1이라고 예측하고 실제 값이 0인 경우\n",
    "* TN : 0이라고 예측하고 실제 값이 0인 경우\n",
    "* FN : 0이라고 예측하고 실제 값이 1인 경우\n",
    "이다.  \n",
    "\n",
    "주로 관심이 가는 범주를 1로 간주하고 아닌 것은 0으로 간주한다."
   ]
  },
  {
   "cell_type": "markdown",
   "metadata": {},
   "source": [
    "연수입이 \\$50K를 넘는지 안 넘는지를 분류하는 예제를 통해 혼동 행렬을 살펴보자. 이 데이터는 [UCI Machine Learning Repository](http://archive.ics.uci.edu/ml/datasets.html)에서 가져왔다. 연령, 직업, 교육, 결혼상태, 성별, 인종 등을 변수로 연수입을 간략히 예측하는 분류 모델을 만들어보고 혼동 행렬을 만들었다. 혼동 행렬은 <code>caret</code> 패키지의 <code>confusionMatrix</code>를 사용하면 쉽게 구할 수 있다."
   ]
  },
  {
   "cell_type": "code",
   "execution_count": 5,
   "metadata": {},
   "outputs": [],
   "source": [
    "# Load libraries\n",
    "library(caret)\n",
    "library(rpart)\n",
    "library(e1071)\n",
    "\n",
    "# Load data\n",
    "adult <- read.csv(\"adult.csv\")\n",
    "\n",
    "# Split data\n",
    "train.idx <- createDataPartition(adult$target, p = 0.7, list = F)\n",
    "train <- adult[train.idx,]\n",
    "test <- adult[-train.idx,]\n",
    "\n",
    "# Train decision tree\n",
    "dt.fit <- rpart(target ~ ., data = train, method = \"class\")\n",
    "\n",
    "# Predict\n",
    "train.pred <- predict(dt.fit, newdata = train, type = \"class\")\n",
    "test.pred <- predict(dt.fit, newdata = test, type = \"class\")"
   ]
  },
  {
   "cell_type": "code",
   "execution_count": 8,
   "metadata": {},
   "outputs": [
    {
     "name": "stdout",
     "output_type": "stream",
     "text": [
      "Confusion Matrix and Statistics\n",
      "\n",
      "          Reference\n",
      "Prediction  <=50K  >50K\n",
      "     <=50K   7114  1234\n",
      "     >50K     302  1118\n",
      "                                          \n",
      "               Accuracy : 0.8428          \n",
      "                 95% CI : (0.8354, 0.8499)\n",
      "    No Information Rate : 0.7592          \n",
      "    P-Value [Acc > NIR] : < 2.2e-16       \n",
      "                                          \n",
      "                  Kappa : 0.5026          \n",
      " Mcnemar's Test P-Value : < 2.2e-16       \n",
      "                                          \n",
      "            Sensitivity : 0.9593          \n",
      "            Specificity : 0.4753          \n",
      "         Pos Pred Value : 0.8522          \n",
      "         Neg Pred Value : 0.7873          \n",
      "              Precision : 0.8522          \n",
      "                 Recall : 0.9593          \n",
      "                     F1 : 0.9026          \n",
      "             Prevalence : 0.7592          \n",
      "         Detection Rate : 0.7283          \n",
      "   Detection Prevalence : 0.8546          \n",
      "      Balanced Accuracy : 0.7173          \n",
      "                                          \n",
      "       'Positive' Class :  <=50K          \n",
      "                                          \n"
     ]
    }
   ],
   "source": [
    "print(confusionMatrix(data = test.pred, reference = test$target, mode = \"everything\"))"
   ]
  },
  {
   "cell_type": "markdown",
   "metadata": {},
   "source": [
    "### 정확도(Accuracy)\n",
    "정확도는 분류 모델의 성능을 측정하는데 사용하는 가장 일반적인 지표로, 정확히 분류된 항목의 숫자를 전체 항목의 숫자로 나눠서 구한다.  \n",
    "$$\\mathbf{Accuracy} = \\frac{(\\mathbf{TP} + \\mathbf{TN})}{(\\mathbf{TP} + \\mathbf{TN} + \\mathbf{FP} + \\mathbf{FN})}$$\n",
    "위의 예제에서 정확도를 계산해보면,\n",
    "$$\\frac{(7114 + 1118)}{(7114 + 1234 + 302 + 1118)} = 0.8428$$로, 약 84%의 정확도를 가지고 있다. 즉, 전체 사람들 중 약 16%는 잘못 예측되었다."
   ]
  },
  {
   "cell_type": "markdown",
   "metadata": {},
   "source": [
    "#### 클래스 불균형(Unbalanced Class) 문졔\n",
    "암 진단과 같은 1과 0의 숫자가 매우 크게 차이가 나는 경우를 클래스 불균형 문제라고 한다. 이러한 문제에서는 대부분의 경우(99% 이상)이 0이기 때문에 정확도를 평가 지표로 하는 것은 좋은 방법이 아니다. [클래스 불균형]() 참고."
   ]
  },
  {
   "cell_type": "markdown",
   "metadata": {},
   "source": [
    "### 정밀도(Precision)\n",
    "정밀도는 양성(=1)으로 예측한 것이 얼마나 정확한지를 판별하는 지표로, 확인을 위한 측정 도구이다.\n",
    "$$\\mathbf{Precision} = \\frac{\\mathbf{TP}}{(\\mathbf{TP} + \\mathbf{FP})}$$\n",
    "위의 예제에서 정밀도를 계산해보면,\n",
    "$$\\frac{7114}{(7114 + 1234)} = 0.8522$$로, 약 85%의 정밀도를 가지고 있다. 즉, 연수입이 \\$ 50K 이하(= 양성)라고 예측된 사람들 중 약 15%는 연 수입이 \\$ 50K 이상으로 잘못 예측되었다.  \n"
   ]
  },
  {
   "cell_type": "markdown",
   "metadata": {},
   "source": [
    "### 재현율(Recall) / 민감도(Sensitivity) / 참양성률(True Positive Rate)\n",
    "재현율은 실제 양성(=1)인 것들 중에서 양성이라고 예측한 비율을 나타내는 지표로, 유용성에 대한 측정 도구이다.\n",
    "$$\\mathbf{Recall} = \\frac{\\mathbf{TP}}{(\\mathbf{TP} + \\mathbf{FN})}$$\n",
    "위의 예제에서 정밀도를 계산해보면,\n",
    "$$\\frac{7114}{(7114 + 302)} = 0.9593$$으로, 약 96%의 재현율을 가지고 있다. 즉, 실제 연수입이 \\$ 50K 이하인 사람들 중 약 4%만이 $ 50K 이상으로 잘못 예측되었다."
   ]
  },
  {
   "cell_type": "markdown",
   "metadata": {},
   "source": [
    "### F1 Score\n",
    "F1 Score는 정밀도와 재현율의 조합으로 된 지표이다.\n",
    "$$ \\mathbf{F1} = \\frac{\\mathbf{Precision} \\times \\mathbf{Recall}}{(\\mathbf{Precision} + \\mathbf{Recall})}$$\n",
    "위의 예제에서 F1 Score를 계산해보면,\n",
    "$$\\frac{0.8522 \\times 0.9593}{(0.8522 + 0.9593)} = 0.9026$$이다."
   ]
  },
  {
   "cell_type": "markdown",
   "metadata": {},
   "source": [
    "### 특이도(Specificity) / 참음성률(True Negative Rate)\n",
    "특이도는 실제 음성(=0)인 것들 중에서 음성이라고 예측한 비율을 나타내는 지표이다.\n",
    "$$\\mathbf{Specificity} = \\frac{\\mathbf{TN}}{(\\mathbf{TN} + \\mathbf{FP})}$$\n",
    "위의 예제에서 특이도를 계산해보면,\n",
    "$$\\frac{1118}{(1118 + 1234)} = 0.4753$$으로, 약 47%이다."
   ]
  },
  {
   "cell_type": "markdown",
   "metadata": {},
   "source": [
    "민감도와 특이도는 어느 범주를 양성(=1)로 두느냐에 따라 서로 바뀌게 된다. 또한 null 분류 모델(모든 값을 양성 또는 음성으로 예측하는 모델)에서 민감도 또는 특이도 둘 중 하나는 항상 0이 된다. 그래서 유용하지 않은 분류 모델에서는 이 두 가지 중 적어도 하나의 값은 항상 낮은 값을 갖게 된다."
   ]
  },
  {
   "cell_type": "markdown",
   "metadata": {},
   "source": [
    "측정 도구     | 수식                            | 예시 \n",
    "--------------|---------------------------------|---------\n",
    "정확도        | (TP + TN) / (TP + FP + TN + FN) | 0.8428\n",
    "정밀도        | TP / (TP + FP)                  | 0.8522\n",
    "재현율        | TP / (TP + FN)                  | 0.9593\n",
    "특이도        | TN / (TN + FP)                  | 0.4753"
   ]
  },
  {
   "cell_type": "markdown",
   "metadata": {},
   "source": [
    "### 수신기 작동 특성(Receiver Operating Characteristic, ROC Curve)\n",
    "대부분의 분류 모델은 $\\hat{y_i} = 0, 1$을 직접 산출하지 않고, [0, 1]구간 사이의 값을 가진 확률값 $\\hat{u_i}$을 계산하고, 이 확률이 특정 threshold/cutoff를 넘었을 때 1로 최종 예측하게 된다.\n",
    "$$\\hat{y_i} = 1, \\text{if } \\hat{u_i} > \\text{threshold}$$\n",
    "$$\\hat{y_i} = 0, \\text{if } \\hat{u_i} \\leq \\text{threshold}$$\n",
    "ROC 곡선은 이렇게 threshold를 변화하면서 True Positive Rate과 False Positive Rate을 그린 곡선이다. threshold가 1이면 모든 관측치를 Negative로 예측해서 TPR = FPR = 0이 된다. 반대로 threshold가 0이면 모든 관측치를 Positive로 예측해서 TPR = FPR = 1이 된다. ROC 곡선은 주어진 FPR에 대해 TPR이 높을수록 더 정확한 것이므로 ROC 곡선이 위에 있는 모델이 성능이 좋다. ROC 곡선 아래 영역(Area Under ROC, AUC)은 모델의 정확도를 하나의 숫자로 요약해주는 지표로, ROC 곡선 아래에 있는 영역의 면적이다. 0과 1 사이의 값을 가지며, 1에 가까울수록 성능이 좋음을 나타낸다."
   ]
  },
  {
   "cell_type": "code",
   "execution_count": 50,
   "metadata": {},
   "outputs": [
    {
     "data": {
      "image/png": "[encoded data removed]",
      "text/plain": [
       "plot without title"
      ]
     },
     "metadata": {},
     "output_type": "display_data"
    }
   ],
   "source": [
    "library(ROCR)\n",
    "data(ROCR.simple)\n",
    "pred <- prediction( ROCR.simple$predictions, ROCR.simple$labels)\n",
    "perf <- performance(pred,\"tpr\",\"fpr\")\n",
    "plot(perf)"
   ]
  },
  {
   "cell_type": "markdown",
   "metadata": {},
   "source": [
    "![ROC Curve](https://www.dropbox.com/s/hjc6300ity1xqem/ROC.png?raw=1)"
   ]
  },
  {
   "cell_type": "markdown",
   "metadata": {},
   "source": [
    "# 모델 검증\n",
    "모델은 훈련 데이터에서 잘 동작할 뿐만 아니라 새로운 데이터에 대해서도 잘 작동되어야 한다. 즉, 일반화(Generalization)이 잘 되어있어야 좋은 모델이 될 수 있다. 훈련 데이터에서는 잘 동작하지만 새로운 데이터에 대해서는 잘 동작하지 않는 경우, 모델은 훈련 데이터에 과적합(Overfitting)되어있다고 한다."
   ]
  },
  {
   "cell_type": "markdown",
   "metadata": {},
   "source": [
    "과적합을 방지하고 일반화 능력이 좋은 모델을 선택하기 위해서, 데이터를 3가지 형태로 구분한다.\n",
    "* 훈련 데이터 : 모델의 적합과 파라미터의 추정\n",
    "* 검증 데이터 : 파라미터 튜닝, 변수 선택 및 모델 선택\n",
    "* 테스트 데이터 : 모델 적합과 선택이 끝난 후 최종 모델의 성능을 측정"
   ]
  },
  {
   "cell_type": "markdown",
   "metadata": {},
   "source": [
    "## 과적합(Overfitting)"
   ]
  },
  {
   "cell_type": "markdown",
   "metadata": {},
   "source": [
    "### 편향(Bias) - 분산(Variance) Trade-off\n",
    "머신러닝에서 모델의 에러는 두 가지로 분류할 수 있다. 바로 편향(Bias)와 분산(Variance)이다. 편향이 올라가면 분산이 내려가고, 편향이 내려가면 분산이 올라가는데 이를 편향 - 분산 trade-off라 한다.\n",
    "\n",
    "![Bias-Variance Trade-off](https://www.dropbox.com/s/4smjjxketgwdzez/bias-variance-tradeoff.jpg?raw=1)\n",
    "<center>[이미지 출처](https://tex.stackexchange.com/questions/307117/reconstructing-the-following-bias-variance-diagram)</center>\n",
    "\n",
    "* 편향 \n",
    "    * 실제 문제를 단순한 모델로 근사시킴으로 인해 발생되는 오차\n",
    "    * 모델의 복잡도(complexity)가 높을수록 편향은 작고, 단순한 모델일수록 편향은 높음\n",
    "* 분산 \n",
    "    * 훈련 데이터가 아닌 다른 데이터를 사용하여 예측하는 경우, 예측 값이 변동되는 정도\n",
    "    * 훈련 데이터는 모델을 학습시키는데 사용되므로, 다른 데이터를 사용하면 예측 값이 변동됨\n",
    "    * 그러나 분산이 높으면 훈련 데이터의 변화가 작아도 예측 값이 크게 변할 수 있음\n",
    "    * 모델의 복잡도가 높을수록 분산은 높음\n",
    "    \n",
    "    "
   ]
  },
  {
   "cell_type": "markdown",
   "metadata": {},
   "source": [
    "![Overfitting](https://www.dropbox.com/s/g59jln9m3s0gpu9/overfitting_eg.jpg?raw=1)\n",
    "<center>[이미지 출처](https://dadosreais.wordpress.com/2016/12/20/causal-inference-in-practice-with-observational-data-machine-learning-heterogeneity-metric-ks-x2-tests-optimize-function-metric-cache-h2o-ai/)</center>  \n",
    "Bias가 높고(Inaccurate) Variance가 낮은(Robust)한 모델은 Underfitting되어 있다. Underfitting의 경우, 훈련 데이터를 사용해 예측한 값과 다른 데이터를 사용해 예측한 값의 차이는 적지만, 실제 값과의 차이는 크다.\n",
    "Bias가 낮고(Flexible) Variance가 높은(Susceptible)한 모델은 Overfitting 되어 있다. Overfitting의 경우, 훈련 데이터를 사용해 예측한 값은 실제 값과 차이가 적으나, 다른 데이터를 사용해 예측한 값은 실제 값과 차이가 크다."
   ]
  },
  {
   "cell_type": "code",
   "execution_count": 3,
   "metadata": {},
   "outputs": [
    {
     "data": {
      "image/png": "[encoded data removed]",
      "text/plain": [
       "plot without title"
      ]
     },
     "metadata": {},
     "output_type": "display_data"
    }
   ],
   "source": [
    "# Generate data for best model\n",
    "true <- poly(1:100, 3) %*% c(-2, 1, 2)\n",
    "\n",
    "# Input noise\n",
    "y <- true + rnorm(100, sd = 0.2)\n",
    "temp <- data.frame(x = 1:100, actual = y)\n",
    "\n",
    "# Input true model\n",
    "temp$true <- true\n",
    "\n",
    "# Make best model\n",
    "best <- lm(y ~ poly(x, 3), data = temp)\n",
    "temp$best <- predict(best, temp)\n",
    "\n",
    "# Make underfit model\n",
    "underfit <- lm(y ~ x, data = temp)\n",
    "temp$underfit.pred <- predict(underfit, temp)\n",
    "\n",
    "# Make overfit model\n",
    "overfit <- lm(y ~ poly(x, 25), data = temp)\n",
    "temp$overfit.pred <- predict(overfit, temp)\n",
    "\n",
    "# Plot overfitting & underfitting\n",
    "plot(temp$x, temp$actual, col = \"gray\", lwd = 2, xlab = \"\", ylab = \"\")\n",
    "lines(temp$x, temp$true, lwd = 3, col = \"black\")\n",
    "lines(temp$x, temp$underfit.pred, lwd = 3, col = \"palegreen3\")\n",
    "lines(temp$x, temp$overfit.pred, lwd = 3, col = \"darkorange\")\n",
    "lines(temp$x, temp$best, lwd = 3, col = \"steelblue\")\n",
    "legend(x = \"topright\", legend = c(\"True Function\", \"Underfit Model (df = 1)\", \"Overfit Model (df = 25)\", \n",
    "    \"Best Model (df = 3)\"), lwd = rep(3, 3), col = c(\"black\", \"palegreen3\", \n",
    "    \"darkorange\", \"steelblue\"), text.width = 32, cex = 0.85)"
   ]
  },
  {
   "cell_type": "markdown",
   "metadata": {},
   "source": [
    "![overfitting example](https://www.dropbox.com/s/igg7afzg5xczoxa/overfitting_plot2.png?raw=1)\n",
    "위의 예시에서, 25차 다항식 모델(Overfitting)은 훈련 데이터에서는 높은 성능을 보이지만, 테스트 데이터에서는 아주 낮은 성능을 보일 것이다. 즉, 훈련 데이터와 테스트 데이터의 성능에 큰 차이가 있다. 이는 일반화 능력이 매우 낮다고 할 수 있다. 반면 1차 다항식 모델(Underfitting)은 훈련 데이터나 테스트 데이터 모두에서 낮은 성능을 보일 것이다. 3차 다항식 모델(Best)은 훈련 데이터에 대한 성능은 25차 다항식 모델보다 낮겠지만, 테스트 데이터에서는 높을 것이다. 결국, 3차 다항식 모델은 훈련 데이터와 테스트 데이터의 성능 차이가 작아 일반화 능력이 뛰어나다고 할 수 있다."
   ]
  },
  {
   "cell_type": "markdown",
   "metadata": {},
   "source": [
    "## 교차 검증(Cross Validation)\n"
   ]
  },
  {
   "cell_type": "markdown",
   "metadata": {},
   "source": [
    "### 검증 데이터 기법\n",
    "앞서 얘기한 것처럼 데이터를 훈련 데이터(50~60%) / 검증 데이터(20~25%) / 테스트 데이터(20~25%)로 구분하여 모델을 만들고 검증 및 성능 평가를 하는 방법이다. 이 방법은 데이터가 어떻게 나눠지는가에 따라 성능의 변동이 클수가 있다.\n"
   ]
  },
  {
   "cell_type": "markdown",
   "metadata": {},
   "source": [
    "### K-fold Cross Validation\n",
    "![cross validation](https://www.dropbox.com/s/8pqumzcqda0q4ke/cv.jpg?raw=1)\n",
    "<center>[이미지 출처](https://www.researchgate.net/figure/The-K-fold-cross-validation-scheme-133-Each-of-the-K-partitions-is-used-as-a-test_fig10_323969239)</center>\n",
    "전체 데이터를 크기가 같은 k개의 fold로 분할한다. 그리고 첫 번째 fold를 테스트 데이터, 나머지 k-1개 fold를 훈련 데이터로 구성하여 모델을 만들고 성능을 평가한다. 그 후 테스트 데이터가 되는 fold를 바꿔가면서 k번 반복 후, 성능의 평균값을 최종 성능으로 간주한다.\n"
   ]
  },
  {
   "cell_type": "code",
   "execution_count": 189,
   "metadata": {},
   "outputs": [
    {
     "name": "stdout",
     "output_type": "stream",
     "text": [
      "# A tibble: 5 x 2\n",
      "   fold performance\n",
      "  <int>       <dbl>\n",
      "1     1       0.855\n",
      "2     2       0.845\n",
      "3     3       0.842\n",
      "4     4       0.845\n",
      "5     5       0.835\n"
     ]
    },
    {
     "data": {},
     "metadata": {},
     "output_type": "display_data"
    },
    {
     "data": {
      "image/png": "[encoded data removed]",
      "text/plain": [
       "plot without title"
      ]
     },
     "metadata": {},
     "output_type": "display_data"
    }
   ],
   "source": [
    "# Load library\n",
    "library(dplyr)\n",
    "library(colorspace)\n",
    "\n",
    "# Set seed\n",
    "set.seed(1990)\n",
    "\n",
    "# Set parameters\n",
    "kfolds <- 5\n",
    "folds <- sample(cut(1:nrow(adult), breaks = kfolds, label = F))\n",
    "\n",
    "# 5 folds cv\n",
    "pred.dt <- data.frame()\n",
    "for (k in 1:kfolds) {\n",
    "    train.id <- which(folds != k)\n",
    "    train_fold <- adult[train.id,]\n",
    "    test_fold <- adult[-train.id,]\n",
    "    dt.fit <- rpart(target ~ ., data = train_fold)\n",
    "    temp <- predict(dt.fit, newdata = test_fold, type = \"class\")\n",
    "    pred.dt <- pred.dt %>% bind_rows(data.frame(id = names(temp), fold = k, predict = temp, stringsAsFactors = F))\n",
    "}\n",
    "\n",
    "# Transform the data\n",
    "row.names(pred.dt) <- pred.dt$id\n",
    "pred.dt$id <- NULL\n",
    "pred.dt <- pred.dt[order(as.numeric(row.names(pred.dt))),]\n",
    "pred.dt$actual <- adult$target\n",
    "pred.dt$result <- ifelse(pred.dt$predict == pred.dt$actual, 1, 0)\n",
    "\n",
    "# Get model performance by fold\n",
    "print(pred.dt %>% group_by(fold) %>% summarize(performance = sum(result)/n()))\n",
    "\n",
    "# Plot the performance\n",
    "pred.dt %>% group_by(fold) %>% summarize(performance = sum(result)/n()) %>% \n",
    "ggplot(aes(x = fold, y = performance)) + geom_bar(stat=\"identity\", fill = rainbow_hcl(5)) + scale_y_continuous(limits=c(0,1))"
   ]
  }
 ],
 "metadata": {
  "kernelspec": {
   "display_name": "R",
   "language": "R",
   "name": "ir"
  },
  "language_info": {
   "codemirror_mode": "r",
   "file_extension": ".r",
   "mimetype": "text/x-r-source",
   "name": "R",
   "pygments_lexer": "r",
   "version": "3.4.3"
  }
 },
 "nbformat": 4,
 "nbformat_minor": 2
}
