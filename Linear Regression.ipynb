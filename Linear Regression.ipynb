{
 "cells": [
  {
   "cell_type": "markdown",
   "metadata": {},
   "source": [
    "선형 회귀란 종속 변수와 한 개 이상의 독립(설명) 변수와의 선형 상관 관계를 모델링하는 기법이다.\n",
    "$$ y = \\beta_0 + \\beta_1 \\cdot x_1 + \\beta_2 \\cdot x_2 + \\cdots +  \\beta_k \\cdot x_k + \\varepsilon$$\n",
    "<center> 또는 </center>\n",
    "$$H(X) = W^TX + b$$\n",
    "선형 회귀는 회귀계수 $\\beta_n$, $W, b$을 추정하는 선형 관계를 가정한 모수적 방법으로, 선형회귀의 목적은 크게 2가지가 있다.\n",
    "* Predictive Model : 여러 변수들을 가지고 하나의 변수에 대해 예측하려고 할 때(예측력이 중요)\n",
    "* Explanatory Model : 둘 혹은 여럿 간의 관계를 설명하거나 이해하고자 할 때(종속 변수와 독립 변수 사이의 인과관계가 중요)"
   ]
  },
  {
   "cell_type": "markdown",
   "metadata": {},
   "source": [
    "# Intro"
   ]
  },
  {
   "cell_type": "markdown",
   "metadata": {},
   "source": [
    "R의 <code>mlbench</code>패키지에 내장되어 있는 보스턴 지역 주택 가격 데이터로 회귀 분석을 해보자."
   ]
  },
  {
   "cell_type": "code",
   "execution_count": 12,
   "metadata": {
    "scrolled": true
   },
   "outputs": [
    {
     "name": "stdout",
     "output_type": "stream",
     "text": [
      "     crim zn indus chas   nox    rm  age    dis rad tax ptratio      b lstat\n",
      "1 0.00632 18  2.31    0 0.538 6.575 65.2 4.0900   1 296    15.3 396.90  4.98\n",
      "2 0.02731  0  7.07    0 0.469 6.421 78.9 4.9671   2 242    17.8 396.90  9.14\n",
      "3 0.02729  0  7.07    0 0.469 7.185 61.1 4.9671   2 242    17.8 392.83  4.03\n",
      "4 0.03237  0  2.18    0 0.458 6.998 45.8 6.0622   3 222    18.7 394.63  2.94\n",
      "5 0.06905  0  2.18    0 0.458 7.147 54.2 6.0622   3 222    18.7 396.90  5.33\n",
      "6 0.02985  0  2.18    0 0.458 6.430 58.7 6.0622   3 222    18.7 394.12  5.21\n",
      "  medv\n",
      "1 24.0\n",
      "2 21.6\n",
      "3 34.7\n",
      "4 33.4\n",
      "5 36.2\n",
      "6 28.7\n"
     ]
    }
   ],
   "source": [
    "# Load library\n",
    "library(mlbench)\n",
    "\n",
    "# Load data\n",
    "data(BostonHousing)\n",
    "print(head(BostonHousing))"
   ]
  },
  {
   "cell_type": "markdown",
   "metadata": {},
   "source": [
    "BostonHusing 데이터 안에 있는 변수들을 사용해 마지막 변수인 medv를 예측하는 선형 회귀를 학습시키는 방법은 다음과 같다."
   ]
  },
  {
   "cell_type": "code",
   "execution_count": 13,
   "metadata": {},
   "outputs": [
    {
     "data": {
      "text/plain": [
       "\n",
       "Call:\n",
       "lm(formula = medv ~ ., data = train)\n",
       "\n",
       "Residuals:\n",
       "     Min       1Q   Median       3Q      Max \n",
       "-17.3555  -2.5758  -0.5061   1.6271  23.9439 \n",
       "\n",
       "Coefficients:\n",
       "              Estimate Std. Error t value Pr(>|t|)    \n",
       "(Intercept)  29.891455   6.114600   4.889 1.57e-06 ***\n",
       "crim         -0.056719   0.052701  -1.076 0.282584    \n",
       "zn            0.032611   0.015738   2.072 0.039000 *  \n",
       "indus         0.020977   0.074259   0.282 0.777739    \n",
       "chas1         3.523469   0.993306   3.547 0.000444 ***\n",
       "nox         -18.008866   4.421189  -4.073 5.77e-05 ***\n",
       "rm            4.508164   0.503789   8.949  < 2e-16 ***\n",
       "age          -0.006882   0.015732  -0.437 0.662048    \n",
       "dis          -1.449277   0.240319  -6.031 4.26e-09 ***\n",
       "rad           0.218833   0.075969   2.881 0.004221 ** \n",
       "tax          -0.009500   0.004261  -2.230 0.026433 *  \n",
       "ptratio      -0.856761   0.152946  -5.602 4.39e-08 ***\n",
       "b             0.009288   0.003333   2.787 0.005625 ** \n",
       "lstat        -0.486639   0.063911  -7.614 2.65e-13 ***\n",
       "---\n",
       "Signif. codes:  0 '***' 0.001 '**' 0.01 '*' 0.05 '.' 0.1 ' ' 1\n",
       "\n",
       "Residual standard error: 4.597 on 340 degrees of freedom\n",
       "Multiple R-squared:  0.7511,\tAdjusted R-squared:  0.7416 \n",
       "F-statistic: 78.93 on 13 and 340 DF,  p-value: < 2.2e-16\n"
      ]
     },
     "metadata": {},
     "output_type": "display_data"
    }
   ],
   "source": [
    "# Set seed\n",
    "set.seed(1990)\n",
    "\n",
    "# Split data\n",
    "train.id <- sample(1:nrow(BostonHousing), 0.7*nrow(BostonHousing))\n",
    "train    <- BostonHousing[train.id,]\n",
    "test     <- BostonHousing[-train.id,]\n",
    "\n",
    "# Train linear model\n",
    "lm.fit   <- lm(medv ~ ., data = train)\n",
    "summary(lm.fit)\n",
    "\n",
    "# Predict\n",
    "lm.pred <- predict(lm.fit, newdata = test)"
   ]
  },
  {
   "cell_type": "markdown",
   "metadata": {},
   "source": [
    "각 변수의 회귀 계수에 따라 회귀 식을 구성하면,\n",
    "$$ \\text{medv} = (\\text{ } -0.056719 \\times \\text{crim }) + (\\text{ } 0.032611 \\times \\text{zn }) + \\cdots + (\\text{ } -0.486639 \\times \\text{lstat })$$\n",
    "이 된다. 간단히 해석해보면, \n",
    "* crim 변수가 한 단위 증가할 때마다 medv는 0.098797만큼 감소한다.\n",
    "* zn 변수가 한 단위 증가할 때마다 medv는 0.0348757만큼 증가한다.\n",
    "* $\\vdots$\n",
    "* lstat 변수가 한 단위 증가할 때마다 medv는 0.618872만큼 감소한다."
   ]
  },
  {
   "cell_type": "markdown",
   "metadata": {},
   "source": [
    "선형 회귀 모델을 만들었으면, 이 모델이 적절한 것인지에 대한 검증이 필요하다. 회귀 모형은 기본적으로 여러 가정들을 기반으로 한 통계 모형이기 때문에 이러한 가정을 무시하고 모델을 만들었을 경우, 부정확한 모델이 될 수 있다."
   ]
  },
  {
   "cell_type": "markdown",
   "metadata": {},
   "source": [
    "# 오차항 $ \\varepsilon$ (Random error term)\n",
    "오차는 회귀식을 중심으로 무작위하게 흩어져 있는 변동으로, 다음과 같은 가정을 바탕으로 한다.\n",
    "* $\\varepsilon_i$는 정규분포의 형태를 이룬다.\n",
    "* $\\varepsilon_i$의 기대값은 0이다, $E(\\varepsilon_i) = 0$. 이 가정은 실제 값이 회귀선 상에 있는 점을 중심으로 분포되어 있다는 뜻이다.\n",
    "* $\\varepsilon_i$의 분산은 모든 $x$에 대해 동일하다, $\\sigma^2(\\varepsilon_i) = \\sigma^2$\n",
    "* $\\varepsilon_i$들은 서로 독립적이다.\n",
    "\n",
    "![선형회귀도해](https://www.dropbox.com/s/yxan4ive93j4yyn/error%20term.jpg?raw=1)\n",
    "<center>[이미지 출처](http://reliawiki.org/index.php/Simple_Linear_Regression_Analysis)</center>\n",
    "\n",
    "오차항 $\\varepsilon_i$가 확률변수이므로, $y_i$도 확률변수가 된다. 또한 $E(\\varepsilon_i) = 0$이므로\n",
    "$$E(y_i) = E(\\beta_0 + \\beta_1x_1 + \\cdots + \\beta_nx_n + \\varepsilon_i) = \\beta_0 + \\beta_1x_1 + \\cdots + \\beta_nx_n$$가 된다. 위 식을 모든 x와 y에 대하여 나타내면,\n",
    "$$E(y) = \\beta_0 + \\beta_1x_1 + \\cdots + \\beta_nx_n$$가 되는데 이 것이 바로 회귀 함수가 된다."
   ]
  },
  {
   "cell_type": "markdown",
   "metadata": {},
   "source": [
    "## 잔차 $e_i$ (residual)\n",
    "실제값($y_i$)과 예측값($\\hat{y_i}$)의 차이를 잔차라고 한다.\n",
    "$$e_i = y_i - \\hat{y_i}$$\n",
    "잔차 $e_i$와 오차항$\\varepsilon_i$가 어떻게 다른가를 구별하는 것은 중요한데, 모형을 다시 한 번 정리해보면 다음과 같다.\n",
    "$$y_i = \\beta_0 + \\beta_1x_1 + \\cdots + \\beta_kx_k + \\varepsilon_i$$\n",
    "$$y_i = \\hat{\\beta_0} + \\hat{\\beta_1}x_1 + \\cdots + \\hat{\\beta_k}x_k + e_i$$\n",
    "즉,\n",
    "$$\\varepsilon_i = y_i - (\\beta_0 + \\beta_1x_1 + \\cdots + \\beta_kx_k)$$\n",
    "$$e_i = y_i - (\\hat{\\beta_0} + \\hat{\\beta_1}x_1 + \\cdots + \\hat{\\beta_k}x_k)$$이다.\n",
    "위에서 알 수 있듯이 오차항 $\\varepsilon_i$는 실제값 $y_i$와 **모집단** 회귀식과의 차이를 말하고, 잔차 $e_i$는 실제값 $y_i$와 **추정** 회귀식과의 편차를 말한다.  \n",
    "오차항 $\\varepsilon_i$는 실제로 알 수 없기 때문에 잔차 $e_i$에 의해 추정된다."
   ]
  },
  {
   "cell_type": "markdown",
   "metadata": {},
   "source": [
    "# 선형 회귀에서의 가정\n",
    "선형 회귀에서는 기본적으로 다음과 같은 4가지 가정을 바탕으로 한다.\n",
    "* 정규성(Normality) : 평균이 0인 정규분포를 따름, $\\varepsilon \\text{ ~ } N(0, \\sigma^2)$\n",
    "* 독립성(Independence) : 오차항은 서로 독립\n",
    "* 선형성(Linearity) : 종속 변수와 독립 변수가 선형 관계\n",
    "* 등분산성(Homoscedasticity) : 오차항은 모든 $x$에 대해 동일한 분산을 가짐"
   ]
  },
  {
   "cell_type": "code",
   "execution_count": 4,
   "metadata": {
    "scrolled": false
   },
   "outputs": [
    {
     "data": {
      "image/png": "[encoded data removed]",
      "text/plain": [
       "Plot with title \"\""
      ]
     },
     "metadata": {},
     "output_type": "display_data"
    }
   ],
   "source": [
    "par(mfrow = c(2,2))\n",
    "plot(lm.fit)"
   ]
  },
  {
   "cell_type": "markdown",
   "metadata": {},
   "source": [
    "위의 4가지 그래프를 통해 선형 회귀의 기본 가정들에 대한 검증을 할 수 있다.\n",
    "* Residual vs Fitted : 잔차와 예측값을 산점도로, 독립성과 등분산성 확인 가능\n",
    "* Normal Q-Q :정규성을 확인 가능\n",
    "* Scale-Location : 표주화된 잔차와 예측값의 산점도로, REsidual vs Fitted plot과 유사\n",
    "* Residuals vs Leverage : 표준화된 잔차와 지레값(leverage)의 산점도로, x값과 y값의 이상치 확인 가능"
   ]
  },
  {
   "cell_type": "markdown",
   "metadata": {},
   "source": [
    "## 정규성\n",
    "선형 회귀에서는 오차항 $\\varepsilon_i$들이 정규분포를 이루고 있어야 한다. 그러므로 잔차 또한 평균이 0인 정규분포를 이루고 있어야 한다. normal Q-Q plot은 표준화된 잔차의 probability plot으로, 만약 잔차가 정규성 가정을 만족한다면 이 그래프의 점들은 45도 각도의 직선 상에 위치해야 한다. R의 <code>car</code> 패키지의 <code>qqPlot()</code>함수는 정규성 가정을 확인하는데 더 정확한 방법을 제공한다."
   ]
  },
  {
   "cell_type": "code",
   "execution_count": 4,
   "metadata": {},
   "outputs": [
    {
     "data": {
      "image/png": "[encoded data removed]",
      "text/plain": [
       "plot without title"
      ]
     },
     "metadata": {},
     "output_type": "display_data"
    }
   ],
   "source": [
    "# Load library\n",
    "library(car)\n",
    "\n",
    "# Ignore warning\n",
    "options(warn = -1)\n",
    "\n",
    "# Plot\n",
    "qqPlot(lm.fit)"
   ]
  },
  {
   "cell_type": "markdown",
   "metadata": {},
   "source": [
    "그러나 정규분포가 아니더라도 정규분포에서 크게 벗어나지만 않으면 문제가 생기지 않으므로, 잔차 $e_i$들을 개략적으로 검토하여 정규성을 판단해도 무방하다."
   ]
  },
  {
   "cell_type": "code",
   "execution_count": 62,
   "metadata": {},
   "outputs": [
    {
     "data": {},
     "metadata": {},
     "output_type": "display_data"
    },
    {
     "data": {
      "image/png": "[encoded data removed]",
      "text/plain": [
       "plot without title"
      ]
     },
     "metadata": {},
     "output_type": "display_data"
    }
   ],
   "source": [
    "# Load libraries\n",
    "library(ggplot2)\n",
    "library(dplyr)\n",
    "\n",
    "# Control plot size\n",
    "options(repr.plot.width=4, repr.plot.height=3)\n",
    "\n",
    "# Calculate residuals\n",
    "e <- rstandard(lm.fit)\n",
    "\n",
    "# Plot\n",
    "data.frame(e = e) %>%\n",
    "ggplot() + geom_density(aes(e, fill = 'red', col = 'red'), alpha = 0.2) + theme_minimal() + theme(legend.position = \"none\")"
   ]
  },
  {
   "cell_type": "markdown",
   "metadata": {},
   "source": [
    "## 독립성\n",
    "선형 회귀에서는 $\\varepsilon_i$들이 서로 독립적이어야 한다. 독립성을 만족하면, 다음 plot에서 어떤 관계가 보이지 않는다. "
   ]
  },
  {
   "cell_type": "code",
   "execution_count": 38,
   "metadata": {},
   "outputs": [
    {
     "data": {
      "image/png": "[encoded data removed]",
      "text/plain": [
       "Plot with title \"\""
      ]
     },
     "metadata": {},
     "output_type": "display_data"
    }
   ],
   "source": [
    "plot(lm.fit, which = c(1))"
   ]
  },
  {
   "cell_type": "markdown",
   "metadata": {},
   "source": [
    " 데이터가 수집될 때, 시간 간격을 두고 계속적으로 수집될 경우 $\\varepsilon_i$들이 서로 독립적이지 않고 자기상관성(autocorrelation)을 가질 수가 있다. <code>car</code> 패키지의 durbin-Watson 검정으로 독립성을 판단할 수 있다. 이 함수의 결과가 유의하게 나온다면 자기상관성이 있다고 판단할 수 있다."
   ]
  },
  {
   "cell_type": "code",
   "execution_count": 25,
   "metadata": {},
   "outputs": [
    {
     "data": {
      "text/plain": [
       " lag Autocorrelation D-W Statistic p-value\n",
       "   1      0.06704547      1.860615   0.194\n",
       " Alternative hypothesis: rho != 0"
      ]
     },
     "metadata": {},
     "output_type": "display_data"
    }
   ],
   "source": [
    "durbinWatsonTest(lm.fit)"
   ]
  },
  {
   "cell_type": "markdown",
   "metadata": {},
   "source": [
    "## 선형성\n",
    "<code>car</code> 패키지의 <code>crPlots()</code> 함수를 사용해 선형성을 확인할 수 있다."
   ]
  },
  {
   "cell_type": "code",
   "execution_count": 5,
   "metadata": {},
   "outputs": [
    {
     "data": {
      "image/png": "[encoded data removed]",
      "text/plain": [
       "plot without title"
      ]
     },
     "metadata": {},
     "output_type": "display_data"
    },
    {
     "data": {
      "image/png": "[encoded data removed]",
      "text/plain": [
       "plot without title"
      ]
     },
     "metadata": {},
     "output_type": "display_data"
    }
   ],
   "source": [
    "crPlots(lm.fit)"
   ]
  },
  {
   "cell_type": "markdown",
   "metadata": {},
   "source": [
    "위의 plot들에서 비선형성이 관찰된다면 변수 변환을 하거나 비선형 회귀 모형을 사용해야 한다."
   ]
  },
  {
   "cell_type": "markdown",
   "metadata": {},
   "source": [
    "## 등분산성\n",
    "선형 회귀에서는 $\\varepsilon_i$들의 분산이 모두 같아야 한다. 등분산성을 만족하면, 수평선 주위에 Random Band 형태로 어떤 관계가 보이지 않는다. 만약 등분산성 가정이 위배된다면 변수 변환을 통해서 독립 변수들을 변환시켜서 회귀 모델에 적용해야 한다."
   ]
  },
  {
   "cell_type": "code",
   "execution_count": 34,
   "metadata": {},
   "outputs": [
    {
     "data": {
      "image/png": "[encoded data removed]",
      "text/plain": [
       "Plot with title \"\""
      ]
     },
     "metadata": {},
     "output_type": "display_data"
    }
   ],
   "source": [
    "plot(lm.fit, which = c(3))"
   ]
  },
  {
   "cell_type": "markdown",
   "metadata": {},
   "source": [
    "<code>car</code> 패키지의 <code>ncvTest()</code> 함수는 예측값에 따라 오차의 분산이 변하는지를 검정해주는 함수이다. 이 함수의 결과가 유의하게 나온다면 등분산성 가정이 위배된다고 할 수 있다."
   ]
  },
  {
   "cell_type": "code",
   "execution_count": 28,
   "metadata": {
    "scrolled": false
   },
   "outputs": [
    {
     "data": {
      "text/plain": [
       "Non-constant Variance Score Test \n",
       "Variance formula: ~ fitted.values \n",
       "Chisquare = 7.356721    Df = 1     p = 0.006681252 "
      ]
     },
     "metadata": {},
     "output_type": "display_data"
    }
   ],
   "source": [
    "ncvTest(lm.fit)"
   ]
  },
  {
   "cell_type": "markdown",
   "metadata": {},
   "source": [
    "## 다중공선성(Multicolinearity)\n",
    "다중공선성이란, 설명 변수들 간에 강한 상관관계가 나타나는 문제이다. 다중공선성이 있는 경우, 회귀 계수의 변동성이 커져 통계량과 모수가 서로 반대 부호를 가질 수 있다. 다중공선성은 분산팽창계수(Variance Inflation Factor, VIF)를 통해 확인할 수 있는데, 일반적으로 VIF 값이 10을 넘으면 의심의 여지가 있다."
   ]
  },
  {
   "cell_type": "code",
   "execution_count": 14,
   "metadata": {},
   "outputs": [
    {
     "name": "stdout",
     "output_type": "stream",
     "text": [
      "    crim       zn    indus     chas      nox       rm      age      dis \n",
      "2.295084 2.423331 4.375690 1.124758 4.450116 2.081634 3.401537 4.246351 \n",
      "     rad      tax  ptratio        b    lstat \n",
      "7.165530 8.464767 1.823889 1.388059 3.440503 \n"
     ]
    }
   ],
   "source": [
    "print(vif(lm.fit))"
   ]
  },
  {
   "cell_type": "markdown",
   "metadata": {},
   "source": [
    "# 회귀 계수 추정\n",
    "최소제곱법(Ordinary Least Squares, OLS)은 가장 기본적인 회귀 계수를 추정하는 방법으로 실제 관측값($y_i$)과 예측값($\\hat{y_i}$)과의 차이를 최소로 하는 회귀 계수($\\beta$, $W$)를 추정하는 방법이다. 잔차에는 $\\pm$부호가 있으므로 각 잔차를 제곱하여 더한 합을 최소로 하는 회귀 계수를 추정한다.\n",
    "$$ \\text{잔차제곱합(Residual Sum of Squares, RSS) : } \\sum_{i=1}^n e_i^2 = \\sum_{i=1}^n (y_i - \\beta_0 - \\sum_{j=1}^k \\beta_jx_{ij})^2$$\n",
    "최소제곱법 이외에 일반화 최소제곱법, 최우추정법, 도구변수 추정법 등 회귀 계수를 추정하는 여러 방법이 있다. 어떤 방법을 쓰는 것이 좋은가는 결국 모집단에 대해 어떤 가정을 할 수 있는가에 달려있다."
   ]
  },
  {
   "cell_type": "markdown",
   "metadata": {},
   "source": [
    "## 경사하강법(Gradient Descent)"
   ]
  },
  {
   "cell_type": "markdown",
   "metadata": {},
   "source": [
    "회귀 계수 $\\beta$를 구하기 위해 회귀 함수의 표현식을 바꿔보면, $y = H(X) = W^TX + b = w_1x_1 + w_2x_2 + \\cdots + w_kx_k + b$로 표현할 수 있다.  \n",
    "이 때, W는 회귀 계수 벡터(가중치 벡터) $W = \\begin{bmatrix} w_1 \\\\ w_2 \\\\ \\vdots \\\\ w_k \\end{bmatrix}$이고,  \n",
    "X는 입력 데이터 행렬 $X = \\begin{bmatrix} x_1 & x_2 & \\cdots & x_n\\end{bmatrix} = \\begin{bmatrix} x_{11} & x_{21} & \\cdots & x_{n1} \\\\ x_{12} & x_{22} & \\cdots & x_{n2} \\\\ \\vdots & \\vdots & \\ddots & \\vdots \\\\ x_{1k} & x_{2k} & \\cdots & x_{nk} \\end{bmatrix}$이다.  \n",
    "이 회귀 함수 $H(X)$에 대해, 잔차제곱합을 비용 함수(cost function) 혹은 손실 함수(loss function)라고 부른다. \n",
    "$$cost(W) = \\frac{1}{m}\\sum_{i=1}^m (H(x_i) - y_i)^2$$"
   ]
  },
  {
   "cell_type": "markdown",
   "metadata": {},
   "source": [
    "### 정규방정식(Normal Equation)\n",
    "경사하강법을 보기 전에 정규방정식이란 것을 봐보자. 정규방정식이란 위의 비용 함수를 최소화하는 $W$를 찾기 위한 해석적 방법으로, 비용 함수를 $W$에 대해 정리한 식이다.\n",
    "$$\\hat{W} = (X^T\\cdot X)^{-1}\\cdot X^T \\cdot y$$\n",
    "다음의 예시에서 확인해보자."
   ]
  },
  {
   "cell_type": "code",
   "execution_count": 28,
   "metadata": {
    "scrolled": false
   },
   "outputs": [
    {
     "name": "stdout",
     "output_type": "stream",
     "text": [
      "(Intercept)           x \n",
      "  -6.428219   12.156948 \n"
     ]
    },
    {
     "data": {},
     "metadata": {},
     "output_type": "display_data"
    },
    {
     "data": {
      "image/png": "[encoded data removed]",
      "text/plain": [
       "plot without title"
      ]
     },
     "metadata": {},
     "output_type": "display_data"
    }
   ],
   "source": [
    "# Set seed\n",
    "set.seed(2845)\n",
    "\n",
    "# Generate data\n",
    "x <- seq(-5, 15, 1)\n",
    "y <- 12*x - 7 + rnorm(21, 0, 10)\n",
    "lm.df <- data.frame(x = x, y = y)\n",
    "\n",
    "# Train\n",
    "lm.fit <- lm(y ~ x, lm.df)\n",
    "print(lm.fit$coefficients)\n",
    "\n",
    "# Plot\n",
    "ggplot(lm.df, aes(x, y)) + geom_point() + theme_minimal() + \n",
    "geom_abline(intercept = lm.fit$coefficients[1], slope = lm.fit$coefficients[2], col = \"steelblue\", size = 0.8) +\n",
    "geom_segment(aes(x, lm.fit$coefficients[2]*x + lm.fit$coefficients[1], yend = y, xend = x)) "
   ]
  },
  {
   "cell_type": "markdown",
   "metadata": {},
   "source": [
    "위의 예시에서, x와 y는 선형 관계로 표현될 수 있고 실제 $W = \\begin{bmatrix} 12 \\\\ -7 \\end{bmatrix}$이다. 그렇다면 정규방정식을 적용해 x의 회귀 계수 $\\hat{W}$를 구해보자."
   ]
  },
  {
   "cell_type": "code",
   "execution_count": 29,
   "metadata": {},
   "outputs": [
    {
     "name": "stdout",
     "output_type": "stream",
     "text": [
      "          [,1]\n",
      "[1,] 12.156948\n",
      "[2,] -6.428219\n"
     ]
    }
   ],
   "source": [
    "# Transform to matrix for normal equation\n",
    "x_mat <- matrix(x) %>% cbind(rep(1, length(x)))\n",
    "y_mat <- matrix(y)\n",
    "\n",
    "# Weight\n",
    "print(solve(t(x_mat) %*% x_mat) %*% (t(x_mat) %*% y_mat))"
   ]
  },
  {
   "cell_type": "markdown",
   "metadata": {},
   "source": [
    "$\\hat{W} = \\begin{bmatrix} 12.156948 \\\\ -6.428219 \\end{bmatrix}$로 실제 $W = \\begin{bmatrix} 12 \\\\ -7 \\end{bmatrix}$와 유사하지만 노이즈 때문에 정확한 회귀 계수를 찾지는 못했다."
   ]
  },
  {
   "cell_type": "markdown",
   "metadata": {},
   "source": [
    "정규방정식은 $(n + 1) \\times (n + 1)$ 크기의 $X^T \\cdot X$의 역행렬을 계산하기 때문에 변수의 수가 증가할수록 계산 복잡도가 굉장히 증가한다. 일반적으로 역행렬을 계산하는 계산 복잡도는 일반적으로 $O(n^{2.4})$에서 $O(n^3)$사이로, 변수의 수가 2배로 증가하면 계산 시간이 대략 $2^{2.4} = 5.3$에서 $2^3 = 8$배로 증가한다."
   ]
  },
  {
   "cell_type": "markdown",
   "metadata": {},
   "source": [
    "### 경사하강법(Gradient Descent)\n",
    "경사 하강법은 여러 종류의 문제에서 최적의 해법을 찾을 수 있는 일반적인 최적화 알고리즘이다. 비용 함수를 최소화하기 위해 반복해서 파라미터를 조정해가는 방법으로 다음과 같은 순서로 진행된다.\n",
    "1. 임의로 W의 값을 설정(random initialization)\n",
    "2. 한 번에 조금(Learning rate)씩 비용 함수가 감소되는 방향($W$ 대해 편미분)으로 진행\n",
    "3. 알고리즘이 최소값(Local minimum)에 수렴(Converge)될 때까지 점진적으로 향상"
   ]
  },
  {
   "cell_type": "markdown",
   "metadata": {},
   "source": [
    "계산의 편의를 위해 cost function을 약간 변형하여 사용한다.\n",
    "$$cost(W) = \\frac{1}{m}\\sum_{i=1}^m (H(x_i) - y_i)^2$$\n",
    "$$\\Downarrow$$\n",
    "$$cost(W) = \\frac{1}{2m}\\sum_{i=1}^m (H(x_i) - y_i)^2$$"
   ]
  },
  {
   "cell_type": "markdown",
   "metadata": {},
   "source": [
    "비용 함수를 $W$에 대해 편미분한 방향으로 사전에 정의한 learning rate(또는 step size)만큼 $W$를 이동시키면서 비용 함수를 감소시킨다.\n",
    "$$W := W - \\alpha \\frac{\\partial}{\\partial W}cost(W), \\text{ } \\alpha \\text{ : learning rate}$$\n",
    "$$\\Downarrow$$\n",
    "$$W := W - \\alpha \\frac{\\partial}{\\partial W}\\frac{1}{2m}\\sum_{i=1}^m (Wx_i - y_i)^2$$\n",
    "$$\\Downarrow$$\n",
    "$$W := W - \\alpha \\frac{1}{2m}\\sum_{i=1}^m 2(Wx_i - y_i)x_i$$\n",
    "$$\\Downarrow$$\n",
    "$$W := W - \\alpha \\frac{1}{m}\\sum_{i=1}^m (Wx_i - y_i)x_i$$"
   ]
  },
  {
   "cell_type": "markdown",
   "metadata": {},
   "source": [
    "![경사하강법](https://www.dropbox.com/s/koln95uz33729c3/gradient%20descent.jpg?raw=1)\n",
    "<center>[이미지 출처](http://gdyoon.tistory.com/9)</center>  \n",
    "비용 함수의 W에서의 기울기($\\frac{\\partial}{\\partial W}cost(W)$)가 음수(빨간 선)이면 $W$는 학습률(learning rate)배 만큼 증가하고 양수이면 학습률 배 만큼 감소하면서 비용 함수가 최소가 되는 지점을 찾는다. 다음 예시를 보자."
   ]
  },
  {
   "cell_type": "code",
   "execution_count": 30,
   "metadata": {
    "scrolled": true
   },
   "outputs": [
    {
     "name": "stdout",
     "output_type": "stream",
     "text": [
      "Stop at iter 1040 , Cost change amount is less than threshold \n",
      "Cost : 8.659189 \n",
      " W1 : 12.14421 \n",
      " W2 : -6.272587"
     ]
    }
   ],
   "source": [
    "# Set seed\n",
    "set.seed(1990)\n",
    "\n",
    "# Initialize w randomly\n",
    "w <- sample(-100:100, 2) %>% matrix(nrow = 2)\n",
    "previous_cost <- NULL\n",
    "learning_rate <- 0.01\n",
    "epsilon <- 0.00001\n",
    "\n",
    "cost_list <- c()\n",
    "w1_list <- c()\n",
    "w2_list <- c()\n",
    "for (i in 1:10000) { # Iterate 10000 times\n",
    "    y_hat <- w[1]*x + w[2] # Predict y\n",
    "    cost <- sqrt(mean((y_hat - y)^2)) # Calculate cost\n",
    "    \n",
    "    if (i > 1) { # Check after first prediction\n",
    "        if (epsilon > abs(previous_cost - cost)) { # Break if cost change amount is less than threshold\n",
    "            cat(\"Stop at iter\", i, \", Cost change amount is less than threshold\", \"\\n\")\n",
    "            break\n",
    "        }\n",
    "    }\n",
    "    previous_cost <- cost # Change the previous cost\n",
    "    cost_list <- c(cost_list, cost) # Reserve the cost\n",
    "    \n",
    "    # Update W\n",
    "    w <- w - t(learning_rate / length(x) * ((t(w) %*% t(x_mat) - t(y_mat)) %*% x_mat))\n",
    "    \n",
    "    # Reserve the weights\n",
    "    w1_list <- c(w1_list, w[1])\n",
    "    w2_list <- c(w2_list, w[2])\n",
    "}\n",
    "# Print final weights\n",
    "cat(\"Cost :\", cost_list[length(cost_list)], \"\\n\", \"W1 :\", w1_list[length(w1_list)], \"\\n\", \"W2 :\", w2_list[length(w2_list)])\n",
    "\n",
    "# Make dataframe for plotting\n",
    "cost.df <- data.frame(iter = 1:length(cost_list), cost = cost_list, w1 = w1_list, w2 = w2_list)"
   ]
  },
  {
   "cell_type": "markdown",
   "metadata": {},
   "source": [
    "경사하강법을 통해 구한 회귀 계수는 $\\hat{W} = \\begin{bmatrix} 12.14421  \\\\ -6.272587 \\end{bmatrix}$로 실제 $W = \\begin{bmatrix} 12 \\\\ 7 \\end{bmatrix}$와 유사하지만 노이즈 때문에 정확한 회귀 계수를 찾지는 못했다."
   ]
  },
  {
   "cell_type": "code",
   "execution_count": 56,
   "metadata": {},
   "outputs": [
    {
     "data": {},
     "metadata": {},
     "output_type": "display_data"
    },
    {
     "data": {
      "image/png": "[encoded data removed]",
      "text/plain": [
       "plot without title"
      ]
     },
     "metadata": {},
     "output_type": "display_data"
    }
   ],
   "source": [
    "cost.df %>% filter(iter > 30) %>% \n",
    "ggplot() + geom_line(aes(iter, w1, col = 'steelblue'), size = 1) + \n",
    "geom_line(aes(iter, w2, col = 'palegreen3'), size = 1) + \n",
    " geom_line(aes(iter, cost, col = 'darkorange'), size = 1) + \n",
    "ylab(\"Value\") + theme_minimal() + scale_colour_manual(name = 'Type', \n",
    "                      values =c('steelblue'='steelblue','palegreen3'='palegreen3', 'darkorange'='darkorange'), \n",
    "                                                      labels = c('Cost', 'Weight 2', 'Weight 1')) +\n",
    "theme(legend.position = \"top\")"
   ]
  },
  {
   "cell_type": "markdown",
   "metadata": {},
   "source": [
    "##### learning rate, local minimum 설명할 것\n",
    "선형 회귀에서 비용 함수가 convex problem이기 때문에 local minimum이 global minumun이 되는 것  "
   ]
  },
  {
   "cell_type": "markdown",
   "metadata": {},
   "source": [
    "# 회귀 모형의 유의성 검정\n",
    "최소제곱법에 의해서 회귀 계수를 추정하여 회귀 모형을 만들었다면, 이 모델이 얼마나 유의한지를 검정해야 한다.  \n",
    "\n",
    "![Regression](https://www.dropbox.com/s/2z1a7amv78qs6dg/regression%20test.png?raw=1)\n",
    "* 종속 변수의 총 변동(총제곱합, SST) = $\\sum(y_i - \\bar{y})^2$\n",
    "* 회귀 직선에 의해 설명이 되는 변동(회귀제곱합, SSR) = $\\sum(\\hat{y_i} - \\bar{y})^2$\n",
    "* 회귀 직선에 의해 설명이 안되는 변동(잔차제곱합, SSE) = $\\sum(y_i - \\hat{y_i})^2 = \\sum e_i^2$\n",
    "$$SST = SSR + SSE$$"
   ]
  },
  {
   "cell_type": "markdown",
   "metadata": {},
   "source": [
    "## 분산분석\n",
    "회귀 모형 내의 모든 설명 변수들이 종속 변수와 선형 관계가 있는지를 검정해야 한다. 만약 모든 설명 변수들이 종속 변수에 영향을 미치지 않는다면 회귀 모형이 성립될 수 없으므로, 회귀 모형이 성립될 수 있는 최소의 요건을 갖추고 있는지를 검정할 필요가 있는데, 귀무 가설과 대립 가설은 다음과 같이 설정한다.\n",
    "\n",
    "$$H_0 : \\beta_1 = \\beta_2 = \\cdots = \\beta_n = 0$$\n",
    "$$H_1 : 적어도 하나의 \\beta_i는 0이 아니다$$\n",
    "만약 귀무 가설이 기각된다면 적어도 하나 이상의 설명 변수는 종속 변수에 대해 설명력이 있다는 것을 의미하므로 회귀 모형은 타당성을 갖게 된다."
   ]
  },
  {
   "cell_type": "markdown",
   "metadata": {},
   "source": [
    "설명 변수들이 종속 변수에 대해 설명력을 가지고 있다면 설명 변수들에 의해 설명되는 분산은 설명되지 않는 분산에 비해 상대적으로 클 것이다. 즉 회귀 직선에 의해 설명이 되는 회귀제곱합인 SSR과, 회귀 직선에 의해 설명이 안되는 잔차제곱합 SSE를 각각의 자유도로 나누어 분산을 구한 후 이 분산의 비율에 의해 계산된 F값으로 귀무가설의 기각 여부를 결정하게 된다. 추정된 회귀 모형 전체에 대한 검정은 분산분석표를 이용하여 F검정을 통해 수행한다.  \n",
    "\n",
    "  |자유도|제곱합|제곱평균|F-통계량|P-value\n",
    "--|------|------|--------|--------|--------\n",
    "Regression|k|**SSR**|회귀제곱평균(MSR) : SSR/k | F비 : MSR/MSE | F-통계량의 유의확률(F분포표)\n",
    "Residual|n-k-1|**SSE**|잔차제곱평균(MSE) : SSE/(n-k-1) |  | \n",
    "Total|n-1|**SST**|총제곱평균(MST) : SST/(n-1) |  | \n",
    "  \n",
    "\n",
    "\n",
    "$$F = \\frac{MSR}{MSE} = \\frac{(SST-SSE)/k}{SSE/(n-k-1)}, \\text{ } k : 변수의 수, \\text{ } n : 데이터의 수$$\n",
    "\n",
    "<code>lm()</code>함수를 통해서 만든 회귀 모형의 검정 결과는 <code>summary()</code>함수로 확인할 수 있다."
   ]
  },
  {
   "cell_type": "code",
   "execution_count": 7,
   "metadata": {},
   "outputs": [
    {
     "data": {
      "text/plain": [
       "\n",
       "Call:\n",
       "lm(formula = medv ~ ., data = train)\n",
       "\n",
       "Residuals:\n",
       "     Min       1Q   Median       3Q      Max \n",
       "-17.3555  -2.5758  -0.5061   1.6271  23.9439 \n",
       "\n",
       "Coefficients:\n",
       "              Estimate Std. Error t value Pr(>|t|)    \n",
       "(Intercept)  29.891455   6.114600   4.889 1.57e-06 ***\n",
       "crim         -0.056719   0.052701  -1.076 0.282584    \n",
       "zn            0.032611   0.015738   2.072 0.039000 *  \n",
       "indus         0.020977   0.074259   0.282 0.777739    \n",
       "chas1         3.523469   0.993306   3.547 0.000444 ***\n",
       "nox         -18.008866   4.421189  -4.073 5.77e-05 ***\n",
       "rm            4.508164   0.503789   8.949  < 2e-16 ***\n",
       "age          -0.006882   0.015732  -0.437 0.662048    \n",
       "dis          -1.449277   0.240319  -6.031 4.26e-09 ***\n",
       "rad           0.218833   0.075969   2.881 0.004221 ** \n",
       "tax          -0.009500   0.004261  -2.230 0.026433 *  \n",
       "ptratio      -0.856761   0.152946  -5.602 4.39e-08 ***\n",
       "b             0.009288   0.003333   2.787 0.005625 ** \n",
       "lstat        -0.486639   0.063911  -7.614 2.65e-13 ***\n",
       "---\n",
       "Signif. codes:  0 '***' 0.001 '**' 0.01 '*' 0.05 '.' 0.1 ' ' 1\n",
       "\n",
       "Residual standard error: 4.597 on 340 degrees of freedom\n",
       "Multiple R-squared:  0.7511,\tAdjusted R-squared:  0.7416 \n",
       "F-statistic: 78.93 on 13 and 340 DF,  p-value: < 2.2e-16\n"
      ]
     },
     "metadata": {},
     "output_type": "display_data"
    }
   ],
   "source": [
    "summary(lm.fit)"
   ]
  },
  {
   "cell_type": "markdown",
   "metadata": {},
   "source": [
    "위 결과에서 F-statistic 부분을 보면 F-통계량이 78.93이고 p-value가 2.2e-16미만으로 유의 수준 0.05보다 훨씬 작아 이 모형은 적어도 하나의 설명 변수가 종속 변수와 선형 관계에 있다고 할 수 있다."
   ]
  },
  {
   "cell_type": "markdown",
   "metadata": {},
   "source": [
    "## 결정계수 $R^2$\n",
    "최소제곱법에 의하여 추정된 회귀 모형이 종속변수의 변동을 어느정도로 잘 설명해주는가를 나타내는 지표이다. 전체 변동에서 회귀 직선에 의해 설명되는 변동의 비율이 어느정도인지를 나타낸다.\n",
    "$$ R^2 = \\frac{SSR}{SST} = 1 - \\frac{SSE}{SST}, (0 \\le R^2 \\le 1)$$\n",
    "만약 $\\beta_1 = \\beta_2 = \\cdots = \\beta_n = 0$이어서 추정된 회귀 모델의 설명력이 전혀 없을 때는 $R^2 = 0$이 되고, 반대로 모든 $y_i$값들이 추정된 회귀 모델의 선 상에 위치하게 되면 $R^2 = 1$이 된다."
   ]
  },
  {
   "cell_type": "markdown",
   "metadata": {},
   "source": [
    "### 조정결정계수 $\\text{Adj } R^2$\n",
    "결정계수는 설명 변수의 수가 증가할 수록 그 값이 증가하게 된다. 그러나 무작정 설명 변수의 수를 늘려서 결정계수를 크게 하는 것은 항상 바람직한 것은 아니다. 왜냐하면 설명 변수의 수가 증가할 수록 모형의 복잡도가 높아질 뿐만 아니라, 설명 변수 간의 상관관계가 높아지게 되어 다중공선성의 문제가 발생하게 되고, 회귀 계수의 해석에 어려움이 따르게 되기 때문이다.  \n",
    "따라서 설명 변수의 수를 고려해서 결정계수를 조정해야 한다.\n",
    "$$\\text{Adj }R^2 = 1 - (1 - R^2)\\frac{n-1}{n-k-1}$$"
   ]
  },
  {
   "cell_type": "markdown",
   "metadata": {},
   "source": [
    "<code>lm()</code>함수를 통해서 만든 회귀 모형의 결정 계수는 <code>summary()</code>함수로 확인할 수 있다."
   ]
  },
  {
   "cell_type": "code",
   "execution_count": 22,
   "metadata": {},
   "outputs": [
    {
     "name": "stdout",
     "output_type": "stream",
     "text": [
      "결정계수 : 0.7511206 \n",
      " 조정 결정계수 : 0.7416046"
     ]
    }
   ],
   "source": [
    "cat(\"결정계수 :\", summary(lm.fit)$r.squared, \"\\n\", \"조정 결정계수 :\", summary(lm.fit)$adj.r.squared)"
   ]
  },
  {
   "cell_type": "markdown",
   "metadata": {},
   "source": [
    "## 회귀 계수 검정\n",
    "회귀 모형 전체에 대한 검정뿐 아니라 하나의 설명 변수에 대한 검정 또한 필요하다.  추정된 회귀 계수 $\\beta_i$가 에 대한 검정을 위해 다음과 같이 귀무 가설과 대립 가설을 설정한다.\n",
    "$$H_0 : \\beta = 0$$\n",
    "$$H_a : \\beta \\ne 0$$\n",
    "이 회귀 계수에 대한 검정은 자유도 k-n-1의 t-분포를 이용한다. p-value는 귀무가설이 맞다는 가정하에 주어진 $\\beta_i$ 가 나올 확률로, 일반적으로 p-value < 0.05이면 귀무가설 하에서 그러한 검정통계량의 값을 얻게될 가능성이 5%이하를 의미하므로 추정된 $\\beta$의 값이 유의하다고 판단한다.\n",
    "<code>lm()</code>함수를 통해서 만든 회귀 모형의 회귀 계수 검정 결과는 <code>summary()</code>함수로 확인할 수 있다."
   ]
  },
  {
   "cell_type": "code",
   "execution_count": 25,
   "metadata": {},
   "outputs": [
    {
     "data": {
      "text/plain": [
       "\n",
       "Call:\n",
       "lm(formula = medv ~ ., data = train)\n",
       "\n",
       "Residuals:\n",
       "     Min       1Q   Median       3Q      Max \n",
       "-17.3555  -2.5758  -0.5061   1.6271  23.9439 \n",
       "\n",
       "Coefficients:\n",
       "              Estimate Std. Error t value Pr(>|t|)    \n",
       "(Intercept)  29.891455   6.114600   4.889 1.57e-06 ***\n",
       "crim         -0.056719   0.052701  -1.076 0.282584    \n",
       "zn            0.032611   0.015738   2.072 0.039000 *  \n",
       "indus         0.020977   0.074259   0.282 0.777739    \n",
       "chas1         3.523469   0.993306   3.547 0.000444 ***\n",
       "nox         -18.008866   4.421189  -4.073 5.77e-05 ***\n",
       "rm            4.508164   0.503789   8.949  < 2e-16 ***\n",
       "age          -0.006882   0.015732  -0.437 0.662048    \n",
       "dis          -1.449277   0.240319  -6.031 4.26e-09 ***\n",
       "rad           0.218833   0.075969   2.881 0.004221 ** \n",
       "tax          -0.009500   0.004261  -2.230 0.026433 *  \n",
       "ptratio      -0.856761   0.152946  -5.602 4.39e-08 ***\n",
       "b             0.009288   0.003333   2.787 0.005625 ** \n",
       "lstat        -0.486639   0.063911  -7.614 2.65e-13 ***\n",
       "---\n",
       "Signif. codes:  0 '***' 0.001 '**' 0.01 '*' 0.05 '.' 0.1 ' ' 1\n",
       "\n",
       "Residual standard error: 4.597 on 340 degrees of freedom\n",
       "Multiple R-squared:  0.7511,\tAdjusted R-squared:  0.7416 \n",
       "F-statistic: 78.93 on 13 and 340 DF,  p-value: < 2.2e-16\n"
      ]
     },
     "metadata": {},
     "output_type": "display_data"
    }
   ],
   "source": [
    "summary(lm.fit)"
   ]
  },
  {
   "cell_type": "markdown",
   "metadata": {},
   "source": [
    "위 결과에서 Coefficients 부분을 보면 각 설명 변수 별로 p-value 값을 확인할 수 있다. <code>crim</code>변수의 경우 p-value가 0.282584로 유의 수준 0.05보다 커서 유의하지 않은 변수라고 할 수 있다. 반면에 <code>lstat</code>변수는 p-value가 2.65e-13으로 유의 수준보다 훨씬 작아 유의한 변수라 할 수 있다."
   ]
  },
  {
   "cell_type": "markdown",
   "metadata": {},
   "source": [
    "# 회귀 모형의 교정\n",
    "회귀 모형의 유의성 검정, 가정 검토를 통해서 문제가 발견되었을 경우, 다음과 같은 방법을 통해 교정할 수 있다.\n",
    "* 이상치 제거 : 일반적으로 모형을 만들기 전 EDA 과정에서 이상치를 제거하는 경우가 많은데, 회귀 모형을 만든 후에 영향 관측치가 발견되었다면 제거할 수 있다. 그러나 관측치를 제거하는 것은 항상 매우 주의해서 진행해야 한다.\n",
    "* 변수 변환 : 회귀 모형이 선형성, 등분산성 등의 가정을 만족하지 않을 때 변수 변환을 통해 그 가정을 만족시킬 수도 있다.\n",
    "* 변수 선택 : 전체 변수를 전부 사용하는 것이 아니라 유의하지 않은 변수, 다중공선성 등을 고려해서 모형을 만든다.\n",
    "* 다른 회귀 방법 사용 : 종속 변수와 설명 변수들 간에 선형 관계가 아닌 비선형 관계일 경우, 비선형회귀 모형을 사용하는 것이 좋다."
   ]
  },
  {
   "cell_type": "markdown",
   "metadata": {},
   "source": [
    "선형 회귀 모형는 <code>step()</code>함수를 사용해 변수를 선택할 수 있다. <code>step()</code>함수는 AIC 값을 이용해 단계적으로 회귀를 수행하면서 더 나은 변수 조합을 찾는다.\n",
    "* 전진선택법(Forward) : 변수가 없이 시작해서 p-value 값이 가장 작은 변수부터 하나씩 추가하는 방법\n",
    "* 후진제거법(Backward) :모든 변수를 포함한채 시작해서 하나씩 p-value 값이 가장 큰 변수부터 제거하는 방법"
   ]
  },
  {
   "cell_type": "code",
   "execution_count": 51,
   "metadata": {
    "scrolled": true
   },
   "outputs": [
    {
     "name": "stdout",
     "output_type": "stream",
     "text": [
      "Start:  AIC=1560.04\n",
      "medv ~ 1\n",
      "\n",
      "          Df Sum of Sq   RSS    AIC\n",
      "+ lstat    1   16191.4 12678 1270.7\n",
      "+ rm       1   15308.1 13562 1294.6\n",
      "+ ptratio  1    7299.4 21570 1458.9\n",
      "+ indus    1    6409.3 22460 1473.2\n",
      "+ tax      1    6342.0 22528 1474.2\n",
      "+ nox      1    5177.3 23692 1492.1\n",
      "+ crim     1    4779.2 24090 1498.0\n",
      "+ age      1    4350.8 24519 1504.2\n",
      "+ rad      1    4229.0 24641 1506.0\n",
      "+ zn       1    3524.7 25345 1516.0\n",
      "+ b        1    2659.6 26210 1527.8\n",
      "+ dis      1    2007.2 26862 1536.5\n",
      "+ chas     1    1019.3 27850 1549.3\n",
      "<none>                 28870 1560.0\n",
      "\n",
      "Step:  AIC=1270.73\n",
      "medv ~ lstat\n",
      "\n",
      "          Df Sum of Sq     RSS    AIC\n",
      "+ rm       1   3065.84  9612.4 1174.7\n",
      "+ ptratio  1   1345.74 11332.5 1233.0\n",
      "+ chas     1    651.93 12026.3 1254.0\n",
      "+ dis      1    601.95 12076.2 1255.5\n",
      "+ age      1    335.23 12343.0 1263.2\n",
      "<none>                 12678.2 1270.7\n",
      "+ tax      1     59.07 12619.1 1271.1\n",
      "+ zn       1     44.23 12634.0 1271.5\n",
      "+ b        1     28.93 12649.3 1271.9\n",
      "+ nox      1     22.71 12655.5 1272.1\n",
      "+ indus    1     12.07 12666.1 1272.4\n",
      "+ crim     1      7.51 12670.7 1272.5\n",
      "+ rad      1      0.02 12678.2 1272.7\n",
      "\n",
      "Step:  AIC=1174.73\n",
      "medv ~ lstat + rm\n",
      "\n",
      "          Df Sum of Sq    RSS    AIC\n",
      "+ ptratio  1    880.97 8731.4 1142.7\n",
      "+ chas     1    447.15 9165.2 1159.9\n",
      "+ b        1    275.21 9337.2 1166.5\n",
      "+ dis      1    229.23 9383.1 1168.2\n",
      "+ tax      1    193.95 9418.4 1169.5\n",
      "+ rad      1     96.96 9515.4 1173.2\n",
      "+ crim     1     72.33 9540.0 1174.1\n",
      "<none>                 9612.4 1174.7\n",
      "+ age      1     24.91 9587.5 1175.8\n",
      "+ indus    1     18.88 9593.5 1176.0\n",
      "+ zn       1     11.38 9601.0 1176.3\n",
      "+ nox      1      2.95 9609.4 1176.6\n",
      "\n",
      "Step:  AIC=1142.71\n",
      "medv ~ lstat + rm + ptratio\n",
      "\n",
      "        Df Sum of Sq    RSS    AIC\n",
      "+ dis    1    359.79 8371.6 1129.8\n",
      "+ chas   1    317.03 8414.4 1131.6\n",
      "+ b      1    209.64 8521.8 1136.1\n",
      "+ age    1     63.45 8667.9 1142.1\n",
      "<none>               8731.4 1142.7\n",
      "+ zn     1     35.22 8696.2 1143.3\n",
      "+ tax    1     21.97 8709.4 1143.8\n",
      "+ crim   1     15.68 8715.7 1144.1\n",
      "+ nox    1      4.89 8726.5 1144.5\n",
      "+ indus  1      2.54 8728.9 1144.6\n",
      "+ rad    1      1.11 8730.3 1144.7\n",
      "\n",
      "Step:  AIC=1129.81\n",
      "medv ~ lstat + rm + ptratio + dis\n",
      "\n",
      "        Df Sum of Sq    RSS    AIC\n",
      "+ nox    1    441.13 7930.5 1112.7\n",
      "+ b      1    256.50 8115.1 1120.8\n",
      "+ chas   1    203.33 8168.3 1123.1\n",
      "+ indus  1    153.33 8218.3 1125.3\n",
      "+ tax    1    139.23 8232.4 1125.9\n",
      "+ crim   1     54.13 8317.5 1129.5\n",
      "+ zn     1     51.65 8320.0 1129.6\n",
      "<none>               8371.6 1129.8\n",
      "+ age    1     32.62 8339.0 1130.4\n",
      "+ rad    1     18.69 8352.9 1131.0\n",
      "\n",
      "Step:  AIC=1112.65\n",
      "medv ~ lstat + rm + ptratio + dis + nox\n",
      "\n",
      "        Df Sum of Sq    RSS    AIC\n",
      "+ chas   1   310.346 7620.1 1100.5\n",
      "+ b      1   193.466 7737.0 1105.9\n",
      "+ zn     1    45.730 7884.7 1112.6\n",
      "<none>               7930.5 1112.7\n",
      "+ rad    1    20.501 7910.0 1113.7\n",
      "+ crim   1    17.325 7913.2 1113.9\n",
      "+ indus  1    12.687 7917.8 1114.1\n",
      "+ tax    1    10.430 7920.0 1114.2\n",
      "+ age    1     0.442 7930.0 1114.6\n",
      "\n",
      "Step:  AIC=1100.52\n",
      "medv ~ lstat + rm + ptratio + dis + nox + chas\n",
      "\n",
      "        Df Sum of Sq    RSS    AIC\n",
      "+ b      1   170.768 7449.4 1094.5\n",
      "+ zn     1    58.882 7561.2 1099.8\n",
      "<none>               7620.1 1100.5\n",
      "+ rad    1    23.748 7596.4 1101.4\n",
      "+ indus  1    22.025 7598.1 1101.5\n",
      "+ crim   1     8.764 7611.4 1102.1\n",
      "+ age    1     5.994 7614.1 1102.2\n",
      "+ tax    1     5.069 7615.1 1102.3\n",
      "\n",
      "Step:  AIC=1094.49\n",
      "medv ~ lstat + rm + ptratio + dis + nox + chas + b\n",
      "\n",
      "        Df Sum of Sq    RSS    AIC\n",
      "+ rad    1    69.111 7380.3 1093.2\n",
      "+ zn     1    68.337 7381.0 1093.2\n",
      "<none>               7449.4 1094.5\n",
      "+ indus  1    13.931 7435.4 1095.8\n",
      "+ age    1    12.593 7436.8 1095.9\n",
      "+ crim   1     1.409 7448.0 1096.4\n",
      "+ tax    1     0.408 7449.0 1096.5\n",
      "\n",
      "Step:  AIC=1093.19\n",
      "medv ~ lstat + rm + ptratio + dis + nox + chas + b + rad\n",
      "\n",
      "        Df Sum of Sq    RSS    AIC\n",
      "+ tax    1    81.701 7298.6 1091.2\n",
      "+ zn     1    48.296 7332.0 1092.9\n",
      "<none>               7380.3 1093.2\n",
      "+ indus  1    19.063 7361.2 1094.3\n",
      "+ crim   1    12.227 7368.0 1094.6\n",
      "+ age    1     6.939 7373.3 1094.9\n",
      "\n",
      "Step:  AIC=1091.25\n",
      "medv ~ lstat + rm + ptratio + dis + nox + chas + b + rad + tax\n",
      "\n",
      "        Df Sum of Sq    RSS    AIC\n",
      "+ zn     1    83.675 7214.9 1089.2\n",
      "<none>               7298.6 1091.2\n",
      "+ crim   1    15.075 7283.5 1092.5\n",
      "+ age    1     6.908 7291.6 1092.9\n",
      "+ indus  1     0.002 7298.5 1093.2\n",
      "\n",
      "Step:  AIC=1089.17\n",
      "medv ~ lstat + rm + ptratio + dis + nox + chas + b + rad + tax + \n",
      "    zn\n",
      "\n",
      "        Df Sum of Sq    RSS    AIC\n",
      "<none>               7214.9 1089.2\n",
      "+ crim   1   24.3375 7190.5 1090.0\n",
      "+ age    1    3.3037 7211.6 1091.0\n",
      "+ indus  1    1.7993 7213.1 1091.1\n"
     ]
    }
   ],
   "source": [
    "fwd.fit <- step(lm(medv ~ 1, train), \n",
    "                scope = (medv ~ crim + zn + indus + \n",
    "                         chas + nox + rm + age + dis + \n",
    "                         rad + tax + ptratio + b + lstat), \n",
    "                direction = \"forward\",\n",
    "                trace = 1)"
   ]
  },
  {
   "cell_type": "code",
   "execution_count": 53,
   "metadata": {
    "scrolled": true
   },
   "outputs": [
    {
     "name": "stdout",
     "output_type": "stream",
     "text": [
      "Start:  AIC=1093.7\n",
      "medv ~ crim + zn + indus + chas + nox + rm + age + dis + rad + \n",
      "    tax + ptratio + b + lstat\n",
      "\n",
      "          Df Sum of Sq    RSS    AIC\n",
      "- indus    1      1.69 7186.7 1091.8\n",
      "- age      1      4.04 7189.1 1091.9\n",
      "- crim     1     24.48 7209.5 1092.9\n",
      "<none>                 7185.0 1093.7\n",
      "- zn       1     90.74 7275.8 1096.2\n",
      "- tax      1    105.04 7290.1 1096.8\n",
      "- b        1    164.10 7349.1 1099.7\n",
      "- rad      1    175.35 7360.4 1100.2\n",
      "- chas     1    265.90 7450.9 1104.6\n",
      "- nox      1    350.63 7535.7 1108.6\n",
      "- ptratio  1    663.12 7848.2 1123.0\n",
      "- dis      1    768.56 7953.6 1127.7\n",
      "- lstat    1   1225.21 8410.3 1147.4\n",
      "- rm       1   1692.20 8877.2 1166.6\n",
      "\n",
      "Step:  AIC=1091.79\n",
      "medv ~ crim + zn + chas + nox + rm + age + dis + rad + tax + \n",
      "    ptratio + b + lstat\n",
      "\n",
      "          Df Sum of Sq    RSS    AIC\n",
      "- age      1      3.81 7190.5 1090.0\n",
      "- crim     1     24.84 7211.6 1091.0\n",
      "<none>                 7186.7 1091.8\n",
      "- zn       1     89.06 7275.8 1094.2\n",
      "- tax      1    122.86 7309.6 1095.8\n",
      "- b        1    162.99 7349.7 1097.7\n",
      "- rad      1    183.69 7370.4 1098.7\n",
      "- chas     1    273.08 7459.8 1103.0\n",
      "- nox      1    368.01 7554.7 1107.5\n",
      "- ptratio  1    664.58 7851.3 1121.1\n",
      "- dis      1    802.13 7988.9 1127.2\n",
      "- lstat    1   1223.54 8410.3 1145.4\n",
      "- rm       1   1694.06 8880.8 1164.7\n",
      "\n",
      "Step:  AIC=1089.97\n",
      "medv ~ crim + zn + chas + nox + rm + dis + rad + tax + ptratio + \n",
      "    b + lstat\n",
      "\n",
      "          Df Sum of Sq    RSS    AIC\n",
      "- crim     1     24.34 7214.9 1089.2\n",
      "<none>                 7190.5 1090.0\n",
      "- zn       1     92.94 7283.5 1092.5\n",
      "- tax      1    123.71 7314.2 1094.0\n",
      "- b        1    161.00 7351.5 1095.8\n",
      "- rad      1    187.66 7378.2 1097.1\n",
      "- chas     1    269.46 7460.0 1101.0\n",
      "- nox      1    410.00 7600.5 1107.6\n",
      "- ptratio  1    676.11 7866.6 1119.8\n",
      "- dis      1    863.03 8053.6 1128.1\n",
      "- lstat    1   1506.20 8696.7 1155.3\n",
      "- rm       1   1743.81 8934.3 1164.8\n",
      "\n",
      "Step:  AIC=1089.17\n",
      "medv ~ zn + chas + nox + rm + dis + rad + tax + ptratio + b + \n",
      "    lstat\n",
      "\n",
      "          Df Sum of Sq    RSS    AIC\n",
      "<none>                 7214.9 1089.2\n",
      "- zn       1     83.68 7298.6 1091.2\n",
      "- tax      1    117.08 7332.0 1092.9\n",
      "- rad      1    163.45 7378.3 1095.1\n",
      "- b        1    200.70 7415.6 1096.9\n",
      "- chas     1    280.18 7495.1 1100.7\n",
      "- nox      1    399.76 7614.6 1106.3\n",
      "- ptratio  1    664.76 7879.6 1118.4\n",
      "- dis      1    840.33 8055.2 1126.2\n",
      "- lstat    1   1609.28 8824.2 1158.5\n",
      "- rm       1   1785.14 9000.0 1165.4\n"
     ]
    },
    {
     "data": {
      "text/plain": [
       "\n",
       "Call:\n",
       "lm(formula = medv ~ zn + chas + nox + rm + dis + rad + tax + \n",
       "    ptratio + b + lstat, data = train)\n",
       "\n",
       "Residuals:\n",
       "     Min       1Q   Median       3Q      Max \n",
       "-17.1532  -2.5170  -0.6073   1.6858  23.9016 \n",
       "\n",
       "Coefficients:\n",
       "              Estimate Std. Error t value Pr(>|t|)    \n",
       "(Intercept)  29.132834   6.018328   4.841 1.96e-06 ***\n",
       "zn            0.030731   0.015408   1.994 0.046890 *  \n",
       "chas1         3.576418   0.979940   3.650 0.000303 ***\n",
       "nox         -17.818002   4.087198  -4.359 1.73e-05 ***\n",
       "rm            4.489725   0.487361   9.212  < 2e-16 ***\n",
       "dis          -1.396723   0.220980  -6.321 8.10e-10 ***\n",
       "rad           0.184230   0.066091   2.788 0.005607 ** \n",
       "tax          -0.008666   0.003673  -2.359 0.018872 *  \n",
       "ptratio      -0.848169   0.150875  -5.622 3.92e-08 ***\n",
       "b             0.009987   0.003233   3.089 0.002173 ** \n",
       "lstat        -0.506699   0.057930  -8.747  < 2e-16 ***\n",
       "---\n",
       "Signif. codes:  0 '***' 0.001 '**' 0.01 '*' 0.05 '.' 0.1 ' ' 1\n",
       "\n",
       "Residual standard error: 4.586 on 343 degrees of freedom\n",
       "Multiple R-squared:  0.7501,\tAdjusted R-squared:  0.7428 \n",
       "F-statistic: 102.9 on 10 and 343 DF,  p-value: < 2.2e-16\n"
      ]
     },
     "metadata": {},
     "output_type": "display_data"
    }
   ],
   "source": [
    "bwd.fit <- step(lm(medv ~ ., train), \n",
    "                scope = (lower = medv ~ 1), \n",
    "                direction = \"backward\", \n",
    "                trace = 1)\n",
    "summary(bwd.fit)"
   ]
  },
  {
   "cell_type": "markdown",
   "metadata": {},
   "source": [
    "BostonHousing 데이터에서는 forward와 backward 방법 모두 같은 변수들을 선택했다."
   ]
  },
  {
   "cell_type": "code",
   "execution_count": 67,
   "metadata": {},
   "outputs": [
    {
     "name": "stdout",
     "output_type": "stream",
     "text": [
      "medv ~ lstat + rm + ptratio + dis + nox + chas + b + rad + tax + \n",
      "    zn\n",
      "medv ~ zn + chas + nox + rm + dis + rad + tax + ptratio + b + \n",
      "    lstat\n"
     ]
    }
   ],
   "source": [
    "print(formula(fwd.fit))\n",
    "print(formula(bwd.fit))"
   ]
  },
  {
   "cell_type": "markdown",
   "metadata": {},
   "source": [
    "전체 변수를 넣은 모델과 forward, backward 방법을 사용한 모델들은 5-folds cross validation을 통해 RMSE를 구하면 다음과 같다."
   ]
  },
  {
   "cell_type": "code",
   "execution_count": 68,
   "metadata": {},
   "outputs": [
    {
     "name": "stdout",
     "output_type": "stream",
     "text": [
      "    method     rmse\n",
      "1     base 4.906078\n",
      "2  forward 4.755408\n",
      "3 backward 4.755408\n"
     ]
    }
   ],
   "source": [
    "# Set seed\n",
    "set.seed(1990)\n",
    "\n",
    "# Set parameters\n",
    "kfolds <- 5\n",
    "folds <- sample(cut(1:nrow(BostonHousing), breaks = kfolds, label = F))\n",
    "\n",
    "# 5 folds cv\n",
    "base.pred <- rep(0, nrow(BostonHousing))\n",
    "fwd.pred <- rep(0, nrow(BostonHousing))\n",
    "bwd.pred <- rep(0, nrow(BostonHousing))\n",
    "for (k in 1:kfolds) {\n",
    "    train.id   <- which(folds != k)\n",
    "    train_fold <- BostonHousing[train.id,]\n",
    "    test_fold  <- BostonHousing[-train.id,]\n",
    "    \n",
    "    base.fit  <- lm(medv ~ ., data = train_fold)\n",
    "    fwd.fit <- step(lm(medv ~ 1, train), \n",
    "                    scope = (medv ~ crim + zn + indus + \n",
    "                             chas + nox + rm + age + dis + \n",
    "                             rad + tax + ptratio + b + lstat), \n",
    "                    trace = 0)\n",
    "    bwd.fit <- step(lm(medv ~ ., train),\n",
    "                    scope = (lower = medv ~ 1), \n",
    "                    direction = \"backward\", \n",
    "                    trace = 0)\n",
    "    \n",
    "    base.pred[-train.id]  <- predict(base.fit, test_fold)\n",
    "    fwd.pred[-train.id]   <- predict(fwd.fit, test_fold)\n",
    "    bwd.pred[-train.id]   <- predict(bwd.fit, test_fold)\n",
    "}\n",
    "\n",
    "step.df <- data.frame(method = c(\"base\", \"forward\", \"backward\"), \n",
    "                     rmse = c(sqrt(mean((base.pred - BostonHousing$medv)^2)),\n",
    "                              sqrt(mean((fwd.pred - BostonHousing$medv)^2)),\n",
    "                              sqrt(mean((bwd.pred - BostonHousing$medv)^2))))\n",
    "print(step.df)"
   ]
  }
 ],
 "metadata": {
  "kernelspec": {
   "display_name": "R",
   "language": "R",
   "name": "ir"
  },
  "language_info": {
   "codemirror_mode": "r",
   "file_extension": ".r",
   "mimetype": "text/x-r-source",
   "name": "R",
   "pygments_lexer": "r",
   "version": "3.4.3"
  }
 },
 "nbformat": 4,
 "nbformat_minor": 2
}
